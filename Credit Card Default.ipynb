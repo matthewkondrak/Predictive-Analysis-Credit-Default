{
  "cells": [
    {
      "cell_type": "markdown",
      "metadata": {
        "id": "bqg0FS6lZjWK"
      },
      "source": [
        "# Predictive Analysis: Default of Credit Card Clients\n"
      ]
    },
    {
      "cell_type": "code",
      "execution_count": 1,
      "metadata": {
        "id": "C9RxGDPdZl8u"
      },
      "outputs": [],
      "source": [
        "import warnings\n",
        "warnings.filterwarnings('ignore')\n",
        "warnings.simplefilter('ignore')\n",
        "\n",
        "import gc\n",
        "import matplotlib\n",
        "import numpy as np\n",
        "import pandas as pd\n",
        "import seaborn as sns\n",
        "import xgboost as xgb\n",
        "import lightgbm as lgb\n",
        "import matplotlib.pyplot as plt\n",
        "%matplotlib inline \n",
        "\n",
        "from datetime import datetime \n",
        "from pandas import to_datetime\n",
        "from sklearn import metrics, tree\n",
        "from matplotlib import pyplot as plt\n",
        "from matplotlib.ticker import FuncFormatter\n",
        "from numpy.random.mtrand import _rand as global_randstate\n",
        "\n",
        "from collections import Counter\n",
        "from imblearn.over_sampling import RandomOverSampler\n",
        "from imblearn.under_sampling import RandomUnderSampler\n",
        "\n",
        "from sklearn.svm import SVC\n",
        "from sklearn.utils import resample\n",
        "from sklearn.pipeline import Pipeline\n",
        "from sklearn.dummy import DummyClassifier\n",
        "from sklearn.naive_bayes import GaussianNB\n",
        "from sklearn.tree import DecisionTreeClassifier\n",
        "from sklearn.neighbors import KNeighborsClassifier\n",
        "from sklearn.feature_selection import SelectFromModel\n",
        "from sklearn.preprocessing import StandardScaler, OneHotEncoder\n",
        "from sklearn.linear_model import LogisticRegression, SGDClassifier\n",
        "from sklearn.compose import ColumnTransformer, make_column_selector\n",
        "from sklearn.ensemble import RandomForestClassifier, ExtraTreesClassifier, AdaBoostClassifier\n",
        "from sklearn.model_selection import train_test_split, KFold, GridSearchCV, cross_val_score, RandomizedSearchCV \n",
        "from sklearn.metrics import precision_score, recall_score, roc_auc_score,roc_curve,auc, plot_confusion_matrix, f1_score\n",
        "from sklearn.metrics import accuracy_score, balanced_accuracy_score, confusion_matrix, plot_precision_recall_curve, classification_report"
      ]
    },
    {
      "cell_type": "code",
      "execution_count": 2,
      "metadata": {
        "id": "Uk5zoLjLZl83"
      },
      "outputs": [
        {
          "data": {
            "text/html": [
              "<div>\n",
              "<style scoped>\n",
              "    .dataframe tbody tr th:only-of-type {\n",
              "        vertical-align: middle;\n",
              "    }\n",
              "\n",
              "    .dataframe tbody tr th {\n",
              "        vertical-align: top;\n",
              "    }\n",
              "\n",
              "    .dataframe thead th {\n",
              "        text-align: right;\n",
              "    }\n",
              "</style>\n",
              "<table border=\"1\" class=\"dataframe\">\n",
              "  <thead>\n",
              "    <tr style=\"text-align: right;\">\n",
              "      <th></th>\n",
              "      <th>ID</th>\n",
              "      <th>LIMIT_BAL</th>\n",
              "      <th>SEX</th>\n",
              "      <th>EDUCATION</th>\n",
              "      <th>MARRIAGE</th>\n",
              "      <th>AGE</th>\n",
              "      <th>PAY_0</th>\n",
              "      <th>PAY_2</th>\n",
              "      <th>PAY_3</th>\n",
              "      <th>PAY_4</th>\n",
              "      <th>...</th>\n",
              "      <th>BILL_AMT4</th>\n",
              "      <th>BILL_AMT5</th>\n",
              "      <th>BILL_AMT6</th>\n",
              "      <th>PAY_AMT1</th>\n",
              "      <th>PAY_AMT2</th>\n",
              "      <th>PAY_AMT3</th>\n",
              "      <th>PAY_AMT4</th>\n",
              "      <th>PAY_AMT5</th>\n",
              "      <th>PAY_AMT6</th>\n",
              "      <th>default payment next month</th>\n",
              "    </tr>\n",
              "  </thead>\n",
              "  <tbody>\n",
              "    <tr>\n",
              "      <th>1</th>\n",
              "      <td>1</td>\n",
              "      <td>20000</td>\n",
              "      <td>2</td>\n",
              "      <td>2</td>\n",
              "      <td>1</td>\n",
              "      <td>24</td>\n",
              "      <td>2</td>\n",
              "      <td>2</td>\n",
              "      <td>-1</td>\n",
              "      <td>-1</td>\n",
              "      <td>...</td>\n",
              "      <td>0</td>\n",
              "      <td>0</td>\n",
              "      <td>0</td>\n",
              "      <td>0</td>\n",
              "      <td>689</td>\n",
              "      <td>0</td>\n",
              "      <td>0</td>\n",
              "      <td>0</td>\n",
              "      <td>0</td>\n",
              "      <td>1</td>\n",
              "    </tr>\n",
              "    <tr>\n",
              "      <th>2</th>\n",
              "      <td>2</td>\n",
              "      <td>120000</td>\n",
              "      <td>2</td>\n",
              "      <td>2</td>\n",
              "      <td>2</td>\n",
              "      <td>26</td>\n",
              "      <td>-1</td>\n",
              "      <td>2</td>\n",
              "      <td>0</td>\n",
              "      <td>0</td>\n",
              "      <td>...</td>\n",
              "      <td>3272</td>\n",
              "      <td>3455</td>\n",
              "      <td>3261</td>\n",
              "      <td>0</td>\n",
              "      <td>1000</td>\n",
              "      <td>1000</td>\n",
              "      <td>1000</td>\n",
              "      <td>0</td>\n",
              "      <td>2000</td>\n",
              "      <td>1</td>\n",
              "    </tr>\n",
              "    <tr>\n",
              "      <th>3</th>\n",
              "      <td>3</td>\n",
              "      <td>90000</td>\n",
              "      <td>2</td>\n",
              "      <td>2</td>\n",
              "      <td>2</td>\n",
              "      <td>34</td>\n",
              "      <td>0</td>\n",
              "      <td>0</td>\n",
              "      <td>0</td>\n",
              "      <td>0</td>\n",
              "      <td>...</td>\n",
              "      <td>14331</td>\n",
              "      <td>14948</td>\n",
              "      <td>15549</td>\n",
              "      <td>1518</td>\n",
              "      <td>1500</td>\n",
              "      <td>1000</td>\n",
              "      <td>1000</td>\n",
              "      <td>1000</td>\n",
              "      <td>5000</td>\n",
              "      <td>0</td>\n",
              "    </tr>\n",
              "    <tr>\n",
              "      <th>4</th>\n",
              "      <td>4</td>\n",
              "      <td>50000</td>\n",
              "      <td>2</td>\n",
              "      <td>2</td>\n",
              "      <td>1</td>\n",
              "      <td>37</td>\n",
              "      <td>0</td>\n",
              "      <td>0</td>\n",
              "      <td>0</td>\n",
              "      <td>0</td>\n",
              "      <td>...</td>\n",
              "      <td>28314</td>\n",
              "      <td>28959</td>\n",
              "      <td>29547</td>\n",
              "      <td>2000</td>\n",
              "      <td>2019</td>\n",
              "      <td>1200</td>\n",
              "      <td>1100</td>\n",
              "      <td>1069</td>\n",
              "      <td>1000</td>\n",
              "      <td>0</td>\n",
              "    </tr>\n",
              "    <tr>\n",
              "      <th>5</th>\n",
              "      <td>5</td>\n",
              "      <td>50000</td>\n",
              "      <td>1</td>\n",
              "      <td>2</td>\n",
              "      <td>1</td>\n",
              "      <td>57</td>\n",
              "      <td>-1</td>\n",
              "      <td>0</td>\n",
              "      <td>-1</td>\n",
              "      <td>0</td>\n",
              "      <td>...</td>\n",
              "      <td>20940</td>\n",
              "      <td>19146</td>\n",
              "      <td>19131</td>\n",
              "      <td>2000</td>\n",
              "      <td>36681</td>\n",
              "      <td>10000</td>\n",
              "      <td>9000</td>\n",
              "      <td>689</td>\n",
              "      <td>679</td>\n",
              "      <td>0</td>\n",
              "    </tr>\n",
              "    <tr>\n",
              "      <th>...</th>\n",
              "      <td>...</td>\n",
              "      <td>...</td>\n",
              "      <td>...</td>\n",
              "      <td>...</td>\n",
              "      <td>...</td>\n",
              "      <td>...</td>\n",
              "      <td>...</td>\n",
              "      <td>...</td>\n",
              "      <td>...</td>\n",
              "      <td>...</td>\n",
              "      <td>...</td>\n",
              "      <td>...</td>\n",
              "      <td>...</td>\n",
              "      <td>...</td>\n",
              "      <td>...</td>\n",
              "      <td>...</td>\n",
              "      <td>...</td>\n",
              "      <td>...</td>\n",
              "      <td>...</td>\n",
              "      <td>...</td>\n",
              "      <td>...</td>\n",
              "    </tr>\n",
              "    <tr>\n",
              "      <th>29996</th>\n",
              "      <td>29996</td>\n",
              "      <td>220000</td>\n",
              "      <td>1</td>\n",
              "      <td>3</td>\n",
              "      <td>1</td>\n",
              "      <td>39</td>\n",
              "      <td>0</td>\n",
              "      <td>0</td>\n",
              "      <td>0</td>\n",
              "      <td>0</td>\n",
              "      <td>...</td>\n",
              "      <td>88004</td>\n",
              "      <td>31237</td>\n",
              "      <td>15980</td>\n",
              "      <td>8500</td>\n",
              "      <td>20000</td>\n",
              "      <td>5003</td>\n",
              "      <td>3047</td>\n",
              "      <td>5000</td>\n",
              "      <td>1000</td>\n",
              "      <td>0</td>\n",
              "    </tr>\n",
              "    <tr>\n",
              "      <th>29997</th>\n",
              "      <td>29997</td>\n",
              "      <td>150000</td>\n",
              "      <td>1</td>\n",
              "      <td>3</td>\n",
              "      <td>2</td>\n",
              "      <td>43</td>\n",
              "      <td>-1</td>\n",
              "      <td>-1</td>\n",
              "      <td>-1</td>\n",
              "      <td>-1</td>\n",
              "      <td>...</td>\n",
              "      <td>8979</td>\n",
              "      <td>5190</td>\n",
              "      <td>0</td>\n",
              "      <td>1837</td>\n",
              "      <td>3526</td>\n",
              "      <td>8998</td>\n",
              "      <td>129</td>\n",
              "      <td>0</td>\n",
              "      <td>0</td>\n",
              "      <td>0</td>\n",
              "    </tr>\n",
              "    <tr>\n",
              "      <th>29998</th>\n",
              "      <td>29998</td>\n",
              "      <td>30000</td>\n",
              "      <td>1</td>\n",
              "      <td>2</td>\n",
              "      <td>2</td>\n",
              "      <td>37</td>\n",
              "      <td>4</td>\n",
              "      <td>3</td>\n",
              "      <td>2</td>\n",
              "      <td>-1</td>\n",
              "      <td>...</td>\n",
              "      <td>20878</td>\n",
              "      <td>20582</td>\n",
              "      <td>19357</td>\n",
              "      <td>0</td>\n",
              "      <td>0</td>\n",
              "      <td>22000</td>\n",
              "      <td>4200</td>\n",
              "      <td>2000</td>\n",
              "      <td>3100</td>\n",
              "      <td>1</td>\n",
              "    </tr>\n",
              "    <tr>\n",
              "      <th>29999</th>\n",
              "      <td>29999</td>\n",
              "      <td>80000</td>\n",
              "      <td>1</td>\n",
              "      <td>3</td>\n",
              "      <td>1</td>\n",
              "      <td>41</td>\n",
              "      <td>1</td>\n",
              "      <td>-1</td>\n",
              "      <td>0</td>\n",
              "      <td>0</td>\n",
              "      <td>...</td>\n",
              "      <td>52774</td>\n",
              "      <td>11855</td>\n",
              "      <td>48944</td>\n",
              "      <td>85900</td>\n",
              "      <td>3409</td>\n",
              "      <td>1178</td>\n",
              "      <td>1926</td>\n",
              "      <td>52964</td>\n",
              "      <td>1804</td>\n",
              "      <td>1</td>\n",
              "    </tr>\n",
              "    <tr>\n",
              "      <th>30000</th>\n",
              "      <td>30000</td>\n",
              "      <td>50000</td>\n",
              "      <td>1</td>\n",
              "      <td>2</td>\n",
              "      <td>1</td>\n",
              "      <td>46</td>\n",
              "      <td>0</td>\n",
              "      <td>0</td>\n",
              "      <td>0</td>\n",
              "      <td>0</td>\n",
              "      <td>...</td>\n",
              "      <td>36535</td>\n",
              "      <td>32428</td>\n",
              "      <td>15313</td>\n",
              "      <td>2078</td>\n",
              "      <td>1800</td>\n",
              "      <td>1430</td>\n",
              "      <td>1000</td>\n",
              "      <td>1000</td>\n",
              "      <td>1000</td>\n",
              "      <td>1</td>\n",
              "    </tr>\n",
              "  </tbody>\n",
              "</table>\n",
              "<p>30000 rows × 25 columns</p>\n",
              "</div>"
            ],
            "text/plain": [
              "0         ID LIMIT_BAL SEX EDUCATION MARRIAGE AGE PAY_0 PAY_2 PAY_3 PAY_4  \\\n",
              "1          1     20000   2         2        1  24     2     2    -1    -1   \n",
              "2          2    120000   2         2        2  26    -1     2     0     0   \n",
              "3          3     90000   2         2        2  34     0     0     0     0   \n",
              "4          4     50000   2         2        1  37     0     0     0     0   \n",
              "5          5     50000   1         2        1  57    -1     0    -1     0   \n",
              "...      ...       ...  ..       ...      ...  ..   ...   ...   ...   ...   \n",
              "29996  29996    220000   1         3        1  39     0     0     0     0   \n",
              "29997  29997    150000   1         3        2  43    -1    -1    -1    -1   \n",
              "29998  29998     30000   1         2        2  37     4     3     2    -1   \n",
              "29999  29999     80000   1         3        1  41     1    -1     0     0   \n",
              "30000  30000     50000   1         2        1  46     0     0     0     0   \n",
              "\n",
              "0      ... BILL_AMT4 BILL_AMT5 BILL_AMT6 PAY_AMT1 PAY_AMT2 PAY_AMT3 PAY_AMT4  \\\n",
              "1      ...         0         0         0        0      689        0        0   \n",
              "2      ...      3272      3455      3261        0     1000     1000     1000   \n",
              "3      ...     14331     14948     15549     1518     1500     1000     1000   \n",
              "4      ...     28314     28959     29547     2000     2019     1200     1100   \n",
              "5      ...     20940     19146     19131     2000    36681    10000     9000   \n",
              "...    ...       ...       ...       ...      ...      ...      ...      ...   \n",
              "29996  ...     88004     31237     15980     8500    20000     5003     3047   \n",
              "29997  ...      8979      5190         0     1837     3526     8998      129   \n",
              "29998  ...     20878     20582     19357        0        0    22000     4200   \n",
              "29999  ...     52774     11855     48944    85900     3409     1178     1926   \n",
              "30000  ...     36535     32428     15313     2078     1800     1430     1000   \n",
              "\n",
              "0     PAY_AMT5 PAY_AMT6 default payment next month  \n",
              "1            0        0                          1  \n",
              "2            0     2000                          1  \n",
              "3         1000     5000                          0  \n",
              "4         1069     1000                          0  \n",
              "5          689      679                          0  \n",
              "...        ...      ...                        ...  \n",
              "29996     5000     1000                          0  \n",
              "29997        0        0                          0  \n",
              "29998     2000     3100                          1  \n",
              "29999    52964     1804                          1  \n",
              "30000     1000     1000                          1  \n",
              "\n",
              "[30000 rows x 25 columns]"
            ]
          },
          "execution_count": 2,
          "metadata": {},
          "output_type": "execute_result"
        }
      ],
      "source": [
        "#importing the dataset\n",
        "data_df = pd.read_excel(r'/Users/matthewkondrak/Desktop/default.xls', header = 0)\n",
        "new_header = data_df.iloc[0]\n",
        "df1 = data_df[1:]\n",
        "df1.columns = new_header\n",
        "df1"
      ]
    },
    {
      "cell_type": "markdown",
      "metadata": {
        "id": "TruICIOvDMIL"
      },
      "source": [
        "Data Description"
      ]
    },
    {
      "cell_type": "code",
      "execution_count": 3,
      "metadata": {
        "colab": {
          "base_uri": "https://localhost:8080/"
        },
        "id": "d-rIQqkHV33y",
        "outputId": "3272d6cc-7dd1-4abf-e2f2-9ffb6413097a"
      },
      "outputs": [
        {
          "name": "stdout",
          "output_type": "stream",
          "text": [
            "<class 'pandas.core.frame.DataFrame'>\n",
            "RangeIndex: 30000 entries, 1 to 30000\n",
            "Data columns (total 25 columns):\n",
            " #   Column                      Non-Null Count  Dtype \n",
            "---  ------                      --------------  ----- \n",
            " 0   ID                          30000 non-null  object\n",
            " 1   LIMIT_BAL                   30000 non-null  object\n",
            " 2   SEX                         30000 non-null  object\n",
            " 3   EDUCATION                   30000 non-null  object\n",
            " 4   MARRIAGE                    30000 non-null  object\n",
            " 5   AGE                         30000 non-null  object\n",
            " 6   PAY_0                       30000 non-null  object\n",
            " 7   PAY_2                       30000 non-null  object\n",
            " 8   PAY_3                       30000 non-null  object\n",
            " 9   PAY_4                       30000 non-null  object\n",
            " 10  PAY_5                       30000 non-null  object\n",
            " 11  PAY_6                       30000 non-null  object\n",
            " 12  BILL_AMT1                   30000 non-null  object\n",
            " 13  BILL_AMT2                   30000 non-null  object\n",
            " 14  BILL_AMT3                   30000 non-null  object\n",
            " 15  BILL_AMT4                   30000 non-null  object\n",
            " 16  BILL_AMT5                   30000 non-null  object\n",
            " 17  BILL_AMT6                   30000 non-null  object\n",
            " 18  PAY_AMT1                    30000 non-null  object\n",
            " 19  PAY_AMT2                    30000 non-null  object\n",
            " 20  PAY_AMT3                    30000 non-null  object\n",
            " 21  PAY_AMT4                    30000 non-null  object\n",
            " 22  PAY_AMT5                    30000 non-null  object\n",
            " 23  PAY_AMT6                    30000 non-null  object\n",
            " 24  default payment next month  30000 non-null  object\n",
            "dtypes: object(25)\n",
            "memory usage: 5.7+ MB\n"
          ]
        }
      ],
      "source": [
        "df1.info()"
      ]
    },
    {
      "cell_type": "code",
      "execution_count": 4,
      "metadata": {
        "id": "6G8PcMhtWgvu"
      },
      "outputs": [
        {
          "name": "stdout",
          "output_type": "stream",
          "text": [
            "<class 'pandas.core.frame.DataFrame'>\n",
            "RangeIndex: 30000 entries, 1 to 30000\n",
            "Data columns (total 25 columns):\n",
            " #   Column                      Non-Null Count  Dtype  \n",
            "---  ------                      --------------  -----  \n",
            " 0   ID                          30000 non-null  int64  \n",
            " 1   LIMIT_BAL                   30000 non-null  float64\n",
            " 2   SEX                         30000 non-null  int64  \n",
            " 3   EDUCATION                   30000 non-null  int64  \n",
            " 4   MARRIAGE                    30000 non-null  int64  \n",
            " 5   AGE                         30000 non-null  int64  \n",
            " 6   PAY_0                       30000 non-null  int64  \n",
            " 7   PAY_2                       30000 non-null  int64  \n",
            " 8   PAY_3                       30000 non-null  int64  \n",
            " 9   PAY_4                       30000 non-null  int64  \n",
            " 10  PAY_5                       30000 non-null  int64  \n",
            " 11  PAY_6                       30000 non-null  int64  \n",
            " 12  BILL_AMT1                   30000 non-null  float64\n",
            " 13  BILL_AMT2                   30000 non-null  float64\n",
            " 14  BILL_AMT3                   30000 non-null  float64\n",
            " 15  BILL_AMT4                   30000 non-null  float64\n",
            " 16  BILL_AMT5                   30000 non-null  float64\n",
            " 17  BILL_AMT6                   30000 non-null  float64\n",
            " 18  PAY_AMT1                    30000 non-null  float64\n",
            " 19  PAY_AMT2                    30000 non-null  float64\n",
            " 20  PAY_AMT3                    30000 non-null  float64\n",
            " 21  PAY_AMT4                    30000 non-null  float64\n",
            " 22  PAY_AMT5                    30000 non-null  float64\n",
            " 23  PAY_AMT6                    30000 non-null  float64\n",
            " 24  default payment next month  30000 non-null  int64  \n",
            "dtypes: float64(13), int64(12)\n",
            "memory usage: 5.7 MB\n"
          ]
        }
      ],
      "source": [
        "#Updating the Data Type to float64 for dollars amount features for later training models and int64 for the rest of the data\n",
        "df1 = df1.astype({'ID':'int64',\n",
        "                 'LIMIT_BAL':'float64',\n",
        "                 'SEX':'int64',\n",
        "                 'EDUCATION':'int64',\n",
        "                 'MARRIAGE':'int64',\n",
        "                 'AGE':'int64',\n",
        "                 'PAY_0':'int64',\n",
        "                 'PAY_2':'int64',\n",
        "                 'PAY_3':'int64',\n",
        "                 'PAY_4':'int64',\n",
        "                 'PAY_5':'int64',\n",
        "                 'PAY_6':'int64',\n",
        "                 'BILL_AMT1':'float64',\n",
        "                 'BILL_AMT2':'float64',\n",
        "                 'BILL_AMT3':'float64',\n",
        "                 'BILL_AMT4':'float64',\n",
        "                 'BILL_AMT5':'float64',\n",
        "                 'BILL_AMT6':'float64',\n",
        "                 'PAY_AMT1':'float64',\n",
        "                 'PAY_AMT2':'float64',\n",
        "                 'PAY_AMT3':'float64',\n",
        "                 'PAY_AMT4':'float64',\n",
        "                 'PAY_AMT5':'float64',\n",
        "                 'PAY_AMT6':'float64',\n",
        "                 'default payment next month':'int64'\n",
        "                 })\n",
        "\n",
        "df1.info()"
      ]
    },
    {
      "cell_type": "code",
      "execution_count": 5,
      "metadata": {
        "colab": {
          "base_uri": "https://localhost:8080/",
          "height": 351
        },
        "id": "u8OqB1LKWsji",
        "outputId": "e768888c-9574-487d-f063-0d8c7d9d8977"
      },
      "outputs": [
        {
          "data": {
            "text/html": [
              "<div>\n",
              "<style scoped>\n",
              "    .dataframe tbody tr th:only-of-type {\n",
              "        vertical-align: middle;\n",
              "    }\n",
              "\n",
              "    .dataframe tbody tr th {\n",
              "        vertical-align: top;\n",
              "    }\n",
              "\n",
              "    .dataframe thead th {\n",
              "        text-align: right;\n",
              "    }\n",
              "</style>\n",
              "<table border=\"1\" class=\"dataframe\">\n",
              "  <thead>\n",
              "    <tr style=\"text-align: right;\">\n",
              "      <th></th>\n",
              "      <th>ID</th>\n",
              "      <th>LIMIT_BAL</th>\n",
              "      <th>SEX</th>\n",
              "      <th>EDUCATION</th>\n",
              "      <th>MARRIAGE</th>\n",
              "      <th>AGE</th>\n",
              "      <th>PAY_0</th>\n",
              "      <th>PAY_2</th>\n",
              "      <th>PAY_3</th>\n",
              "      <th>PAY_4</th>\n",
              "      <th>...</th>\n",
              "      <th>BILL_AMT4</th>\n",
              "      <th>BILL_AMT5</th>\n",
              "      <th>BILL_AMT6</th>\n",
              "      <th>PAY_AMT1</th>\n",
              "      <th>PAY_AMT2</th>\n",
              "      <th>PAY_AMT3</th>\n",
              "      <th>PAY_AMT4</th>\n",
              "      <th>PAY_AMT5</th>\n",
              "      <th>PAY_AMT6</th>\n",
              "      <th>default payment next month</th>\n",
              "    </tr>\n",
              "  </thead>\n",
              "  <tbody>\n",
              "    <tr>\n",
              "      <th>count</th>\n",
              "      <td>30000.000000</td>\n",
              "      <td>30000.000000</td>\n",
              "      <td>30000.000000</td>\n",
              "      <td>30000.000000</td>\n",
              "      <td>30000.000000</td>\n",
              "      <td>30000.000000</td>\n",
              "      <td>30000.000000</td>\n",
              "      <td>30000.000000</td>\n",
              "      <td>30000.000000</td>\n",
              "      <td>30000.000000</td>\n",
              "      <td>...</td>\n",
              "      <td>30000.000000</td>\n",
              "      <td>30000.000000</td>\n",
              "      <td>30000.000000</td>\n",
              "      <td>30000.000000</td>\n",
              "      <td>3.000000e+04</td>\n",
              "      <td>30000.00000</td>\n",
              "      <td>30000.000000</td>\n",
              "      <td>30000.000000</td>\n",
              "      <td>30000.000000</td>\n",
              "      <td>30000.000000</td>\n",
              "    </tr>\n",
              "    <tr>\n",
              "      <th>mean</th>\n",
              "      <td>15000.500000</td>\n",
              "      <td>167484.322667</td>\n",
              "      <td>1.603733</td>\n",
              "      <td>1.853133</td>\n",
              "      <td>1.551867</td>\n",
              "      <td>35.485500</td>\n",
              "      <td>-0.016700</td>\n",
              "      <td>-0.133767</td>\n",
              "      <td>-0.166200</td>\n",
              "      <td>-0.220667</td>\n",
              "      <td>...</td>\n",
              "      <td>43262.948967</td>\n",
              "      <td>40311.400967</td>\n",
              "      <td>38871.760400</td>\n",
              "      <td>5663.580500</td>\n",
              "      <td>5.921163e+03</td>\n",
              "      <td>5225.68150</td>\n",
              "      <td>4826.076867</td>\n",
              "      <td>4799.387633</td>\n",
              "      <td>5215.502567</td>\n",
              "      <td>0.221200</td>\n",
              "    </tr>\n",
              "    <tr>\n",
              "      <th>std</th>\n",
              "      <td>8660.398374</td>\n",
              "      <td>129747.661567</td>\n",
              "      <td>0.489129</td>\n",
              "      <td>0.790349</td>\n",
              "      <td>0.521970</td>\n",
              "      <td>9.217904</td>\n",
              "      <td>1.123802</td>\n",
              "      <td>1.197186</td>\n",
              "      <td>1.196868</td>\n",
              "      <td>1.169139</td>\n",
              "      <td>...</td>\n",
              "      <td>64332.856134</td>\n",
              "      <td>60797.155770</td>\n",
              "      <td>59554.107537</td>\n",
              "      <td>16563.280354</td>\n",
              "      <td>2.304087e+04</td>\n",
              "      <td>17606.96147</td>\n",
              "      <td>15666.159744</td>\n",
              "      <td>15278.305679</td>\n",
              "      <td>17777.465775</td>\n",
              "      <td>0.415062</td>\n",
              "    </tr>\n",
              "    <tr>\n",
              "      <th>min</th>\n",
              "      <td>1.000000</td>\n",
              "      <td>10000.000000</td>\n",
              "      <td>1.000000</td>\n",
              "      <td>0.000000</td>\n",
              "      <td>0.000000</td>\n",
              "      <td>21.000000</td>\n",
              "      <td>-2.000000</td>\n",
              "      <td>-2.000000</td>\n",
              "      <td>-2.000000</td>\n",
              "      <td>-2.000000</td>\n",
              "      <td>...</td>\n",
              "      <td>-170000.000000</td>\n",
              "      <td>-81334.000000</td>\n",
              "      <td>-339603.000000</td>\n",
              "      <td>0.000000</td>\n",
              "      <td>0.000000e+00</td>\n",
              "      <td>0.00000</td>\n",
              "      <td>0.000000</td>\n",
              "      <td>0.000000</td>\n",
              "      <td>0.000000</td>\n",
              "      <td>0.000000</td>\n",
              "    </tr>\n",
              "    <tr>\n",
              "      <th>25%</th>\n",
              "      <td>7500.750000</td>\n",
              "      <td>50000.000000</td>\n",
              "      <td>1.000000</td>\n",
              "      <td>1.000000</td>\n",
              "      <td>1.000000</td>\n",
              "      <td>28.000000</td>\n",
              "      <td>-1.000000</td>\n",
              "      <td>-1.000000</td>\n",
              "      <td>-1.000000</td>\n",
              "      <td>-1.000000</td>\n",
              "      <td>...</td>\n",
              "      <td>2326.750000</td>\n",
              "      <td>1763.000000</td>\n",
              "      <td>1256.000000</td>\n",
              "      <td>1000.000000</td>\n",
              "      <td>8.330000e+02</td>\n",
              "      <td>390.00000</td>\n",
              "      <td>296.000000</td>\n",
              "      <td>252.500000</td>\n",
              "      <td>117.750000</td>\n",
              "      <td>0.000000</td>\n",
              "    </tr>\n",
              "    <tr>\n",
              "      <th>50%</th>\n",
              "      <td>15000.500000</td>\n",
              "      <td>140000.000000</td>\n",
              "      <td>2.000000</td>\n",
              "      <td>2.000000</td>\n",
              "      <td>2.000000</td>\n",
              "      <td>34.000000</td>\n",
              "      <td>0.000000</td>\n",
              "      <td>0.000000</td>\n",
              "      <td>0.000000</td>\n",
              "      <td>0.000000</td>\n",
              "      <td>...</td>\n",
              "      <td>19052.000000</td>\n",
              "      <td>18104.500000</td>\n",
              "      <td>17071.000000</td>\n",
              "      <td>2100.000000</td>\n",
              "      <td>2.009000e+03</td>\n",
              "      <td>1800.00000</td>\n",
              "      <td>1500.000000</td>\n",
              "      <td>1500.000000</td>\n",
              "      <td>1500.000000</td>\n",
              "      <td>0.000000</td>\n",
              "    </tr>\n",
              "    <tr>\n",
              "      <th>75%</th>\n",
              "      <td>22500.250000</td>\n",
              "      <td>240000.000000</td>\n",
              "      <td>2.000000</td>\n",
              "      <td>2.000000</td>\n",
              "      <td>2.000000</td>\n",
              "      <td>41.000000</td>\n",
              "      <td>0.000000</td>\n",
              "      <td>0.000000</td>\n",
              "      <td>0.000000</td>\n",
              "      <td>0.000000</td>\n",
              "      <td>...</td>\n",
              "      <td>54506.000000</td>\n",
              "      <td>50190.500000</td>\n",
              "      <td>49198.250000</td>\n",
              "      <td>5006.000000</td>\n",
              "      <td>5.000000e+03</td>\n",
              "      <td>4505.00000</td>\n",
              "      <td>4013.250000</td>\n",
              "      <td>4031.500000</td>\n",
              "      <td>4000.000000</td>\n",
              "      <td>0.000000</td>\n",
              "    </tr>\n",
              "    <tr>\n",
              "      <th>max</th>\n",
              "      <td>30000.000000</td>\n",
              "      <td>1000000.000000</td>\n",
              "      <td>2.000000</td>\n",
              "      <td>6.000000</td>\n",
              "      <td>3.000000</td>\n",
              "      <td>79.000000</td>\n",
              "      <td>8.000000</td>\n",
              "      <td>8.000000</td>\n",
              "      <td>8.000000</td>\n",
              "      <td>8.000000</td>\n",
              "      <td>...</td>\n",
              "      <td>891586.000000</td>\n",
              "      <td>927171.000000</td>\n",
              "      <td>961664.000000</td>\n",
              "      <td>873552.000000</td>\n",
              "      <td>1.684259e+06</td>\n",
              "      <td>896040.00000</td>\n",
              "      <td>621000.000000</td>\n",
              "      <td>426529.000000</td>\n",
              "      <td>528666.000000</td>\n",
              "      <td>1.000000</td>\n",
              "    </tr>\n",
              "  </tbody>\n",
              "</table>\n",
              "<p>8 rows × 25 columns</p>\n",
              "</div>"
            ],
            "text/plain": [
              "0                ID       LIMIT_BAL           SEX     EDUCATION      MARRIAGE  \\\n",
              "count  30000.000000    30000.000000  30000.000000  30000.000000  30000.000000   \n",
              "mean   15000.500000   167484.322667      1.603733      1.853133      1.551867   \n",
              "std     8660.398374   129747.661567      0.489129      0.790349      0.521970   \n",
              "min        1.000000    10000.000000      1.000000      0.000000      0.000000   \n",
              "25%     7500.750000    50000.000000      1.000000      1.000000      1.000000   \n",
              "50%    15000.500000   140000.000000      2.000000      2.000000      2.000000   \n",
              "75%    22500.250000   240000.000000      2.000000      2.000000      2.000000   \n",
              "max    30000.000000  1000000.000000      2.000000      6.000000      3.000000   \n",
              "\n",
              "0               AGE         PAY_0         PAY_2         PAY_3         PAY_4  \\\n",
              "count  30000.000000  30000.000000  30000.000000  30000.000000  30000.000000   \n",
              "mean      35.485500     -0.016700     -0.133767     -0.166200     -0.220667   \n",
              "std        9.217904      1.123802      1.197186      1.196868      1.169139   \n",
              "min       21.000000     -2.000000     -2.000000     -2.000000     -2.000000   \n",
              "25%       28.000000     -1.000000     -1.000000     -1.000000     -1.000000   \n",
              "50%       34.000000      0.000000      0.000000      0.000000      0.000000   \n",
              "75%       41.000000      0.000000      0.000000      0.000000      0.000000   \n",
              "max       79.000000      8.000000      8.000000      8.000000      8.000000   \n",
              "\n",
              "0      ...      BILL_AMT4      BILL_AMT5      BILL_AMT6       PAY_AMT1  \\\n",
              "count  ...   30000.000000   30000.000000   30000.000000   30000.000000   \n",
              "mean   ...   43262.948967   40311.400967   38871.760400    5663.580500   \n",
              "std    ...   64332.856134   60797.155770   59554.107537   16563.280354   \n",
              "min    ... -170000.000000  -81334.000000 -339603.000000       0.000000   \n",
              "25%    ...    2326.750000    1763.000000    1256.000000    1000.000000   \n",
              "50%    ...   19052.000000   18104.500000   17071.000000    2100.000000   \n",
              "75%    ...   54506.000000   50190.500000   49198.250000    5006.000000   \n",
              "max    ...  891586.000000  927171.000000  961664.000000  873552.000000   \n",
              "\n",
              "0          PAY_AMT2      PAY_AMT3       PAY_AMT4       PAY_AMT5  \\\n",
              "count  3.000000e+04   30000.00000   30000.000000   30000.000000   \n",
              "mean   5.921163e+03    5225.68150    4826.076867    4799.387633   \n",
              "std    2.304087e+04   17606.96147   15666.159744   15278.305679   \n",
              "min    0.000000e+00       0.00000       0.000000       0.000000   \n",
              "25%    8.330000e+02     390.00000     296.000000     252.500000   \n",
              "50%    2.009000e+03    1800.00000    1500.000000    1500.000000   \n",
              "75%    5.000000e+03    4505.00000    4013.250000    4031.500000   \n",
              "max    1.684259e+06  896040.00000  621000.000000  426529.000000   \n",
              "\n",
              "0           PAY_AMT6  default payment next month  \n",
              "count   30000.000000                30000.000000  \n",
              "mean     5215.502567                    0.221200  \n",
              "std     17777.465775                    0.415062  \n",
              "min         0.000000                    0.000000  \n",
              "25%       117.750000                    0.000000  \n",
              "50%      1500.000000                    0.000000  \n",
              "75%      4000.000000                    0.000000  \n",
              "max    528666.000000                    1.000000  \n",
              "\n",
              "[8 rows x 25 columns]"
            ]
          },
          "execution_count": 5,
          "metadata": {},
          "output_type": "execute_result"
        }
      ],
      "source": [
        "df1.describe()"
      ]
    },
    {
      "cell_type": "code",
      "execution_count": 6,
      "metadata": {
        "colab": {
          "base_uri": "https://localhost:8080/",
          "height": 182
        },
        "id": "AgKQ3LG5W43E",
        "outputId": "d47d0fb0-c233-4424-f23c-d969e6ad3e70"
      },
      "outputs": [
        {
          "data": {
            "text/html": [
              "<div>\n",
              "<style scoped>\n",
              "    .dataframe tbody tr th:only-of-type {\n",
              "        vertical-align: middle;\n",
              "    }\n",
              "\n",
              "    .dataframe tbody tr th {\n",
              "        vertical-align: top;\n",
              "    }\n",
              "\n",
              "    .dataframe thead th {\n",
              "        text-align: right;\n",
              "    }\n",
              "</style>\n",
              "<table border=\"1\" class=\"dataframe\">\n",
              "  <thead>\n",
              "    <tr style=\"text-align: right;\">\n",
              "      <th></th>\n",
              "      <th>ID</th>\n",
              "      <th>BILL_AMT2</th>\n",
              "      <th>PAY_AMT6</th>\n",
              "      <th>PAY_AMT5</th>\n",
              "      <th>PAY_AMT4</th>\n",
              "      <th>PAY_AMT3</th>\n",
              "      <th>PAY_AMT2</th>\n",
              "      <th>PAY_AMT1</th>\n",
              "      <th>BILL_AMT6</th>\n",
              "      <th>BILL_AMT5</th>\n",
              "      <th>...</th>\n",
              "      <th>PAY_5</th>\n",
              "      <th>PAY_4</th>\n",
              "      <th>PAY_3</th>\n",
              "      <th>PAY_2</th>\n",
              "      <th>PAY_0</th>\n",
              "      <th>AGE</th>\n",
              "      <th>MARRIAGE</th>\n",
              "      <th>EDUCATION</th>\n",
              "      <th>SEX</th>\n",
              "      <th>default payment next month</th>\n",
              "    </tr>\n",
              "  </thead>\n",
              "  <tbody>\n",
              "    <tr>\n",
              "      <th>Total</th>\n",
              "      <td>0.0</td>\n",
              "      <td>0.0</td>\n",
              "      <td>0.0</td>\n",
              "      <td>0.0</td>\n",
              "      <td>0.0</td>\n",
              "      <td>0.0</td>\n",
              "      <td>0.0</td>\n",
              "      <td>0.0</td>\n",
              "      <td>0.0</td>\n",
              "      <td>0.0</td>\n",
              "      <td>...</td>\n",
              "      <td>0.0</td>\n",
              "      <td>0.0</td>\n",
              "      <td>0.0</td>\n",
              "      <td>0.0</td>\n",
              "      <td>0.0</td>\n",
              "      <td>0.0</td>\n",
              "      <td>0.0</td>\n",
              "      <td>0.0</td>\n",
              "      <td>0.0</td>\n",
              "      <td>0.0</td>\n",
              "    </tr>\n",
              "    <tr>\n",
              "      <th>Percent</th>\n",
              "      <td>0.0</td>\n",
              "      <td>0.0</td>\n",
              "      <td>0.0</td>\n",
              "      <td>0.0</td>\n",
              "      <td>0.0</td>\n",
              "      <td>0.0</td>\n",
              "      <td>0.0</td>\n",
              "      <td>0.0</td>\n",
              "      <td>0.0</td>\n",
              "      <td>0.0</td>\n",
              "      <td>...</td>\n",
              "      <td>0.0</td>\n",
              "      <td>0.0</td>\n",
              "      <td>0.0</td>\n",
              "      <td>0.0</td>\n",
              "      <td>0.0</td>\n",
              "      <td>0.0</td>\n",
              "      <td>0.0</td>\n",
              "      <td>0.0</td>\n",
              "      <td>0.0</td>\n",
              "      <td>0.0</td>\n",
              "    </tr>\n",
              "  </tbody>\n",
              "</table>\n",
              "<p>2 rows × 25 columns</p>\n",
              "</div>"
            ],
            "text/plain": [
              "0         ID  BILL_AMT2  PAY_AMT6  PAY_AMT5  PAY_AMT4  PAY_AMT3  PAY_AMT2  \\\n",
              "Total    0.0        0.0       0.0       0.0       0.0       0.0       0.0   \n",
              "Percent  0.0        0.0       0.0       0.0       0.0       0.0       0.0   \n",
              "\n",
              "0        PAY_AMT1  BILL_AMT6  BILL_AMT5  ...  PAY_5  PAY_4  PAY_3  PAY_2  \\\n",
              "Total         0.0        0.0        0.0  ...    0.0    0.0    0.0    0.0   \n",
              "Percent       0.0        0.0        0.0  ...    0.0    0.0    0.0    0.0   \n",
              "\n",
              "0        PAY_0  AGE  MARRIAGE  EDUCATION  SEX  default payment next month  \n",
              "Total      0.0  0.0       0.0        0.0  0.0                         0.0  \n",
              "Percent    0.0  0.0       0.0        0.0  0.0                         0.0  \n",
              "\n",
              "[2 rows x 25 columns]"
            ]
          },
          "execution_count": 6,
          "metadata": {},
          "output_type": "execute_result"
        }
      ],
      "source": [
        "#checking if there's any missing data\n",
        "total = df1.isnull().sum().sort_values(ascending = False)\n",
        "percent = (df1.isnull().sum() / df1.isnull().count() * 100).sort_values(ascending = False)\n",
        "pd.concat([total, percent], axis = 1, keys = ['Total', 'Percent']).transpose()"
      ]
    },
    {
      "cell_type": "code",
      "execution_count": 7,
      "metadata": {
        "id": "rxjHhkO5L2Z1"
      },
      "outputs": [],
      "source": [
        "#renaming columns for easier understanding\n",
        "df1 = df1.rename(columns = {'PAY_0': 'PAY_1', 'default payment next month': 'default_payment_result'})\n",
        "df1 = df1.drop(columns = 'ID')"
      ]
    },
    {
      "cell_type": "markdown",
      "metadata": {},
      "source": [
        "Plot of Default Credit Card Clients in Dataset"
      ]
    },
    {
      "cell_type": "code",
      "execution_count": 8,
      "metadata": {
        "colab": {
          "base_uri": "https://localhost:8080/",
          "height": 405
        },
        "id": "jO1RTzx8XPyi",
        "outputId": "2d6f3b01-b104-4383-e3e7-6fc21fe59ffa"
      },
      "outputs": [
        {
          "data": {
            "image/png": "[encoded data removed]",
            "text/plain": [
              "<Figure size 432x432 with 1 Axes>"
            ]
          },
          "metadata": {
            "needs_background": "light"
          },
          "output_type": "display_data"
        }
      ],
      "source": [
        "#EDA\n",
        "yes = df1.default_payment_result.sum()\n",
        "no = len(df1) - yes\n",
        "\n",
        "# Percentage\n",
        "yes_perc = round(yes / len(df1) * 100, 1)\n",
        "no_perc = round(no / len(df1) * 100, 1)\n",
        "\n",
        "temp = df1[\"default_payment_result\"].value_counts()\n",
        "df = pd.DataFrame({'default_payment_result': temp.index, 'values': temp.values})\n",
        "\n",
        "#plot figure\n",
        "plt.figure(figsize = (6, 6))\n",
        "plt.title('Default Credit Card Clients (Default = 0, Not Default = 1)')\n",
        "plt.annotate('Not Default: {}'.format(no), xy = (-0.34, 15000), xytext = (-0.34, 3000), size = 12)\n",
        "plt.annotate('Default: {}'.format(yes), xy = (0.75, 15000), xytext = (0.75, 3000), size = 12)\n",
        "plt.annotate(str(no_perc) + \" %\", xy = (-0.34, 15000), xytext = (-0.1, 8000), size = 12)\n",
        "plt.annotate(str(yes_perc) + \" %\", xy = (0.75, 15000), xytext = (0.9, 8000), size = 12)\n",
        "sns.set_color_codes(\"pastel\")\n",
        "sns.barplot(x = 'default_payment_result', y = \"values\", data = df)\n",
        "locs, labels = plt.xticks()\n",
        "plt.show()"
      ]
    },
    {
      "cell_type": "code",
      "execution_count": 9,
      "metadata": {
        "colab": {
          "base_uri": "https://localhost:8080/",
          "height": 297
        },
        "id": "VOEXoY8PaeRr",
        "outputId": "a5633e5e-b945-42c8-e92e-137b1f59c8b2"
      },
      "outputs": [
        {
          "data": {
            "text/html": [
              "<div>\n",
              "<style scoped>\n",
              "    .dataframe tbody tr th:only-of-type {\n",
              "        vertical-align: middle;\n",
              "    }\n",
              "\n",
              "    .dataframe tbody tr th {\n",
              "        vertical-align: top;\n",
              "    }\n",
              "\n",
              "    .dataframe thead th {\n",
              "        text-align: right;\n",
              "    }\n",
              "</style>\n",
              "<table border=\"1\" class=\"dataframe\">\n",
              "  <thead>\n",
              "    <tr style=\"text-align: right;\">\n",
              "      <th></th>\n",
              "      <th>BILL_AMT1</th>\n",
              "      <th>BILL_AMT2</th>\n",
              "      <th>BILL_AMT3</th>\n",
              "      <th>BILL_AMT4</th>\n",
              "      <th>BILL_AMT5</th>\n",
              "      <th>BILL_AMT6</th>\n",
              "    </tr>\n",
              "  </thead>\n",
              "  <tbody>\n",
              "    <tr>\n",
              "      <th>count</th>\n",
              "      <td>30000.000000</td>\n",
              "      <td>30000.000000</td>\n",
              "      <td>3.000000e+04</td>\n",
              "      <td>30000.000000</td>\n",
              "      <td>30000.000000</td>\n",
              "      <td>30000.000000</td>\n",
              "    </tr>\n",
              "    <tr>\n",
              "      <th>mean</th>\n",
              "      <td>51224.330900</td>\n",
              "      <td>49180.075167</td>\n",
              "      <td>4.701415e+04</td>\n",
              "      <td>43263.948967</td>\n",
              "      <td>40312.400967</td>\n",
              "      <td>38872.760400</td>\n",
              "    </tr>\n",
              "    <tr>\n",
              "      <th>std</th>\n",
              "      <td>73635.860576</td>\n",
              "      <td>71173.768783</td>\n",
              "      <td>6.934939e+04</td>\n",
              "      <td>64332.856134</td>\n",
              "      <td>60797.155770</td>\n",
              "      <td>59554.107537</td>\n",
              "    </tr>\n",
              "    <tr>\n",
              "      <th>min</th>\n",
              "      <td>-165579.000000</td>\n",
              "      <td>-69776.000000</td>\n",
              "      <td>-1.572630e+05</td>\n",
              "      <td>-169999.000000</td>\n",
              "      <td>-81333.000000</td>\n",
              "      <td>-339602.000000</td>\n",
              "    </tr>\n",
              "    <tr>\n",
              "      <th>25%</th>\n",
              "      <td>3559.750000</td>\n",
              "      <td>2985.750000</td>\n",
              "      <td>2.667250e+03</td>\n",
              "      <td>2327.750000</td>\n",
              "      <td>1764.000000</td>\n",
              "      <td>1257.000000</td>\n",
              "    </tr>\n",
              "    <tr>\n",
              "      <th>50%</th>\n",
              "      <td>22382.500000</td>\n",
              "      <td>21201.000000</td>\n",
              "      <td>2.008950e+04</td>\n",
              "      <td>19053.000000</td>\n",
              "      <td>18105.500000</td>\n",
              "      <td>17072.000000</td>\n",
              "    </tr>\n",
              "    <tr>\n",
              "      <th>75%</th>\n",
              "      <td>67092.000000</td>\n",
              "      <td>64007.250000</td>\n",
              "      <td>6.016575e+04</td>\n",
              "      <td>54507.000000</td>\n",
              "      <td>50191.500000</td>\n",
              "      <td>49199.250000</td>\n",
              "    </tr>\n",
              "    <tr>\n",
              "      <th>max</th>\n",
              "      <td>964512.000000</td>\n",
              "      <td>983932.000000</td>\n",
              "      <td>1.664090e+06</td>\n",
              "      <td>891587.000000</td>\n",
              "      <td>927172.000000</td>\n",
              "      <td>961665.000000</td>\n",
              "    </tr>\n",
              "  </tbody>\n",
              "</table>\n",
              "</div>"
            ],
            "text/plain": [
              "0          BILL_AMT1      BILL_AMT2     BILL_AMT3      BILL_AMT4  \\\n",
              "count   30000.000000   30000.000000  3.000000e+04   30000.000000   \n",
              "mean    51224.330900   49180.075167  4.701415e+04   43263.948967   \n",
              "std     73635.860576   71173.768783  6.934939e+04   64332.856134   \n",
              "min   -165579.000000  -69776.000000 -1.572630e+05 -169999.000000   \n",
              "25%      3559.750000    2985.750000  2.667250e+03    2327.750000   \n",
              "50%     22382.500000   21201.000000  2.008950e+04   19053.000000   \n",
              "75%     67092.000000   64007.250000  6.016575e+04   54507.000000   \n",
              "max    964512.000000  983932.000000  1.664090e+06  891587.000000   \n",
              "\n",
              "0          BILL_AMT5      BILL_AMT6  \n",
              "count   30000.000000   30000.000000  \n",
              "mean    40312.400967   38872.760400  \n",
              "std     60797.155770   59554.107537  \n",
              "min    -81333.000000 -339602.000000  \n",
              "25%      1764.000000    1257.000000  \n",
              "50%     18105.500000   17072.000000  \n",
              "75%     50191.500000   49199.250000  \n",
              "max    927172.000000  961665.000000  "
            ]
          },
          "execution_count": 9,
          "metadata": {},
          "output_type": "execute_result"
        }
      ],
      "source": [
        "#some statistical analysis for better understanding of the dataset\n",
        "df1[['BILL_AMT' + str(n) for n in range(1, 7)]] += 1\n",
        "df1[['BILL_AMT' + str(n) for n in range(1, 7)]].describe()"
      ]
    },
    {
      "cell_type": "markdown",
      "metadata": {
        "id": "DV8rOB_5AqkL"
      },
      "source": [
        "Univariate Analysis of Variables"
      ]
    },
    {
      "cell_type": "code",
      "execution_count": 10,
      "metadata": {
        "colab": {
          "base_uri": "https://localhost:8080/",
          "height": 54
        },
        "id": "wmZV28euXs8C",
        "outputId": "d0216cf7-84ce-49f1-80ff-e20081ce9f26"
      },
      "outputs": [
        {
          "data": {
            "image/png": "[encoded data removed]",
            "text/plain": [
              "<Figure size 1008x432 with 1 Axes>"
            ]
          },
          "metadata": {
            "needs_background": "light"
          },
          "output_type": "display_data"
        }
      ],
      "source": [
        "#Credit limit density plot\n",
        "plt.figure(figsize = (14, 6))\n",
        "plt.title('Amount of Credit Limit - Density Plot')\n",
        "sns.set_color_codes(\"pastel\")\n",
        "sns.histplot(df1['LIMIT_BAL'], kde = True, bins = 200, color = \"blue\")\n",
        "plt.show()"
      ]
    },
    {
      "cell_type": "code",
      "execution_count": 11,
      "metadata": {
        "colab": {
          "base_uri": "https://localhost:8080/",
          "height": 71
        },
        "id": "9luFxew8WF8z",
        "outputId": "fb1e618c-8ca9-4e9b-eae2-b0887ad72d9c"
      },
      "outputs": [
        {
          "data": {
            "text/plain": [
              "<AxesSubplot:>"
            ]
          },
          "execution_count": 11,
          "metadata": {},
          "output_type": "execute_result"
        },
        {
          "data": {
            "image/png": "[encoded data removed]",
            "text/plain": [
              "<Figure size 432x288 with 1 Axes>"
            ]
          },
          "metadata": {
            "needs_background": "light"
          },
          "output_type": "display_data"
        }
      ],
      "source": [
        "#showcasing the amount of female and male counts in the dataset\n",
        "df1.SEX.value_counts().plot(kind = 'bar')"
      ]
    },
    {
      "cell_type": "code",
      "execution_count": 12,
      "metadata": {
        "colab": {
          "base_uri": "https://localhost:8080/",
          "height": 71
        },
        "id": "Q012eVrXWF16",
        "outputId": "a6e14a14-1afd-48a4-e10d-22b385204e6f"
      },
      "outputs": [
        {
          "data": {
            "text/plain": [
              "<AxesSubplot:>"
            ]
          },
          "execution_count": 12,
          "metadata": {},
          "output_type": "execute_result"
        },
        {
          "data": {
            "image/png": "[encoded data removed]",
            "text/plain": [
              "<Figure size 432x288 with 1 Axes>"
            ]
          },
          "metadata": {
            "needs_background": "light"
          },
          "output_type": "display_data"
        }
      ],
      "source": [
        "#showcasing the Education data of the dataset (1 = graduate school; 2 = university; 3 = high school; 4 = others))\n",
        "df1.EDUCATION.value_counts().plot(kind = 'bar')"
      ]
    },
    {
      "cell_type": "code",
      "execution_count": 13,
      "metadata": {
        "colab": {
          "base_uri": "https://localhost:8080/"
        },
        "id": "5qw-SeUHWFxQ",
        "outputId": "64200a9b-94d7-492b-92be-b6a194290b15"
      },
      "outputs": [
        {
          "data": {
            "text/plain": [
              "2    14030\n",
              "1    10585\n",
              "3     4917\n",
              "4      468\n",
              "Name: EDUCATION, dtype: int64"
            ]
          },
          "execution_count": 13,
          "metadata": {},
          "output_type": "execute_result"
        }
      ],
      "source": [
        "#Data cleaning for Marriage and Education \n",
        "#EDUCATION data cleaning (1 = graduate school; 2 = university; 3 = high school; 4 = others)\n",
        "df1.loc [:,'EDUCATION'][df1['EDUCATION'] == 0] = 4\n",
        "df1.loc [:,'EDUCATION'][df1['EDUCATION'] == 5] = 4\n",
        "df1.loc [:,'EDUCATION'][df1['EDUCATION'] == 6] = 4\n",
        "df1.EDUCATION.value_counts()"
      ]
    },
    {
      "cell_type": "code",
      "execution_count": 14,
      "metadata": {
        "colab": {
          "base_uri": "https://localhost:8080/",
          "height": 292
        },
        "id": "tOpVNkqW4Eft",
        "outputId": "3e0dbc88-88b1-4ec9-d52f-edb5825b3bbe"
      },
      "outputs": [
        {
          "name": "stdout",
          "output_type": "stream",
          "text": [
            "default_payment_result  EDUCATION\n",
            "0                       1             8549\n",
            "                        2            10700\n",
            "                        3             3680\n",
            "                        4              435\n",
            "1                       1             2036\n",
            "                        2             3330\n",
            "                        3             1237\n",
            "                        4               33\n",
            "dtype: int64\n",
            "EDUCATION                  1      2     3    4\n",
            "default_payment_result                        \n",
            "0                       8549  10700  3680  435\n",
            "1                       2036   3330  1237   33\n"
          ]
        },
        {
          "data": {
            "image/png": "[encoded data removed]",
            "text/plain": [
              "<Figure size 432x288 with 1 Axes>"
            ]
          },
          "metadata": {
            "needs_background": "light"
          },
          "output_type": "display_data"
        }
      ],
      "source": [
        "#grouping default payment next month by education\n",
        "df1_education = df1.groupby(['default_payment_result', 'EDUCATION']).size()\n",
        "print(df1_education)\n",
        "\n",
        "df1_education = df1_education.unstack()\n",
        "print(df1_education)\n",
        "\n",
        "df1_education.loc[1] = df1_education.loc[1] / 6636\n",
        "df1_education.loc[0] = df1_education.loc[0] / 23364\n",
        "\n",
        "df1_education.plot(kind = 'bar')\n",
        "plt.title('Education')\n",
        "plt.legend(['Graduate School', 'University', 'High School', 'Others'])\n",
        "plt.show()"
      ]
    },
    {
      "cell_type": "code",
      "execution_count": 15,
      "metadata": {
        "colab": {
          "base_uri": "https://localhost:8080/",
          "height": 71
        },
        "id": "1QWp4RKcWF5J",
        "outputId": "8a9ca1de-e47e-4ff8-c968-e6517cc45149"
      },
      "outputs": [
        {
          "data": {
            "text/plain": [
              "<AxesSubplot:>"
            ]
          },
          "execution_count": 15,
          "metadata": {},
          "output_type": "execute_result"
        },
        {
          "data": {
            "image/png": "[encoded data removed]",
            "text/plain": [
              "<Figure size 432x288 with 1 Axes>"
            ]
          },
          "metadata": {
            "needs_background": "light"
          },
          "output_type": "display_data"
        }
      ],
      "source": [
        "#Showcasing MARRIAGE variable (1 = married; 2 = single; 3 = others)\n",
        "df1.MARRIAGE.value_counts().plot(kind = 'bar')"
      ]
    },
    {
      "cell_type": "code",
      "execution_count": 16,
      "metadata": {
        "colab": {
          "base_uri": "https://localhost:8080/"
        },
        "id": "qHfNJ-OnWFkY",
        "outputId": "20e92b06-0ca2-431f-8830-52e0705ba46c"
      },
      "outputs": [
        {
          "data": {
            "text/plain": [
              "2    15964\n",
              "1    13659\n",
              "3      377\n",
              "Name: MARRIAGE, dtype: int64"
            ]
          },
          "execution_count": 16,
          "metadata": {},
          "output_type": "execute_result"
        }
      ],
      "source": [
        "#data cleaning for Marriage\n",
        "#MARRIAGE (1 = married; 2 = single; 3 = others)\n",
        "df1.loc [:,'MARRIAGE'][df1['MARRIAGE'] == 0] = 3\n",
        "df1.MARRIAGE.value_counts()"
      ]
    },
    {
      "cell_type": "code",
      "execution_count": 17,
      "metadata": {
        "colab": {
          "base_uri": "https://localhost:8080/",
          "height": 258
        },
        "id": "gDJfZnoD5gq9",
        "outputId": "c4979f7b-a00d-49e6-829c-f0ff7e68310c"
      },
      "outputs": [
        {
          "name": "stdout",
          "output_type": "stream",
          "text": [
            "default_payment_result  MARRIAGE\n",
            "0                       1           10453\n",
            "                        2           12623\n",
            "                        3             288\n",
            "1                       1            3206\n",
            "                        2            3341\n",
            "                        3              89\n",
            "dtype: int64\n",
            "MARRIAGE                    1      2    3\n",
            "default_payment_result                   \n",
            "0                       10453  12623  288\n",
            "1                        3206   3341   89\n"
          ]
        },
        {
          "data": {
            "image/png": "[encoded data removed]",
            "text/plain": [
              "<Figure size 432x288 with 1 Axes>"
            ]
          },
          "metadata": {
            "needs_background": "light"
          },
          "output_type": "display_data"
        }
      ],
      "source": [
        "#grouping default payment next month by marriage\n",
        "df1_marriage = df1.groupby(['default_payment_result', 'MARRIAGE']).size()\n",
        "print(df1_marriage)\n",
        "\n",
        "df1_marriage = df1_marriage.unstack()\n",
        "print(df1_marriage)\n",
        "\n",
        "df1_marriage.loc[1] = df1_marriage.loc[1] / 6636\n",
        "df1_marriage.loc[0] = df1_marriage.loc[0] / 23364\n",
        "\n",
        "df1_marriage.plot(kind = 'bar')\n",
        "plt.title('Marriage')\n",
        "plt.legend(['Married', 'Single', 'Others'])\n",
        "plt.show()"
      ]
    },
    {
      "cell_type": "code",
      "execution_count": 18,
      "metadata": {
        "colab": {
          "base_uri": "https://localhost:8080/",
          "height": 54
        },
        "id": "SqrdkyrILAYB",
        "outputId": "55b90070-2e60-4590-b010-4344c6244b99"
      },
      "outputs": [
        {
          "data": {
            "image/png": "[encoded data removed]",
            "text/plain": [
              "<Figure size 1440x1080 with 9 Axes>"
            ]
          },
          "metadata": {},
          "output_type": "display_data"
        }
      ],
      "source": [
        "# Creating a new dataframe with categorical variables\n",
        "subset = df1[['SEX', 'EDUCATION', 'MARRIAGE', 'PAY_1', 'PAY_2', 'PAY_3', 'PAY_4', 'PAY_5', 'PAY_6', 'default_payment_result']]\n",
        "\n",
        "f, axes = plt.subplots(3, 3, figsize = (20, 15), facecolor = 'white')\n",
        "f.suptitle('Default Frequency of Important Features')\n",
        "ax1 = sns.countplot(x = \"SEX\", hue = \"default_payment_result\", data = subset, ax = axes[0,0])\n",
        "ax2 = sns.countplot(x = \"EDUCATION\", hue = \"default_payment_result\", data = subset, ax = axes[0,1])\n",
        "ax3 = sns.countplot(x = \"MARRIAGE\", hue = \"default_payment_result\", data = subset, ax = axes[0,2])\n",
        "ax4 = sns.countplot(x = \"PAY_1\", hue = \"default_payment_result\", data = subset, ax = axes[1,0])\n",
        "ax5 = sns.countplot(x = \"PAY_2\", hue = \"default_payment_result\", data = subset, ax = axes[1,1])\n",
        "ax6 = sns.countplot(x = \"PAY_3\", hue = \"default_payment_result\", data = subset, ax = axes[1,2])\n",
        "ax7 = sns.countplot(x = \"PAY_4\", hue = \"default_payment_result\", data = subset, ax = axes[2,0])\n",
        "ax8 = sns.countplot(x = \"PAY_5\", hue = \"default_payment_result\", data = subset, ax = axes[2,1])\n",
        "ax9 = sns.countplot(x = \"PAY_6\", hue = \"default_payment_result\", data = subset, ax = axes[2,2]);"
      ]
    },
    {
      "cell_type": "code",
      "execution_count": 19,
      "metadata": {
        "colab": {
          "base_uri": "https://localhost:8080/",
          "height": 71
        },
        "id": "untAa9aKEMIw",
        "outputId": "bb82fb05-f87c-4191-9334-17740ee1f8d9"
      },
      "outputs": [
        {
          "data": {
            "text/plain": [
              "Text(0.5, 0, 'Age')"
            ]
          },
          "execution_count": 19,
          "metadata": {},
          "output_type": "execute_result"
        },
        {
          "data": {
            "image/png": "[encoded data removed]",
            "text/plain": [
              "<Figure size 792x360 with 1 Axes>"
            ]
          },
          "metadata": {
            "needs_background": "light"
          },
          "output_type": "display_data"
        }
      ],
      "source": [
        "# Plot the number of individuals by age.\n",
        "count_age = df1['AGE'].value_counts().sort_index(ascending = True)\n",
        "\n",
        "# Fill in missing age counts with zeros.\n",
        "for i in list(range(count_age.index.min(), count_age.index.max() + 1)):\n",
        "    if i not in count_age.index:\n",
        "        pd1 = pd.Series([0], index = [i])\n",
        "        count_age = count_age.append(pd1)\n",
        "\n",
        "count_age.sort_index(ascending = True, inplace = True)\n",
        "\n",
        "# Plot the Series\n",
        "fig, ax = plt.subplots(1, 1)\n",
        "my_colors = ['0.4']\n",
        "count_age.plot.bar(figsize = (11,5), \n",
        "                   rot = 90, \n",
        "                   fontsize = 10,\n",
        "                   color = my_colors, \n",
        "                   ax = ax)\n",
        "\n",
        "def yaxis_formatter_fn(x, pos):\n",
        "    return \"{:,}\".format(int(x))\n",
        "\n",
        "formatter = FuncFormatter(yaxis_formatter_fn)\n",
        "ax.yaxis.set_major_formatter(formatter)\n",
        "\n",
        "ax.xaxis.label.set_visible(False)\n",
        "\n",
        "plt.title('Number of Individuals by Age', fontsize = 20)\n",
        "plt.xlabel('Age', fontsize = 14)\n"
      ]
    },
    {
      "cell_type": "code",
      "execution_count": 20,
      "metadata": {
        "colab": {
          "base_uri": "https://localhost:8080/",
          "height": 54
        },
        "id": "CSfOH9xFEMEh",
        "outputId": "12641496-d862-40ff-fcab-d741f9fd8d92"
      },
      "outputs": [
        {
          "data": {
            "image/png": "[encoded data removed]",
            "text/plain": [
              "<Figure size 720x360 with 1 Axes>"
            ]
          },
          "metadata": {
            "needs_background": "light"
          },
          "output_type": "display_data"
        }
      ],
      "source": [
        "# for ages with at least 50 observations.\n",
        "age_defaultpayment = df1.groupby(['AGE', 'default_payment_result']).size().unstack()\n",
        "\n",
        "# Filter out ages with fewer than 50 observations.\n",
        "age_defaultpayment = age_defaultpayment[age_defaultpayment.sum(axis = 1) > 50]\n",
        "\n",
        "# Calculate proportions\n",
        "age_defaultpayment = age_defaultpayment.div(age_defaultpayment.sum(axis = 1), axis = 'index')\n",
        "\n",
        "# Plot\n",
        "fig, ax = plt.subplots(1, 1, figsize = (10, 5))\n",
        "my_colors = ['0.3']\n",
        "ax.scatter(x = age_defaultpayment.index,\n",
        "           y = age_defaultpayment[1], \n",
        "           color = my_colors)\n",
        "for tick in ax.yaxis.get_major_ticks():\n",
        "    tick.label.set_fontsize(14) \n",
        "for tick in ax.xaxis.get_major_ticks():\n",
        "    tick.label.set_fontsize(14) \n",
        "plt.title('Proportion of Defaults by Age', fontsize = 20)\n",
        "plt.ylabel('Proportion of Defaults', fontsize = 14)\n",
        "plt.xlabel('Age', fontsize = 14)\n",
        "plt.show()"
      ]
    },
    {
      "cell_type": "code",
      "execution_count": 21,
      "metadata": {
        "id": "49AvgsUTSoCA"
      },
      "outputs": [],
      "source": [
        "# Separating features and target\n",
        "y = df1.default_payment_result \n",
        "X = df1.drop('default_payment_result', axis = 1, inplace = False)"
      ]
    },
    {
      "cell_type": "markdown",
      "metadata": {
        "id": "1iyVzsE5C83q"
      },
      "source": [
        "Split Data into Training and Testing Set"
      ]
    },
    {
      "cell_type": "code",
      "execution_count": 22,
      "metadata": {
        "id": "eVmq7Ues1wMO"
      },
      "outputs": [],
      "source": [
        "X_train_baseline, X_test_baseline, y_train_baseline, y_test_baseline = train_test_split(X, y, test_size = 0.3, stratify = y, random_state = 42)"
      ]
    },
    {
      "cell_type": "markdown",
      "metadata": {
        "id": "pi1JiVnrWXUY"
      },
      "source": [
        "### Baseline Models"
      ]
    },
    {
      "cell_type": "code",
      "execution_count": 23,
      "metadata": {
        "colab": {
          "base_uri": "https://localhost:8080/"
        },
        "id": "tVAL4nfeMpTO",
        "outputId": "de5b7958-3cb3-47ef-a4ec-27bfd96f4d9d"
      },
      "outputs": [
        {
          "name": "stdout",
          "output_type": "stream",
          "text": [
            "Percent of Default: 22.12222222222222%\n",
            "Percent of Non-Default: 77.87777777777778%\n"
          ]
        }
      ],
      "source": [
        "#Very very very basic baseline model\n",
        "#Calculating the percentage of 1s (default) in the dataset\n",
        "print(f'Percent of Default: {(y_test_baseline.mean() * 100)}%')\n",
        "\n",
        "#Calculating the percentage of 0s (nondefault) in the dataset. \n",
        "print(f'Percent of Non-Default: {((1 - y_test_baseline.mean()) * 100)}%')"
      ]
    },
    {
      "cell_type": "markdown",
      "metadata": {
        "id": "wDxqd_fpNxZb"
      },
      "source": [
        "Baseline Models of Decision Trees, Naive Bayes, KNN, Log Reg + Combined end result"
      ]
    },
    {
      "cell_type": "code",
      "execution_count": 24,
      "metadata": {
        "id": "A_2s5VdZN4_6"
      },
      "outputs": [],
      "source": [
        "def evaluate_model(model, X_test_baseline, y_test_baseline):\n",
        "    from sklearn import metrics\n",
        "\n",
        "    #Predicting Baseline Test data\n",
        "    y_pred_baseline = model.predict(X_test_baseline)\n",
        "\n",
        "    #accuracy, precision, recall, and f1-score\n",
        "    accuracy = metrics.accuracy_score(y_test_baseline, y_pred_baseline)\n",
        "    precision = metrics.precision_score(y_test_baseline, y_pred_baseline)\n",
        "    recall = metrics.recall_score(y_test_baseline, y_pred_baseline)\n",
        "    f1 = metrics.f1_score(y_test_baseline, y_pred_baseline)\n",
        "\n",
        "    #(AUC)\n",
        "    y_pred_proba_baseline = model.predict_proba(X_test_baseline)[::,1]\n",
        "    fpr, tpr, _ = metrics.roc_curve(y_test_baseline, y_pred_proba_baseline)\n",
        "    auc = metrics.roc_auc_score(y_test_baseline, y_pred_proba_baseline)\n",
        "\n",
        "    #Confussion matrix\n",
        "    confusionmatrix = metrics.confusion_matrix(y_test_baseline, y_pred_baseline)\n",
        "\n",
        "    return {'accuracy': accuracy, 'precision': precision, 'recall': recall, 'f1': f1, \n",
        "            'fpr': fpr, 'tpr': tpr, 'auc': auc, 'confusionmatrix': confusionmatrix}"
      ]
    },
    {
      "cell_type": "code",
      "execution_count": 25,
      "metadata": {
        "colab": {
          "base_uri": "https://localhost:8080/"
        },
        "id": "KBxg8i7HMzxI",
        "outputId": "2003592b-c0ed-4bcc-c22b-4dd3c731b47a"
      },
      "outputs": [
        {
          "name": "stdout",
          "output_type": "stream",
          "text": [
            "Accuracy: 0.6571111111111111\n",
            "Precision: 0.21792890262751158\n",
            "Recall: 0.21245605223505776\n",
            "F1 Score: 0.21515768056968462\n",
            "Area Under Curve: 0.49793868384330997\n",
            "Confusion Matrix:\n",
            " [[5491 1518]\n",
            " [1568  423]]\n"
          ]
        }
      ],
      "source": [
        "#DummyClassifier. another very basic model that knows nothing about the dataset\n",
        "dummy = DummyClassifier(strategy = 'stratified', random_state = 42)\n",
        "dummy.fit(X_train_baseline, y_train_baseline)\n",
        "\n",
        "#Evaluating the Model\n",
        "dummy_eval = evaluate_model(dummy, X_test_baseline, y_test_baseline)\n",
        "\n",
        "#Results\n",
        "print('Accuracy:', dummy_eval['accuracy'])\n",
        "print('Precision:', dummy_eval['precision'])\n",
        "print('Recall:', dummy_eval['recall'])\n",
        "print('F1 Score:', dummy_eval['f1'])\n",
        "print('Area Under Curve:', dummy_eval['auc'])\n",
        "print('Confusion Matrix:\\n', dummy_eval['confusionmatrix'])\n"
      ]
    },
    {
      "cell_type": "code",
      "execution_count": 26,
      "metadata": {
        "colab": {
          "base_uri": "https://localhost:8080/"
        },
        "id": "DfsCVy2UOAVj",
        "outputId": "8290ff5c-f138-4d94-bc02-26086ef58aed"
      },
      "outputs": [
        {
          "name": "stdout",
          "output_type": "stream",
          "text": [
            "Accuracy: 0.722\n",
            "Precision: 0.3774580335731415\n",
            "Recall: 0.3952787543947765\n",
            "F1 Score: 0.38616290480863597\n",
            "Area Under Curve: 0.6053205324946709\n",
            "Confusion Matrix:\n",
            " [[5711 1298]\n",
            " [1204  787]]\n"
          ]
        }
      ],
      "source": [
        "#Decision Tree Baseline model \n",
        "dtree = tree.DecisionTreeClassifier(random_state = 42)\n",
        "dtree.fit(X_train_baseline, y_train_baseline)\n",
        "\n",
        "#Evaluating the Model\n",
        "dtree_eval = evaluate_model(dtree, X_test_baseline, y_test_baseline)\n",
        "\n",
        "#Results\n",
        "print('Accuracy:', dtree_eval['accuracy'])\n",
        "print('Precision:', dtree_eval['precision'])\n",
        "print('Recall:', dtree_eval['recall'])\n",
        "print('F1 Score:', dtree_eval['f1'])\n",
        "print('Area Under Curve:', dtree_eval['auc'])\n",
        "print('Confusion Matrix:\\n', dtree_eval['confusionmatrix'])"
      ]
    },
    {
      "cell_type": "code",
      "execution_count": 27,
      "metadata": {
        "colab": {
          "base_uri": "https://localhost:8080/"
        },
        "id": "yW1Wqg2TOCCd",
        "outputId": "da2841ff-6d2d-42be-ab92-ece254e8224c"
      },
      "outputs": [
        {
          "name": "stdout",
          "output_type": "stream",
          "text": [
            "Accuracy: 0.39911111111111114\n",
            "Precision: 0.24878694309660343\n",
            "Recall: 0.849824208940231\n",
            "F1 Score: 0.3848953594176524\n",
            "Area Under Curve: 0.659404078232199\n",
            "Confusion Matrix:\n",
            " [[1900 5109]\n",
            " [ 299 1692]]\n"
          ]
        }
      ],
      "source": [
        "#Naive Bayes Baseline model \n",
        "naivebayes = GaussianNB()\n",
        "naivebayes.fit(X_train_baseline, y_train_baseline)\n",
        "\n",
        "#Evaluating the Model\n",
        "naivebayes_eval = evaluate_model(naivebayes, X_test_baseline, y_test_baseline)\n",
        "\n",
        "# Results\n",
        "print('Accuracy:', naivebayes_eval['accuracy'])\n",
        "print('Precision:', naivebayes_eval['precision'])\n",
        "print('Recall:', naivebayes_eval['recall'])\n",
        "print('F1 Score:', naivebayes_eval['f1'])\n",
        "print('Area Under Curve:', naivebayes_eval['auc'])\n",
        "print('Confusion Matrix:\\n', naivebayes_eval['confusionmatrix'])"
      ]
    },
    {
      "cell_type": "code",
      "execution_count": 28,
      "metadata": {
        "colab": {
          "base_uri": "https://localhost:8080/"
        },
        "id": "qlCUIKtkOD0r",
        "outputId": "6acedfa6-aa26-4b45-f1d8-b7392e6e94f4"
      },
      "outputs": [
        {
          "name": "stdout",
          "output_type": "stream",
          "text": [
            "Accuracy: 0.7526666666666667\n",
            "Precision: 0.3740621650589496\n",
            "Recall: 0.17528879959819185\n",
            "F1 Score: 0.2387140902872777\n",
            "Area Under Curve: 0.6060362657783968\n",
            "Confusion Matrix:\n",
            " [[6425  584]\n",
            " [1642  349]]\n"
          ]
        }
      ],
      "source": [
        "#KNN Baseline model \n",
        "knn = KNeighborsClassifier()\n",
        "knn.fit(X_train_baseline, y_train_baseline)\n",
        "\n",
        "#Evaluating the Model\n",
        "knn_eval = evaluate_model(knn, X_test_baseline, y_test_baseline)\n",
        "\n",
        "#Results\n",
        "print('Accuracy:', knn_eval['accuracy'])\n",
        "print('Precision:', knn_eval['precision'])\n",
        "print('Recall:', knn_eval['recall'])\n",
        "print('F1 Score:', knn_eval['f1'])\n",
        "print('Area Under Curve:', knn_eval['auc'])\n",
        "print('Confusion Matrix:\\n', knn_eval['confusionmatrix'])"
      ]
    },
    {
      "cell_type": "code",
      "execution_count": 29,
      "metadata": {
        "colab": {
          "base_uri": "https://localhost:8080/"
        },
        "id": "nnPTDyzlRob8",
        "outputId": "a90fdec2-8cbe-4f15-e5b0-beb8010b1d37"
      },
      "outputs": [
        {
          "name": "stdout",
          "output_type": "stream",
          "text": [
            "Accuracy: 0.7783333333333333\n",
            "Precision: 0.25\n",
            "Recall: 0.0010045203415369162\n",
            "F1 Score: 0.0020010005002501254\n",
            "Area Under Curve: 0.644601197613544\n",
            "Confusion Matrix:\n",
            " [[7003    6]\n",
            " [1989    2]]\n"
          ]
        }
      ],
      "source": [
        "#Logistic Regression Baseline model \n",
        "log = LogisticRegression()\n",
        "log.fit(X_train_baseline, y_train_baseline)\n",
        "\n",
        "#Evaluating the Model\n",
        "log_eval = evaluate_model(log, X_test_baseline, y_test_baseline)\n",
        "\n",
        "#Results\n",
        "print('Accuracy:', log_eval['accuracy'])\n",
        "print('Precision:', log_eval['precision'])\n",
        "print('Recall:', log_eval['recall'])\n",
        "print('F1 Score:', log_eval['f1'])\n",
        "print('Area Under Curve:', log_eval['auc'])\n",
        "print('Confusion Matrix:\\n', log_eval['confusionmatrix'])"
      ]
    },
    {
      "cell_type": "markdown",
      "metadata": {},
      "source": [
        "### Baseline Models Plotting"
      ]
    },
    {
      "cell_type": "code",
      "execution_count": 30,
      "metadata": {
        "colab": {
          "base_uri": "https://localhost:8080/",
          "height": 554
        },
        "id": "CvxHBqPSHf21",
        "outputId": "8b4e64e1-13b6-4cab-d2d2-7c3ccd1215b7"
      },
      "outputs": [
        {
          "data": {
            "image/png": "[encoded data removed]",
            "text/plain": [
              "<Figure size 1152x576 with 2 Axes>"
            ]
          },
          "metadata": {
            "needs_background": "light"
          },
          "output_type": "display_data"
        }
      ],
      "source": [
        "#plot setup\n",
        "plot, (ax1, ax2) = plt.subplots(1, 2)\n",
        "plot.suptitle('Baseline Model Comparison', fontsize=14)\n",
        "plot.set_figheight(8)\n",
        "plot.set_figwidth(16)\n",
        "\n",
        "#First plot Statistics\n",
        "dtree_score = [dtree_eval['accuracy'], dtree_eval['precision'], dtree_eval['recall'], dtree_eval['f1']]\n",
        "naivebayes_score = [naivebayes_eval['accuracy'], naivebayes_eval['precision'], naivebayes_eval['recall'], naivebayes_eval['f1']]\n",
        "knn_score = [knn_eval['accuracy'], knn_eval['precision'], knn_eval['recall'], knn_eval['f1']]\n",
        "log_score = [log_eval['accuracy'], log_eval['precision'], log_eval['recall'], log_eval['f1']]\n",
        "dummy_score = [dummy_eval['accuracy'], dummy_eval['precision'], dummy_eval['recall'], dummy_eval['f1']]\n",
        "\n",
        "barWidth = 0.16\n",
        "p1 = np.arange(len(dtree_score))\n",
        "p2 = [x + barWidth for x in p1]\n",
        "p3 = [x + barWidth for x in p2]\n",
        "p4 = [x + barWidth for x in p3]\n",
        "p5 = [x + barWidth for x in p4]\n",
        "\n",
        "ax1.bar(p1, dtree_score, width = barWidth, label = 'Decision Tree')\n",
        "ax1.bar(p2, naivebayes_score, width = barWidth, label = 'Naive Bayes')\n",
        "ax1.bar(p3, knn_score, width = barWidth, label = 'KNN')\n",
        "ax1.bar(p4, log_score, width = barWidth, label = 'Logistic Regression')\n",
        "ax1.bar(p5, dummy_score, width = barWidth, label = 'Dummy Classifier')\n",
        "\n",
        "#x and y axis\n",
        "ax1.set_xlabel('Statistics')\n",
        "labels = ['Accuracy', 'Precision', 'Recall', 'F1']\n",
        "ax1.set_xticks([r + (barWidth) for r in range(len(dtree_score))], )\n",
        "ax1.set_xticklabels(labels)\n",
        "ax1.set_ylabel('Score')\n",
        "ax1.set_ylim(0, 1)\n",
        "\n",
        "ax1.set_title('Metrics')\n",
        "ax1.legend()\n",
        "\n",
        "#Second plot ROC Curve\n",
        "ax2.plot(dtree_eval['fpr'], dtree_eval['tpr'], label = 'Decision Tree, auc = {:0.5f}'.format(dtree_eval['auc']))\n",
        "ax2.plot(naivebayes_eval['fpr'], naivebayes_eval['tpr'], label = 'Naive Bayes, auc = {:0.5f}'.format(naivebayes_eval['auc']))\n",
        "ax2.plot(knn_eval['fpr'], knn_eval['tpr'], label = 'KNN, auc = {:0.5f}'.format(knn_eval['auc']))\n",
        "ax2.plot(log_eval['fpr'], log_eval['tpr'], label = 'Logisitc Regression = {:0.5f}'.format(log_eval['auc']))\n",
        "ax2.plot(dummy_eval['fpr'], dummy_eval['tpr'], label = 'Dummy Classifier = {:0.5f}'.format(dummy_eval['auc']))\n",
        "#x and y axis\n",
        "ax2.set_xlabel('False Positive Rate')\n",
        "ax2.set_ylabel('True Positive Rate')\n",
        "\n",
        "ax2.set_title('ROC Curve')\n",
        "ax2.legend()\n",
        "\n",
        "plt.show()"
      ]
    },
    {
      "cell_type": "markdown",
      "metadata": {
        "id": "L-Q42vxDkFMx"
      },
      "source": [
        "### Feature Engineering (Data Normalization)\n",
        "\n",
        "Conducting data normalization as many features are in different scales and units. "
      ]
    },
    {
      "cell_type": "markdown",
      "metadata": {
        "id": "pNmeQCoeCNZg"
      },
      "source": [
        "Multicollinearity Analysis\n",
        "\n",
        "\n"
      ]
    },
    {
      "cell_type": "code",
      "execution_count": 31,
      "metadata": {
        "colab": {
          "base_uri": "https://localhost:8080/",
          "height": 733
        },
        "id": "4ltERceVCMxX",
        "outputId": "56e310b5-f104-48a8-9ff6-cdbfa684ad3e"
      },
      "outputs": [
        {
          "data": {
            "text/plain": [
              "<AxesSubplot:xlabel='0', ylabel='0'>"
            ]
          },
          "execution_count": 31,
          "metadata": {},
          "output_type": "execute_result"
        },
        {
          "data": {
            "image/png": "[encoded data removed]",
            "text/plain": [
              "<Figure size 2160x720 with 2 Axes>"
            ]
          },
          "metadata": {
            "needs_background": "light"
          },
          "output_type": "display_data"
        }
      ],
      "source": [
        "corr = df1.corr()\n",
        "plt.subplots(figsize = (30,10))\n",
        "sns.heatmap(corr, square = True, annot = True, fmt = \".1f\" )  "
      ]
    },
    {
      "cell_type": "code",
      "execution_count": 32,
      "metadata": {
        "colab": {
          "base_uri": "https://localhost:8080/",
          "height": 745
        },
        "id": "aLaBKgW1rx4B",
        "outputId": "53b9661d-022b-430d-93e7-6ec2548685a3"
      },
      "outputs": [
        {
          "data": {
            "text/plain": [
              "<AxesSubplot:title={'center':'Correlation with Default'}, xlabel='0'>"
            ]
          },
          "execution_count": 32,
          "metadata": {},
          "output_type": "execute_result"
        },
        {
          "data": {
            "image/png": "[encoded data removed]",
            "text/plain": [
              "<Figure size 1440x720 with 1 Axes>"
            ]
          },
          "metadata": {
            "needs_background": "light"
          },
          "output_type": "display_data"
        }
      ],
      "source": [
        "X.corrwith(df1['default_payment_result']).plot.bar(figsize = (20, 10), title = \"Correlation with Default\", fontsize = 20,rot = 90, grid = True)"
      ]
    },
    {
      "cell_type": "code",
      "execution_count": 33,
      "metadata": {
        "colab": {
          "base_uri": "https://localhost:8080/"
        },
        "id": "sl6-lfXi5K8E",
        "outputId": "28c096c3-962b-4e21-e7c1-0bbd24da3340"
      },
      "outputs": [
        {
          "name": "stdout",
          "output_type": "stream",
          "text": [
            "['BILL_AMT2', 'BILL_AMT3', 'BILL_AMT4', 'BILL_AMT5', 'BILL_AMT6']\n"
          ]
        }
      ],
      "source": [
        "upper = corr.where(np.triu(np.ones(corr.shape), k = 1).astype(bool))\n",
        "to_drop = [column for column in upper.columns if any(upper[column] >= 0.92)]\n",
        "print(to_drop) "
      ]
    },
    {
      "cell_type": "code",
      "execution_count": 34,
      "metadata": {
        "colab": {
          "base_uri": "https://localhost:8080/",
          "height": 428
        },
        "id": "-6oQ1gTV59dx",
        "outputId": "167bd06f-be62-495c-ec2d-0875880d3597"
      },
      "outputs": [
        {
          "data": {
            "text/html": [
              "<div>\n",
              "<style scoped>\n",
              "    .dataframe tbody tr th:only-of-type {\n",
              "        vertical-align: middle;\n",
              "    }\n",
              "\n",
              "    .dataframe tbody tr th {\n",
              "        vertical-align: top;\n",
              "    }\n",
              "\n",
              "    .dataframe thead th {\n",
              "        text-align: right;\n",
              "    }\n",
              "</style>\n",
              "<table border=\"1\" class=\"dataframe\">\n",
              "  <thead>\n",
              "    <tr style=\"text-align: right;\">\n",
              "      <th></th>\n",
              "      <th>LIMIT_BAL</th>\n",
              "      <th>SEX</th>\n",
              "      <th>EDUCATION</th>\n",
              "      <th>MARRIAGE</th>\n",
              "      <th>AGE</th>\n",
              "      <th>PAY_1</th>\n",
              "      <th>PAY_2</th>\n",
              "      <th>PAY_3</th>\n",
              "      <th>PAY_4</th>\n",
              "      <th>PAY_5</th>\n",
              "      <th>...</th>\n",
              "      <th>BILL_AMT4</th>\n",
              "      <th>BILL_AMT5</th>\n",
              "      <th>BILL_AMT6</th>\n",
              "      <th>PAY_AMT1</th>\n",
              "      <th>PAY_AMT2</th>\n",
              "      <th>PAY_AMT3</th>\n",
              "      <th>PAY_AMT4</th>\n",
              "      <th>PAY_AMT5</th>\n",
              "      <th>PAY_AMT6</th>\n",
              "      <th>default_payment_result</th>\n",
              "    </tr>\n",
              "  </thead>\n",
              "  <tbody>\n",
              "    <tr>\n",
              "      <th>1</th>\n",
              "      <td>20000.0</td>\n",
              "      <td>2</td>\n",
              "      <td>2</td>\n",
              "      <td>1</td>\n",
              "      <td>24</td>\n",
              "      <td>2</td>\n",
              "      <td>2</td>\n",
              "      <td>-1</td>\n",
              "      <td>-1</td>\n",
              "      <td>-2</td>\n",
              "      <td>...</td>\n",
              "      <td>1.0</td>\n",
              "      <td>1.0</td>\n",
              "      <td>1.0</td>\n",
              "      <td>0.0</td>\n",
              "      <td>689.0</td>\n",
              "      <td>0.0</td>\n",
              "      <td>0.0</td>\n",
              "      <td>0.0</td>\n",
              "      <td>0.0</td>\n",
              "      <td>1</td>\n",
              "    </tr>\n",
              "    <tr>\n",
              "      <th>2</th>\n",
              "      <td>120000.0</td>\n",
              "      <td>2</td>\n",
              "      <td>2</td>\n",
              "      <td>2</td>\n",
              "      <td>26</td>\n",
              "      <td>-1</td>\n",
              "      <td>2</td>\n",
              "      <td>0</td>\n",
              "      <td>0</td>\n",
              "      <td>0</td>\n",
              "      <td>...</td>\n",
              "      <td>3273.0</td>\n",
              "      <td>3456.0</td>\n",
              "      <td>3262.0</td>\n",
              "      <td>0.0</td>\n",
              "      <td>1000.0</td>\n",
              "      <td>1000.0</td>\n",
              "      <td>1000.0</td>\n",
              "      <td>0.0</td>\n",
              "      <td>2000.0</td>\n",
              "      <td>1</td>\n",
              "    </tr>\n",
              "    <tr>\n",
              "      <th>3</th>\n",
              "      <td>90000.0</td>\n",
              "      <td>2</td>\n",
              "      <td>2</td>\n",
              "      <td>2</td>\n",
              "      <td>34</td>\n",
              "      <td>0</td>\n",
              "      <td>0</td>\n",
              "      <td>0</td>\n",
              "      <td>0</td>\n",
              "      <td>0</td>\n",
              "      <td>...</td>\n",
              "      <td>14332.0</td>\n",
              "      <td>14949.0</td>\n",
              "      <td>15550.0</td>\n",
              "      <td>1518.0</td>\n",
              "      <td>1500.0</td>\n",
              "      <td>1000.0</td>\n",
              "      <td>1000.0</td>\n",
              "      <td>1000.0</td>\n",
              "      <td>5000.0</td>\n",
              "      <td>0</td>\n",
              "    </tr>\n",
              "    <tr>\n",
              "      <th>4</th>\n",
              "      <td>50000.0</td>\n",
              "      <td>2</td>\n",
              "      <td>2</td>\n",
              "      <td>1</td>\n",
              "      <td>37</td>\n",
              "      <td>0</td>\n",
              "      <td>0</td>\n",
              "      <td>0</td>\n",
              "      <td>0</td>\n",
              "      <td>0</td>\n",
              "      <td>...</td>\n",
              "      <td>28315.0</td>\n",
              "      <td>28960.0</td>\n",
              "      <td>29548.0</td>\n",
              "      <td>2000.0</td>\n",
              "      <td>2019.0</td>\n",
              "      <td>1200.0</td>\n",
              "      <td>1100.0</td>\n",
              "      <td>1069.0</td>\n",
              "      <td>1000.0</td>\n",
              "      <td>0</td>\n",
              "    </tr>\n",
              "    <tr>\n",
              "      <th>5</th>\n",
              "      <td>50000.0</td>\n",
              "      <td>1</td>\n",
              "      <td>2</td>\n",
              "      <td>1</td>\n",
              "      <td>57</td>\n",
              "      <td>-1</td>\n",
              "      <td>0</td>\n",
              "      <td>-1</td>\n",
              "      <td>0</td>\n",
              "      <td>0</td>\n",
              "      <td>...</td>\n",
              "      <td>20941.0</td>\n",
              "      <td>19147.0</td>\n",
              "      <td>19132.0</td>\n",
              "      <td>2000.0</td>\n",
              "      <td>36681.0</td>\n",
              "      <td>10000.0</td>\n",
              "      <td>9000.0</td>\n",
              "      <td>689.0</td>\n",
              "      <td>679.0</td>\n",
              "      <td>0</td>\n",
              "    </tr>\n",
              "    <tr>\n",
              "      <th>...</th>\n",
              "      <td>...</td>\n",
              "      <td>...</td>\n",
              "      <td>...</td>\n",
              "      <td>...</td>\n",
              "      <td>...</td>\n",
              "      <td>...</td>\n",
              "      <td>...</td>\n",
              "      <td>...</td>\n",
              "      <td>...</td>\n",
              "      <td>...</td>\n",
              "      <td>...</td>\n",
              "      <td>...</td>\n",
              "      <td>...</td>\n",
              "      <td>...</td>\n",
              "      <td>...</td>\n",
              "      <td>...</td>\n",
              "      <td>...</td>\n",
              "      <td>...</td>\n",
              "      <td>...</td>\n",
              "      <td>...</td>\n",
              "      <td>...</td>\n",
              "    </tr>\n",
              "    <tr>\n",
              "      <th>29996</th>\n",
              "      <td>220000.0</td>\n",
              "      <td>1</td>\n",
              "      <td>3</td>\n",
              "      <td>1</td>\n",
              "      <td>39</td>\n",
              "      <td>0</td>\n",
              "      <td>0</td>\n",
              "      <td>0</td>\n",
              "      <td>0</td>\n",
              "      <td>0</td>\n",
              "      <td>...</td>\n",
              "      <td>88005.0</td>\n",
              "      <td>31238.0</td>\n",
              "      <td>15981.0</td>\n",
              "      <td>8500.0</td>\n",
              "      <td>20000.0</td>\n",
              "      <td>5003.0</td>\n",
              "      <td>3047.0</td>\n",
              "      <td>5000.0</td>\n",
              "      <td>1000.0</td>\n",
              "      <td>0</td>\n",
              "    </tr>\n",
              "    <tr>\n",
              "      <th>29997</th>\n",
              "      <td>150000.0</td>\n",
              "      <td>1</td>\n",
              "      <td>3</td>\n",
              "      <td>2</td>\n",
              "      <td>43</td>\n",
              "      <td>-1</td>\n",
              "      <td>-1</td>\n",
              "      <td>-1</td>\n",
              "      <td>-1</td>\n",
              "      <td>0</td>\n",
              "      <td>...</td>\n",
              "      <td>8980.0</td>\n",
              "      <td>5191.0</td>\n",
              "      <td>1.0</td>\n",
              "      <td>1837.0</td>\n",
              "      <td>3526.0</td>\n",
              "      <td>8998.0</td>\n",
              "      <td>129.0</td>\n",
              "      <td>0.0</td>\n",
              "      <td>0.0</td>\n",
              "      <td>0</td>\n",
              "    </tr>\n",
              "    <tr>\n",
              "      <th>29998</th>\n",
              "      <td>30000.0</td>\n",
              "      <td>1</td>\n",
              "      <td>2</td>\n",
              "      <td>2</td>\n",
              "      <td>37</td>\n",
              "      <td>4</td>\n",
              "      <td>3</td>\n",
              "      <td>2</td>\n",
              "      <td>-1</td>\n",
              "      <td>0</td>\n",
              "      <td>...</td>\n",
              "      <td>20879.0</td>\n",
              "      <td>20583.0</td>\n",
              "      <td>19358.0</td>\n",
              "      <td>0.0</td>\n",
              "      <td>0.0</td>\n",
              "      <td>22000.0</td>\n",
              "      <td>4200.0</td>\n",
              "      <td>2000.0</td>\n",
              "      <td>3100.0</td>\n",
              "      <td>1</td>\n",
              "    </tr>\n",
              "    <tr>\n",
              "      <th>29999</th>\n",
              "      <td>80000.0</td>\n",
              "      <td>1</td>\n",
              "      <td>3</td>\n",
              "      <td>1</td>\n",
              "      <td>41</td>\n",
              "      <td>1</td>\n",
              "      <td>-1</td>\n",
              "      <td>0</td>\n",
              "      <td>0</td>\n",
              "      <td>0</td>\n",
              "      <td>...</td>\n",
              "      <td>52775.0</td>\n",
              "      <td>11856.0</td>\n",
              "      <td>48945.0</td>\n",
              "      <td>85900.0</td>\n",
              "      <td>3409.0</td>\n",
              "      <td>1178.0</td>\n",
              "      <td>1926.0</td>\n",
              "      <td>52964.0</td>\n",
              "      <td>1804.0</td>\n",
              "      <td>1</td>\n",
              "    </tr>\n",
              "    <tr>\n",
              "      <th>30000</th>\n",
              "      <td>50000.0</td>\n",
              "      <td>1</td>\n",
              "      <td>2</td>\n",
              "      <td>1</td>\n",
              "      <td>46</td>\n",
              "      <td>0</td>\n",
              "      <td>0</td>\n",
              "      <td>0</td>\n",
              "      <td>0</td>\n",
              "      <td>0</td>\n",
              "      <td>...</td>\n",
              "      <td>36536.0</td>\n",
              "      <td>32429.0</td>\n",
              "      <td>15314.0</td>\n",
              "      <td>2078.0</td>\n",
              "      <td>1800.0</td>\n",
              "      <td>1430.0</td>\n",
              "      <td>1000.0</td>\n",
              "      <td>1000.0</td>\n",
              "      <td>1000.0</td>\n",
              "      <td>1</td>\n",
              "    </tr>\n",
              "  </tbody>\n",
              "</table>\n",
              "<p>30000 rows × 24 columns</p>\n",
              "</div>"
            ],
            "text/plain": [
              "0      LIMIT_BAL  SEX  EDUCATION  MARRIAGE  AGE  PAY_1  PAY_2  PAY_3  PAY_4  \\\n",
              "1        20000.0    2          2         1   24      2      2     -1     -1   \n",
              "2       120000.0    2          2         2   26     -1      2      0      0   \n",
              "3        90000.0    2          2         2   34      0      0      0      0   \n",
              "4        50000.0    2          2         1   37      0      0      0      0   \n",
              "5        50000.0    1          2         1   57     -1      0     -1      0   \n",
              "...          ...  ...        ...       ...  ...    ...    ...    ...    ...   \n",
              "29996   220000.0    1          3         1   39      0      0      0      0   \n",
              "29997   150000.0    1          3         2   43     -1     -1     -1     -1   \n",
              "29998    30000.0    1          2         2   37      4      3      2     -1   \n",
              "29999    80000.0    1          3         1   41      1     -1      0      0   \n",
              "30000    50000.0    1          2         1   46      0      0      0      0   \n",
              "\n",
              "0      PAY_5  ...  BILL_AMT4  BILL_AMT5  BILL_AMT6  PAY_AMT1  PAY_AMT2  \\\n",
              "1         -2  ...        1.0        1.0        1.0       0.0     689.0   \n",
              "2          0  ...     3273.0     3456.0     3262.0       0.0    1000.0   \n",
              "3          0  ...    14332.0    14949.0    15550.0    1518.0    1500.0   \n",
              "4          0  ...    28315.0    28960.0    29548.0    2000.0    2019.0   \n",
              "5          0  ...    20941.0    19147.0    19132.0    2000.0   36681.0   \n",
              "...      ...  ...        ...        ...        ...       ...       ...   \n",
              "29996      0  ...    88005.0    31238.0    15981.0    8500.0   20000.0   \n",
              "29997      0  ...     8980.0     5191.0        1.0    1837.0    3526.0   \n",
              "29998      0  ...    20879.0    20583.0    19358.0       0.0       0.0   \n",
              "29999      0  ...    52775.0    11856.0    48945.0   85900.0    3409.0   \n",
              "30000      0  ...    36536.0    32429.0    15314.0    2078.0    1800.0   \n",
              "\n",
              "0      PAY_AMT3  PAY_AMT4  PAY_AMT5  PAY_AMT6  default_payment_result  \n",
              "1           0.0       0.0       0.0       0.0                       1  \n",
              "2        1000.0    1000.0       0.0    2000.0                       1  \n",
              "3        1000.0    1000.0    1000.0    5000.0                       0  \n",
              "4        1200.0    1100.0    1069.0    1000.0                       0  \n",
              "5       10000.0    9000.0     689.0     679.0                       0  \n",
              "...         ...       ...       ...       ...                     ...  \n",
              "29996    5003.0    3047.0    5000.0    1000.0                       0  \n",
              "29997    8998.0     129.0       0.0       0.0                       0  \n",
              "29998   22000.0    4200.0    2000.0    3100.0                       1  \n",
              "29999    1178.0    1926.0   52964.0    1804.0                       1  \n",
              "30000    1430.0    1000.0    1000.0    1000.0                       1  \n",
              "\n",
              "[30000 rows x 24 columns]"
            ]
          },
          "execution_count": 34,
          "metadata": {},
          "output_type": "execute_result"
        }
      ],
      "source": [
        "df1"
      ]
    },
    {
      "cell_type": "code",
      "execution_count": 35,
      "metadata": {
        "colab": {
          "base_uri": "https://localhost:8080/",
          "height": 428
        },
        "id": "4uBmGqh36CkK",
        "outputId": "bdb672c0-faaa-4b30-b668-de267efa3866"
      },
      "outputs": [
        {
          "data": {
            "text/html": [
              "<div>\n",
              "<style scoped>\n",
              "    .dataframe tbody tr th:only-of-type {\n",
              "        vertical-align: middle;\n",
              "    }\n",
              "\n",
              "    .dataframe tbody tr th {\n",
              "        vertical-align: top;\n",
              "    }\n",
              "\n",
              "    .dataframe thead th {\n",
              "        text-align: right;\n",
              "    }\n",
              "</style>\n",
              "<table border=\"1\" class=\"dataframe\">\n",
              "  <thead>\n",
              "    <tr style=\"text-align: right;\">\n",
              "      <th></th>\n",
              "      <th>LIMIT_BAL</th>\n",
              "      <th>SEX</th>\n",
              "      <th>EDUCATION</th>\n",
              "      <th>MARRIAGE</th>\n",
              "      <th>AGE</th>\n",
              "      <th>PAY_1</th>\n",
              "      <th>PAY_2</th>\n",
              "      <th>PAY_3</th>\n",
              "      <th>PAY_4</th>\n",
              "      <th>PAY_5</th>\n",
              "      <th>PAY_6</th>\n",
              "      <th>BILL_AMT1</th>\n",
              "      <th>PAY_AMT1</th>\n",
              "      <th>PAY_AMT2</th>\n",
              "      <th>PAY_AMT3</th>\n",
              "      <th>PAY_AMT4</th>\n",
              "      <th>PAY_AMT5</th>\n",
              "      <th>PAY_AMT6</th>\n",
              "      <th>default_payment_result</th>\n",
              "    </tr>\n",
              "  </thead>\n",
              "  <tbody>\n",
              "    <tr>\n",
              "      <th>1</th>\n",
              "      <td>20000.0</td>\n",
              "      <td>2</td>\n",
              "      <td>2</td>\n",
              "      <td>1</td>\n",
              "      <td>24</td>\n",
              "      <td>2</td>\n",
              "      <td>2</td>\n",
              "      <td>-1</td>\n",
              "      <td>-1</td>\n",
              "      <td>-2</td>\n",
              "      <td>-2</td>\n",
              "      <td>3914.0</td>\n",
              "      <td>0.0</td>\n",
              "      <td>689.0</td>\n",
              "      <td>0.0</td>\n",
              "      <td>0.0</td>\n",
              "      <td>0.0</td>\n",
              "      <td>0.0</td>\n",
              "      <td>1</td>\n",
              "    </tr>\n",
              "    <tr>\n",
              "      <th>2</th>\n",
              "      <td>120000.0</td>\n",
              "      <td>2</td>\n",
              "      <td>2</td>\n",
              "      <td>2</td>\n",
              "      <td>26</td>\n",
              "      <td>-1</td>\n",
              "      <td>2</td>\n",
              "      <td>0</td>\n",
              "      <td>0</td>\n",
              "      <td>0</td>\n",
              "      <td>2</td>\n",
              "      <td>2683.0</td>\n",
              "      <td>0.0</td>\n",
              "      <td>1000.0</td>\n",
              "      <td>1000.0</td>\n",
              "      <td>1000.0</td>\n",
              "      <td>0.0</td>\n",
              "      <td>2000.0</td>\n",
              "      <td>1</td>\n",
              "    </tr>\n",
              "    <tr>\n",
              "      <th>3</th>\n",
              "      <td>90000.0</td>\n",
              "      <td>2</td>\n",
              "      <td>2</td>\n",
              "      <td>2</td>\n",
              "      <td>34</td>\n",
              "      <td>0</td>\n",
              "      <td>0</td>\n",
              "      <td>0</td>\n",
              "      <td>0</td>\n",
              "      <td>0</td>\n",
              "      <td>0</td>\n",
              "      <td>29240.0</td>\n",
              "      <td>1518.0</td>\n",
              "      <td>1500.0</td>\n",
              "      <td>1000.0</td>\n",
              "      <td>1000.0</td>\n",
              "      <td>1000.0</td>\n",
              "      <td>5000.0</td>\n",
              "      <td>0</td>\n",
              "    </tr>\n",
              "    <tr>\n",
              "      <th>4</th>\n",
              "      <td>50000.0</td>\n",
              "      <td>2</td>\n",
              "      <td>2</td>\n",
              "      <td>1</td>\n",
              "      <td>37</td>\n",
              "      <td>0</td>\n",
              "      <td>0</td>\n",
              "      <td>0</td>\n",
              "      <td>0</td>\n",
              "      <td>0</td>\n",
              "      <td>0</td>\n",
              "      <td>46991.0</td>\n",
              "      <td>2000.0</td>\n",
              "      <td>2019.0</td>\n",
              "      <td>1200.0</td>\n",
              "      <td>1100.0</td>\n",
              "      <td>1069.0</td>\n",
              "      <td>1000.0</td>\n",
              "      <td>0</td>\n",
              "    </tr>\n",
              "    <tr>\n",
              "      <th>5</th>\n",
              "      <td>50000.0</td>\n",
              "      <td>1</td>\n",
              "      <td>2</td>\n",
              "      <td>1</td>\n",
              "      <td>57</td>\n",
              "      <td>-1</td>\n",
              "      <td>0</td>\n",
              "      <td>-1</td>\n",
              "      <td>0</td>\n",
              "      <td>0</td>\n",
              "      <td>0</td>\n",
              "      <td>8618.0</td>\n",
              "      <td>2000.0</td>\n",
              "      <td>36681.0</td>\n",
              "      <td>10000.0</td>\n",
              "      <td>9000.0</td>\n",
              "      <td>689.0</td>\n",
              "      <td>679.0</td>\n",
              "      <td>0</td>\n",
              "    </tr>\n",
              "    <tr>\n",
              "      <th>...</th>\n",
              "      <td>...</td>\n",
              "      <td>...</td>\n",
              "      <td>...</td>\n",
              "      <td>...</td>\n",
              "      <td>...</td>\n",
              "      <td>...</td>\n",
              "      <td>...</td>\n",
              "      <td>...</td>\n",
              "      <td>...</td>\n",
              "      <td>...</td>\n",
              "      <td>...</td>\n",
              "      <td>...</td>\n",
              "      <td>...</td>\n",
              "      <td>...</td>\n",
              "      <td>...</td>\n",
              "      <td>...</td>\n",
              "      <td>...</td>\n",
              "      <td>...</td>\n",
              "      <td>...</td>\n",
              "    </tr>\n",
              "    <tr>\n",
              "      <th>29996</th>\n",
              "      <td>220000.0</td>\n",
              "      <td>1</td>\n",
              "      <td>3</td>\n",
              "      <td>1</td>\n",
              "      <td>39</td>\n",
              "      <td>0</td>\n",
              "      <td>0</td>\n",
              "      <td>0</td>\n",
              "      <td>0</td>\n",
              "      <td>0</td>\n",
              "      <td>0</td>\n",
              "      <td>188949.0</td>\n",
              "      <td>8500.0</td>\n",
              "      <td>20000.0</td>\n",
              "      <td>5003.0</td>\n",
              "      <td>3047.0</td>\n",
              "      <td>5000.0</td>\n",
              "      <td>1000.0</td>\n",
              "      <td>0</td>\n",
              "    </tr>\n",
              "    <tr>\n",
              "      <th>29997</th>\n",
              "      <td>150000.0</td>\n",
              "      <td>1</td>\n",
              "      <td>3</td>\n",
              "      <td>2</td>\n",
              "      <td>43</td>\n",
              "      <td>-1</td>\n",
              "      <td>-1</td>\n",
              "      <td>-1</td>\n",
              "      <td>-1</td>\n",
              "      <td>0</td>\n",
              "      <td>0</td>\n",
              "      <td>1684.0</td>\n",
              "      <td>1837.0</td>\n",
              "      <td>3526.0</td>\n",
              "      <td>8998.0</td>\n",
              "      <td>129.0</td>\n",
              "      <td>0.0</td>\n",
              "      <td>0.0</td>\n",
              "      <td>0</td>\n",
              "    </tr>\n",
              "    <tr>\n",
              "      <th>29998</th>\n",
              "      <td>30000.0</td>\n",
              "      <td>1</td>\n",
              "      <td>2</td>\n",
              "      <td>2</td>\n",
              "      <td>37</td>\n",
              "      <td>4</td>\n",
              "      <td>3</td>\n",
              "      <td>2</td>\n",
              "      <td>-1</td>\n",
              "      <td>0</td>\n",
              "      <td>0</td>\n",
              "      <td>3566.0</td>\n",
              "      <td>0.0</td>\n",
              "      <td>0.0</td>\n",
              "      <td>22000.0</td>\n",
              "      <td>4200.0</td>\n",
              "      <td>2000.0</td>\n",
              "      <td>3100.0</td>\n",
              "      <td>1</td>\n",
              "    </tr>\n",
              "    <tr>\n",
              "      <th>29999</th>\n",
              "      <td>80000.0</td>\n",
              "      <td>1</td>\n",
              "      <td>3</td>\n",
              "      <td>1</td>\n",
              "      <td>41</td>\n",
              "      <td>1</td>\n",
              "      <td>-1</td>\n",
              "      <td>0</td>\n",
              "      <td>0</td>\n",
              "      <td>0</td>\n",
              "      <td>-1</td>\n",
              "      <td>-1644.0</td>\n",
              "      <td>85900.0</td>\n",
              "      <td>3409.0</td>\n",
              "      <td>1178.0</td>\n",
              "      <td>1926.0</td>\n",
              "      <td>52964.0</td>\n",
              "      <td>1804.0</td>\n",
              "      <td>1</td>\n",
              "    </tr>\n",
              "    <tr>\n",
              "      <th>30000</th>\n",
              "      <td>50000.0</td>\n",
              "      <td>1</td>\n",
              "      <td>2</td>\n",
              "      <td>1</td>\n",
              "      <td>46</td>\n",
              "      <td>0</td>\n",
              "      <td>0</td>\n",
              "      <td>0</td>\n",
              "      <td>0</td>\n",
              "      <td>0</td>\n",
              "      <td>0</td>\n",
              "      <td>47930.0</td>\n",
              "      <td>2078.0</td>\n",
              "      <td>1800.0</td>\n",
              "      <td>1430.0</td>\n",
              "      <td>1000.0</td>\n",
              "      <td>1000.0</td>\n",
              "      <td>1000.0</td>\n",
              "      <td>1</td>\n",
              "    </tr>\n",
              "  </tbody>\n",
              "</table>\n",
              "<p>30000 rows × 19 columns</p>\n",
              "</div>"
            ],
            "text/plain": [
              "0      LIMIT_BAL  SEX  EDUCATION  MARRIAGE  AGE  PAY_1  PAY_2  PAY_3  PAY_4  \\\n",
              "1        20000.0    2          2         1   24      2      2     -1     -1   \n",
              "2       120000.0    2          2         2   26     -1      2      0      0   \n",
              "3        90000.0    2          2         2   34      0      0      0      0   \n",
              "4        50000.0    2          2         1   37      0      0      0      0   \n",
              "5        50000.0    1          2         1   57     -1      0     -1      0   \n",
              "...          ...  ...        ...       ...  ...    ...    ...    ...    ...   \n",
              "29996   220000.0    1          3         1   39      0      0      0      0   \n",
              "29997   150000.0    1          3         2   43     -1     -1     -1     -1   \n",
              "29998    30000.0    1          2         2   37      4      3      2     -1   \n",
              "29999    80000.0    1          3         1   41      1     -1      0      0   \n",
              "30000    50000.0    1          2         1   46      0      0      0      0   \n",
              "\n",
              "0      PAY_5  PAY_6  BILL_AMT1  PAY_AMT1  PAY_AMT2  PAY_AMT3  PAY_AMT4  \\\n",
              "1         -2     -2     3914.0       0.0     689.0       0.0       0.0   \n",
              "2          0      2     2683.0       0.0    1000.0    1000.0    1000.0   \n",
              "3          0      0    29240.0    1518.0    1500.0    1000.0    1000.0   \n",
              "4          0      0    46991.0    2000.0    2019.0    1200.0    1100.0   \n",
              "5          0      0     8618.0    2000.0   36681.0   10000.0    9000.0   \n",
              "...      ...    ...        ...       ...       ...       ...       ...   \n",
              "29996      0      0   188949.0    8500.0   20000.0    5003.0    3047.0   \n",
              "29997      0      0     1684.0    1837.0    3526.0    8998.0     129.0   \n",
              "29998      0      0     3566.0       0.0       0.0   22000.0    4200.0   \n",
              "29999      0     -1    -1644.0   85900.0    3409.0    1178.0    1926.0   \n",
              "30000      0      0    47930.0    2078.0    1800.0    1430.0    1000.0   \n",
              "\n",
              "0      PAY_AMT5  PAY_AMT6  default_payment_result  \n",
              "1           0.0       0.0                       1  \n",
              "2           0.0    2000.0                       1  \n",
              "3        1000.0    5000.0                       0  \n",
              "4        1069.0    1000.0                       0  \n",
              "5         689.0     679.0                       0  \n",
              "...         ...       ...                     ...  \n",
              "29996    5000.0    1000.0                       0  \n",
              "29997       0.0       0.0                       0  \n",
              "29998    2000.0    3100.0                       1  \n",
              "29999   52964.0    1804.0                       1  \n",
              "30000    1000.0    1000.0                       1  \n",
              "\n",
              "[30000 rows x 19 columns]"
            ]
          },
          "execution_count": 35,
          "metadata": {},
          "output_type": "execute_result"
        }
      ],
      "source": [
        "df1 = df1.drop(df1[to_drop], axis = 1)\n",
        "df1"
      ]
    },
    {
      "cell_type": "code",
      "execution_count": 36,
      "metadata": {
        "id": "7Lp1Mu6vi2BR"
      },
      "outputs": [
        {
          "data": {
            "text/html": [
              "<div>\n",
              "<style scoped>\n",
              "    .dataframe tbody tr th:only-of-type {\n",
              "        vertical-align: middle;\n",
              "    }\n",
              "\n",
              "    .dataframe tbody tr th {\n",
              "        vertical-align: top;\n",
              "    }\n",
              "\n",
              "    .dataframe thead th {\n",
              "        text-align: right;\n",
              "    }\n",
              "</style>\n",
              "<table border=\"1\" class=\"dataframe\">\n",
              "  <thead>\n",
              "    <tr style=\"text-align: right;\">\n",
              "      <th></th>\n",
              "      <th>SEX_1</th>\n",
              "      <th>SEX_2</th>\n",
              "      <th>EDUCATION_1</th>\n",
              "      <th>EDUCATION_2</th>\n",
              "      <th>EDUCATION_3</th>\n",
              "      <th>EDUCATION_4</th>\n",
              "      <th>MARRIAGE_1</th>\n",
              "      <th>MARRIAGE_2</th>\n",
              "      <th>MARRIAGE_3</th>\n",
              "      <th>LIMIT_BAL</th>\n",
              "      <th>...</th>\n",
              "      <th>PAY_5</th>\n",
              "      <th>PAY_6</th>\n",
              "      <th>BILL_AMT1</th>\n",
              "      <th>PAY_AMT1</th>\n",
              "      <th>PAY_AMT2</th>\n",
              "      <th>PAY_AMT3</th>\n",
              "      <th>PAY_AMT4</th>\n",
              "      <th>PAY_AMT5</th>\n",
              "      <th>PAY_AMT6</th>\n",
              "      <th>default_payment_result</th>\n",
              "    </tr>\n",
              "  </thead>\n",
              "  <tbody>\n",
              "    <tr>\n",
              "      <th>1</th>\n",
              "      <td>0</td>\n",
              "      <td>1</td>\n",
              "      <td>0</td>\n",
              "      <td>1</td>\n",
              "      <td>0</td>\n",
              "      <td>0</td>\n",
              "      <td>1</td>\n",
              "      <td>0</td>\n",
              "      <td>0</td>\n",
              "      <td>20000.0</td>\n",
              "      <td>...</td>\n",
              "      <td>-2</td>\n",
              "      <td>-2</td>\n",
              "      <td>3914.0</td>\n",
              "      <td>0.0</td>\n",
              "      <td>689.0</td>\n",
              "      <td>0.0</td>\n",
              "      <td>0.0</td>\n",
              "      <td>0.0</td>\n",
              "      <td>0.0</td>\n",
              "      <td>1</td>\n",
              "    </tr>\n",
              "    <tr>\n",
              "      <th>2</th>\n",
              "      <td>0</td>\n",
              "      <td>1</td>\n",
              "      <td>0</td>\n",
              "      <td>1</td>\n",
              "      <td>0</td>\n",
              "      <td>0</td>\n",
              "      <td>0</td>\n",
              "      <td>1</td>\n",
              "      <td>0</td>\n",
              "      <td>120000.0</td>\n",
              "      <td>...</td>\n",
              "      <td>0</td>\n",
              "      <td>2</td>\n",
              "      <td>2683.0</td>\n",
              "      <td>0.0</td>\n",
              "      <td>1000.0</td>\n",
              "      <td>1000.0</td>\n",
              "      <td>1000.0</td>\n",
              "      <td>0.0</td>\n",
              "      <td>2000.0</td>\n",
              "      <td>1</td>\n",
              "    </tr>\n",
              "    <tr>\n",
              "      <th>3</th>\n",
              "      <td>0</td>\n",
              "      <td>1</td>\n",
              "      <td>0</td>\n",
              "      <td>1</td>\n",
              "      <td>0</td>\n",
              "      <td>0</td>\n",
              "      <td>0</td>\n",
              "      <td>1</td>\n",
              "      <td>0</td>\n",
              "      <td>90000.0</td>\n",
              "      <td>...</td>\n",
              "      <td>0</td>\n",
              "      <td>0</td>\n",
              "      <td>29240.0</td>\n",
              "      <td>1518.0</td>\n",
              "      <td>1500.0</td>\n",
              "      <td>1000.0</td>\n",
              "      <td>1000.0</td>\n",
              "      <td>1000.0</td>\n",
              "      <td>5000.0</td>\n",
              "      <td>0</td>\n",
              "    </tr>\n",
              "    <tr>\n",
              "      <th>4</th>\n",
              "      <td>0</td>\n",
              "      <td>1</td>\n",
              "      <td>0</td>\n",
              "      <td>1</td>\n",
              "      <td>0</td>\n",
              "      <td>0</td>\n",
              "      <td>1</td>\n",
              "      <td>0</td>\n",
              "      <td>0</td>\n",
              "      <td>50000.0</td>\n",
              "      <td>...</td>\n",
              "      <td>0</td>\n",
              "      <td>0</td>\n",
              "      <td>46991.0</td>\n",
              "      <td>2000.0</td>\n",
              "      <td>2019.0</td>\n",
              "      <td>1200.0</td>\n",
              "      <td>1100.0</td>\n",
              "      <td>1069.0</td>\n",
              "      <td>1000.0</td>\n",
              "      <td>0</td>\n",
              "    </tr>\n",
              "    <tr>\n",
              "      <th>5</th>\n",
              "      <td>1</td>\n",
              "      <td>0</td>\n",
              "      <td>0</td>\n",
              "      <td>1</td>\n",
              "      <td>0</td>\n",
              "      <td>0</td>\n",
              "      <td>1</td>\n",
              "      <td>0</td>\n",
              "      <td>0</td>\n",
              "      <td>50000.0</td>\n",
              "      <td>...</td>\n",
              "      <td>0</td>\n",
              "      <td>0</td>\n",
              "      <td>8618.0</td>\n",
              "      <td>2000.0</td>\n",
              "      <td>36681.0</td>\n",
              "      <td>10000.0</td>\n",
              "      <td>9000.0</td>\n",
              "      <td>689.0</td>\n",
              "      <td>679.0</td>\n",
              "      <td>0</td>\n",
              "    </tr>\n",
              "    <tr>\n",
              "      <th>...</th>\n",
              "      <td>...</td>\n",
              "      <td>...</td>\n",
              "      <td>...</td>\n",
              "      <td>...</td>\n",
              "      <td>...</td>\n",
              "      <td>...</td>\n",
              "      <td>...</td>\n",
              "      <td>...</td>\n",
              "      <td>...</td>\n",
              "      <td>...</td>\n",
              "      <td>...</td>\n",
              "      <td>...</td>\n",
              "      <td>...</td>\n",
              "      <td>...</td>\n",
              "      <td>...</td>\n",
              "      <td>...</td>\n",
              "      <td>...</td>\n",
              "      <td>...</td>\n",
              "      <td>...</td>\n",
              "      <td>...</td>\n",
              "      <td>...</td>\n",
              "    </tr>\n",
              "    <tr>\n",
              "      <th>29996</th>\n",
              "      <td>1</td>\n",
              "      <td>0</td>\n",
              "      <td>0</td>\n",
              "      <td>0</td>\n",
              "      <td>1</td>\n",
              "      <td>0</td>\n",
              "      <td>1</td>\n",
              "      <td>0</td>\n",
              "      <td>0</td>\n",
              "      <td>220000.0</td>\n",
              "      <td>...</td>\n",
              "      <td>0</td>\n",
              "      <td>0</td>\n",
              "      <td>188949.0</td>\n",
              "      <td>8500.0</td>\n",
              "      <td>20000.0</td>\n",
              "      <td>5003.0</td>\n",
              "      <td>3047.0</td>\n",
              "      <td>5000.0</td>\n",
              "      <td>1000.0</td>\n",
              "      <td>0</td>\n",
              "    </tr>\n",
              "    <tr>\n",
              "      <th>29997</th>\n",
              "      <td>1</td>\n",
              "      <td>0</td>\n",
              "      <td>0</td>\n",
              "      <td>0</td>\n",
              "      <td>1</td>\n",
              "      <td>0</td>\n",
              "      <td>0</td>\n",
              "      <td>1</td>\n",
              "      <td>0</td>\n",
              "      <td>150000.0</td>\n",
              "      <td>...</td>\n",
              "      <td>0</td>\n",
              "      <td>0</td>\n",
              "      <td>1684.0</td>\n",
              "      <td>1837.0</td>\n",
              "      <td>3526.0</td>\n",
              "      <td>8998.0</td>\n",
              "      <td>129.0</td>\n",
              "      <td>0.0</td>\n",
              "      <td>0.0</td>\n",
              "      <td>0</td>\n",
              "    </tr>\n",
              "    <tr>\n",
              "      <th>29998</th>\n",
              "      <td>1</td>\n",
              "      <td>0</td>\n",
              "      <td>0</td>\n",
              "      <td>1</td>\n",
              "      <td>0</td>\n",
              "      <td>0</td>\n",
              "      <td>0</td>\n",
              "      <td>1</td>\n",
              "      <td>0</td>\n",
              "      <td>30000.0</td>\n",
              "      <td>...</td>\n",
              "      <td>0</td>\n",
              "      <td>0</td>\n",
              "      <td>3566.0</td>\n",
              "      <td>0.0</td>\n",
              "      <td>0.0</td>\n",
              "      <td>22000.0</td>\n",
              "      <td>4200.0</td>\n",
              "      <td>2000.0</td>\n",
              "      <td>3100.0</td>\n",
              "      <td>1</td>\n",
              "    </tr>\n",
              "    <tr>\n",
              "      <th>29999</th>\n",
              "      <td>1</td>\n",
              "      <td>0</td>\n",
              "      <td>0</td>\n",
              "      <td>0</td>\n",
              "      <td>1</td>\n",
              "      <td>0</td>\n",
              "      <td>1</td>\n",
              "      <td>0</td>\n",
              "      <td>0</td>\n",
              "      <td>80000.0</td>\n",
              "      <td>...</td>\n",
              "      <td>0</td>\n",
              "      <td>-1</td>\n",
              "      <td>-1644.0</td>\n",
              "      <td>85900.0</td>\n",
              "      <td>3409.0</td>\n",
              "      <td>1178.0</td>\n",
              "      <td>1926.0</td>\n",
              "      <td>52964.0</td>\n",
              "      <td>1804.0</td>\n",
              "      <td>1</td>\n",
              "    </tr>\n",
              "    <tr>\n",
              "      <th>30000</th>\n",
              "      <td>1</td>\n",
              "      <td>0</td>\n",
              "      <td>0</td>\n",
              "      <td>1</td>\n",
              "      <td>0</td>\n",
              "      <td>0</td>\n",
              "      <td>1</td>\n",
              "      <td>0</td>\n",
              "      <td>0</td>\n",
              "      <td>50000.0</td>\n",
              "      <td>...</td>\n",
              "      <td>0</td>\n",
              "      <td>0</td>\n",
              "      <td>47930.0</td>\n",
              "      <td>2078.0</td>\n",
              "      <td>1800.0</td>\n",
              "      <td>1430.0</td>\n",
              "      <td>1000.0</td>\n",
              "      <td>1000.0</td>\n",
              "      <td>1000.0</td>\n",
              "      <td>1</td>\n",
              "    </tr>\n",
              "  </tbody>\n",
              "</table>\n",
              "<p>30000 rows × 25 columns</p>\n",
              "</div>"
            ],
            "text/plain": [
              "       SEX_1  SEX_2  EDUCATION_1  EDUCATION_2  EDUCATION_3  EDUCATION_4  \\\n",
              "1          0      1            0            1            0            0   \n",
              "2          0      1            0            1            0            0   \n",
              "3          0      1            0            1            0            0   \n",
              "4          0      1            0            1            0            0   \n",
              "5          1      0            0            1            0            0   \n",
              "...      ...    ...          ...          ...          ...          ...   \n",
              "29996      1      0            0            0            1            0   \n",
              "29997      1      0            0            0            1            0   \n",
              "29998      1      0            0            1            0            0   \n",
              "29999      1      0            0            0            1            0   \n",
              "30000      1      0            0            1            0            0   \n",
              "\n",
              "       MARRIAGE_1  MARRIAGE_2  MARRIAGE_3  LIMIT_BAL  ...  PAY_5  PAY_6  \\\n",
              "1               1           0           0    20000.0  ...     -2     -2   \n",
              "2               0           1           0   120000.0  ...      0      2   \n",
              "3               0           1           0    90000.0  ...      0      0   \n",
              "4               1           0           0    50000.0  ...      0      0   \n",
              "5               1           0           0    50000.0  ...      0      0   \n",
              "...           ...         ...         ...        ...  ...    ...    ...   \n",
              "29996           1           0           0   220000.0  ...      0      0   \n",
              "29997           0           1           0   150000.0  ...      0      0   \n",
              "29998           0           1           0    30000.0  ...      0      0   \n",
              "29999           1           0           0    80000.0  ...      0     -1   \n",
              "30000           1           0           0    50000.0  ...      0      0   \n",
              "\n",
              "       BILL_AMT1  PAY_AMT1  PAY_AMT2  PAY_AMT3  PAY_AMT4  PAY_AMT5  PAY_AMT6  \\\n",
              "1         3914.0       0.0     689.0       0.0       0.0       0.0       0.0   \n",
              "2         2683.0       0.0    1000.0    1000.0    1000.0       0.0    2000.0   \n",
              "3        29240.0    1518.0    1500.0    1000.0    1000.0    1000.0    5000.0   \n",
              "4        46991.0    2000.0    2019.0    1200.0    1100.0    1069.0    1000.0   \n",
              "5         8618.0    2000.0   36681.0   10000.0    9000.0     689.0     679.0   \n",
              "...          ...       ...       ...       ...       ...       ...       ...   \n",
              "29996   188949.0    8500.0   20000.0    5003.0    3047.0    5000.0    1000.0   \n",
              "29997     1684.0    1837.0    3526.0    8998.0     129.0       0.0       0.0   \n",
              "29998     3566.0       0.0       0.0   22000.0    4200.0    2000.0    3100.0   \n",
              "29999    -1644.0   85900.0    3409.0    1178.0    1926.0   52964.0    1804.0   \n",
              "30000    47930.0    2078.0    1800.0    1430.0    1000.0    1000.0    1000.0   \n",
              "\n",
              "       default_payment_result  \n",
              "1                           1  \n",
              "2                           1  \n",
              "3                           0  \n",
              "4                           0  \n",
              "5                           0  \n",
              "...                       ...  \n",
              "29996                       0  \n",
              "29997                       0  \n",
              "29998                       1  \n",
              "29999                       1  \n",
              "30000                       1  \n",
              "\n",
              "[30000 rows x 25 columns]"
            ]
          },
          "execution_count": 36,
          "metadata": {},
          "output_type": "execute_result"
        }
      ],
      "source": [
        "#categorical data\n",
        "for att in ['SEX', 'EDUCATION', 'MARRIAGE']:\n",
        "  df1[att] = df1[att].astype('category')\n",
        "\n",
        "#one-hot encoding\n",
        "df1 = pd.concat([pd.get_dummies(df1['SEX'], prefix = 'SEX'), pd.get_dummies(df1['EDUCATION'], prefix = 'EDUCATION'), \n",
        "                pd.get_dummies(df1['MARRIAGE'], prefix = 'MARRIAGE'), df1], axis = 1)\n",
        "# drop original columns\n",
        "df1.drop(['EDUCATION'], axis = 1, inplace = True)\n",
        "df1.drop(['SEX'], axis = 1, inplace = True)\n",
        "df1.drop(['MARRIAGE'], axis = 1, inplace = True)\n",
        "\n",
        "df1"
      ]
    },
    {
      "cell_type": "code",
      "execution_count": 37,
      "metadata": {
        "colab": {
          "base_uri": "https://localhost:8080/"
        },
        "id": "dG8SLOh8naaE",
        "outputId": "85908543-b55b-4787-f568-baa5b07b4409"
      },
      "outputs": [
        {
          "data": {
            "text/plain": [
              "0    26921\n",
              "2     2766\n",
              "3      184\n",
              "4       49\n",
              "7       46\n",
              "6       19\n",
              "5       13\n",
              "8        2\n",
              "Name: PAY_6, dtype: int64"
            ]
          },
          "execution_count": 37,
          "metadata": {},
          "output_type": "execute_result"
        }
      ],
      "source": [
        "fil = (df1.PAY_1 == -1) | (df1.PAY_1 == -2)\n",
        "df1.loc[fil, 'PAY_1'] = 0\n",
        "df1.PAY_1.value_counts()\n",
        "fil = (df1.PAY_2 == -1) | (df1.PAY_2 == -2)\n",
        "df1.loc[fil, 'PAY_2'] = 0\n",
        "df1.PAY_2.value_counts()\n",
        "fil = (df1.PAY_3 == -1) | (df1.PAY_3 == -2)\n",
        "df1.loc[fil, 'PAY_3'] = 0\n",
        "df1.PAY_3.value_counts()\n",
        "fil = (df1.PAY_4 == -1) | (df1.PAY_4 == -2)\n",
        "df1.loc[fil, 'PAY_4'] = 0\n",
        "df1.PAY_4.value_counts()\n",
        "fil = (df1.PAY_5 == -1) | (df1.PAY_5 == -2)\n",
        "df1.loc[fil, 'PAY_5'] = 0\n",
        "df1.PAY_5.value_counts()\n",
        "fil = (df1.PAY_6 == -1) | (df1.PAY_6 == -2)\n",
        "df1.loc[fil, 'PAY_6'] = 0\n",
        "df1.PAY_6.value_counts()"
      ]
    },
    {
      "cell_type": "code",
      "execution_count": 38,
      "metadata": {
        "id": "QqFvNag6DOiH"
      },
      "outputs": [],
      "source": [
        "# Separating features and target\n",
        "y = df1.default_payment_result \n",
        "X = df1.drop('default_payment_result', axis = 1, inplace = False)"
      ]
    },
    {
      "cell_type": "markdown",
      "metadata": {
        "id": "4_--DP4Psed7"
      },
      "source": [
        "Splitting Data into Training and Testing Set"
      ]
    },
    {
      "cell_type": "code",
      "execution_count": 39,
      "metadata": {
        "id": "PQZ6a57Brxsv"
      },
      "outputs": [],
      "source": [
        "# Dataset with standardized features\n",
        "X_standardized = (X - X.mean()) / (X.std())             \n",
        "X_train, X_test, y_train, y_test = train_test_split(X_standardized, y, test_size = 0.3, stratify = y, random_state = 42)"
      ]
    },
    {
      "cell_type": "markdown",
      "metadata": {},
      "source": [
        "### GridSearch Models"
      ]
    },
    {
      "cell_type": "markdown",
      "metadata": {
        "id": "-7LIx0qDR8Ii"
      },
      "source": [
        "SVM"
      ]
    },
    {
      "cell_type": "code",
      "execution_count": 40,
      "metadata": {
        "colab": {
          "base_uri": "https://localhost:8080/"
        },
        "id": "RaDy5Ion9Zl6",
        "outputId": "47a65f0a-6d93-4c17-82f6-883c20feaf6f"
      },
      "outputs": [
        {
          "name": "stdout",
          "output_type": "stream",
          "text": [
            "SVM Cross Validation score: [0.82357143 0.8252381  0.81809524 0.815      0.82357143]\n",
            "SVM Cross Validation Mean score: 0.8210952380952381\n"
          ]
        }
      ],
      "source": [
        "SVM = SVC(random_state = 42)\n",
        "SVM.fit(X_train, y_train)\n",
        "\n",
        "y_test_svm = SVM.predict(X_test)\n",
        "\n",
        "SVM_score = cross_val_score(SVM, X_train, y_train, cv = 5)\n",
        "print(\"SVM Cross Validation score: \" + str(SVM_score))\n",
        "print(\"SVM Cross Validation Mean score: \" + str(SVM_score.mean()))"
      ]
    },
    {
      "cell_type": "code",
      "execution_count": 41,
      "metadata": {
        "colab": {
          "base_uri": "https://localhost:8080/"
        },
        "id": "oJ-urUra3kKP",
        "outputId": "d0b4449c-769a-47e1-fb25-6eca1afb6125"
      },
      "outputs": [
        {
          "name": "stdout",
          "output_type": "stream",
          "text": [
            "SVM Cross validation accuracy: 0.8171111111111111\n"
          ]
        }
      ],
      "source": [
        "SVM_model_accuracy = accuracy_score(y_test, y_test_svm)\n",
        "print('SVM Cross validation accuracy:', SVM_model_accuracy)"
      ]
    },
    {
      "cell_type": "markdown",
      "metadata": {
        "id": "EvQr0hsXAXTC"
      },
      "source": [
        "Grid Search SVM"
      ]
    },
    {
      "cell_type": "code",
      "execution_count": 42,
      "metadata": {
        "id": "itQ0XcQmqDQG"
      },
      "outputs": [
        {
          "name": "stdout",
          "output_type": "stream",
          "text": [
            "SVM Best Parameters:   {'C': 1, 'kernel': 'rbf'}\n"
          ]
        }
      ],
      "source": [
        "SVM_parameters = [{'C':[0.001, 0.01, 1, 10],'kernel': ['rbf','liner']}]\n",
        "\n",
        "SVM_grid_search = GridSearchCV(estimator = SVM, param_grid = SVM_parameters, scoring = 'accuracy', cv = 5, n_jobs = -1)\n",
        "SVM_grid_search = SVM_grid_search.fit(X_train, y_train)\n",
        "SVM_best_parameters = SVM_grid_search.best_params_\n",
        "print(\"SVM Best Parameters:  \", SVM_best_parameters)"
      ]
    },
    {
      "cell_type": "code",
      "execution_count": 43,
      "metadata": {
        "colab": {
          "base_uri": "https://localhost:8080/",
          "height": 78
        },
        "id": "PWJmQICAdLvm",
        "outputId": "8b53b530-cad3-4632-9ccb-0792647acb2b"
      },
      "outputs": [
        {
          "data": {
            "text/html": [
              "<div>\n",
              "<style scoped>\n",
              "    .dataframe tbody tr th:only-of-type {\n",
              "        vertical-align: middle;\n",
              "    }\n",
              "\n",
              "    .dataframe tbody tr th {\n",
              "        vertical-align: top;\n",
              "    }\n",
              "\n",
              "    .dataframe thead th {\n",
              "        text-align: right;\n",
              "    }\n",
              "</style>\n",
              "<table border=\"1\" class=\"dataframe\">\n",
              "  <thead>\n",
              "    <tr style=\"text-align: right;\">\n",
              "      <th></th>\n",
              "      <th>Model</th>\n",
              "      <th>Accuracy</th>\n",
              "      <th>Precision</th>\n",
              "      <th>Recall</th>\n",
              "      <th>F1-Score</th>\n",
              "      <th>ROC</th>\n",
              "    </tr>\n",
              "  </thead>\n",
              "  <tbody>\n",
              "    <tr>\n",
              "      <th>0</th>\n",
              "      <td>Tuned SVM Model</td>\n",
              "      <td>0.817111</td>\n",
              "      <td>0.66289</td>\n",
              "      <td>0.352587</td>\n",
              "      <td>0.460328</td>\n",
              "      <td>0.650826</td>\n",
              "    </tr>\n",
              "  </tbody>\n",
              "</table>\n",
              "</div>"
            ],
            "text/plain": [
              "             Model  Accuracy  Precision    Recall  F1-Score       ROC\n",
              "0  Tuned SVM Model  0.817111    0.66289  0.352587  0.460328  0.650826"
            ]
          },
          "execution_count": 43,
          "metadata": {},
          "output_type": "execute_result"
        }
      ],
      "source": [
        "tuned_SVM = SVM_grid_search.predict(X_test)\n",
        "\n",
        "svm_tuned_acc = accuracy_score(y_test, tuned_SVM)\n",
        "svm_tuned_prec = precision_score(y_test, tuned_SVM)\n",
        "svm_tuned_rec = metrics.recall_score(y_test, tuned_SVM)\n",
        "svm_tuned_f1 = f1_score(y_test, tuned_SVM)\n",
        "svm_tuned_roc = roc_auc_score(y_test, tuned_SVM)\n",
        "svm_tuned_result = pd.DataFrame([['Tuned SVM Model', svm_tuned_acc, svm_tuned_prec, svm_tuned_rec, svm_tuned_f1, svm_tuned_roc]],\n",
        "               columns = ['Model', 'Accuracy', 'Precision', 'Recall', 'F1-Score', 'ROC'])\n",
        "svm_tuned_result"
      ]
    },
    {
      "cell_type": "markdown",
      "metadata": {
        "id": "fZLtg35BDP-0"
      },
      "source": [
        "Grid Search KNN"
      ]
    },
    {
      "cell_type": "code",
      "execution_count": 44,
      "metadata": {
        "id": "u9G9qCwrDMy9"
      },
      "outputs": [
        {
          "name": "stdout",
          "output_type": "stream",
          "text": [
            "KNN Cross validation accuracy: 0.8095714285714285\n"
          ]
        }
      ],
      "source": [
        "k_range = list(range(1, 15))\n",
        "leaf_size = list(range(1,15))\n",
        "weight_options = ['uniform', 'distance']\n",
        "knn_parameters = {'n_neighbors': k_range, 'leaf_size': leaf_size, 'weights': weight_options}\n",
        "\n",
        "KNN_grid_search = GridSearchCV(estimator = knn, param_grid = knn_parameters, scoring = 'accuracy', cv = 5, n_jobs = -1)\n",
        "KNN_grid_search = KNN_grid_search.fit(X_train, y_train)\n",
        "\n",
        "KNN_best_accuracy = KNN_grid_search.best_score_\n",
        "print('KNN Cross validation accuracy:', KNN_best_accuracy)"
      ]
    },
    {
      "cell_type": "code",
      "execution_count": 45,
      "metadata": {
        "colab": {
          "base_uri": "https://localhost:8080/"
        },
        "id": "aJGfzVwxDMUq",
        "outputId": "fbba8c0b-1e6d-4a25-cd5e-413befa1d4fd"
      },
      "outputs": [
        {
          "name": "stdout",
          "output_type": "stream",
          "text": [
            "KNN Best Parameters:   {'leaf_size': 1, 'n_neighbors': 14, 'weights': 'uniform'}\n"
          ]
        }
      ],
      "source": [
        "knn_best_parameters = KNN_grid_search.best_params_\n",
        "print('KNN Best Parameters:  ', knn_best_parameters)"
      ]
    },
    {
      "cell_type": "code",
      "execution_count": 46,
      "metadata": {
        "id": "VVPxdBtuDMMh"
      },
      "outputs": [
        {
          "data": {
            "text/html": [
              "<div>\n",
              "<style scoped>\n",
              "    .dataframe tbody tr th:only-of-type {\n",
              "        vertical-align: middle;\n",
              "    }\n",
              "\n",
              "    .dataframe tbody tr th {\n",
              "        vertical-align: top;\n",
              "    }\n",
              "\n",
              "    .dataframe thead th {\n",
              "        text-align: right;\n",
              "    }\n",
              "</style>\n",
              "<table border=\"1\" class=\"dataframe\">\n",
              "  <thead>\n",
              "    <tr style=\"text-align: right;\">\n",
              "      <th></th>\n",
              "      <th>Model</th>\n",
              "      <th>Accuracy</th>\n",
              "      <th>Precision</th>\n",
              "      <th>Recall</th>\n",
              "      <th>F1-Score</th>\n",
              "      <th>ROC</th>\n",
              "    </tr>\n",
              "  </thead>\n",
              "  <tbody>\n",
              "    <tr>\n",
              "      <th>0</th>\n",
              "      <td>Tuned KNN Model</td>\n",
              "      <td>0.811333</td>\n",
              "      <td>0.654699</td>\n",
              "      <td>0.311401</td>\n",
              "      <td>0.422056</td>\n",
              "      <td>0.632374</td>\n",
              "    </tr>\n",
              "  </tbody>\n",
              "</table>\n",
              "</div>"
            ],
            "text/plain": [
              "             Model  Accuracy  Precision    Recall  F1-Score       ROC\n",
              "0  Tuned KNN Model  0.811333   0.654699  0.311401  0.422056  0.632374"
            ]
          },
          "execution_count": 46,
          "metadata": {},
          "output_type": "execute_result"
        }
      ],
      "source": [
        "tuned_knn = KNN_grid_search.predict(X_test)\n",
        "\n",
        "knn_tuned_acc = accuracy_score(y_test, tuned_knn)\n",
        "knn_tuned_prec = precision_score(y_test, tuned_knn)\n",
        "knn_tuned_rec = metrics.recall_score(y_test, tuned_knn)\n",
        "knn_tuned_f1 = f1_score(y_test, tuned_knn)\n",
        "knn_tuned_roc = roc_auc_score(y_test, tuned_knn)\n",
        "knn_tuned_result = pd.DataFrame([['Tuned KNN Model', knn_tuned_acc, knn_tuned_prec, knn_tuned_rec, knn_tuned_f1, knn_tuned_roc]],\n",
        "               columns = ['Model', 'Accuracy', 'Precision', 'Recall', 'F1-Score', 'ROC'])\n",
        "\n",
        "knn_tuned_result"
      ]
    },
    {
      "cell_type": "markdown",
      "metadata": {
        "id": "TCQEF6M3G9hy"
      },
      "source": [
        "Grid Search Decision Tree\n"
      ]
    },
    {
      "cell_type": "code",
      "execution_count": 47,
      "metadata": {
        "id": "WN7e7jFCFLlS"
      },
      "outputs": [
        {
          "name": "stdout",
          "output_type": "stream",
          "text": [
            "Decision Tree Cross validation accuracy:  0.8220476190476191\n"
          ]
        }
      ],
      "source": [
        "dtree_parameters = {'max_depth':[2,4,6,8,10], 'min_samples_leaf':[2,4,6,8,10], 'min_samples_split':[2,4,6,8,10]}\n",
        "dt_grid_search = GridSearchCV(estimator = dtree, param_grid = dtree_parameters, scoring = 'accuracy', cv = 5, n_jobs = -1)\n",
        "dt_grid_search = dt_grid_search.fit(X_train, y_train)\n",
        "\n",
        "dt_best_accuracy = dt_grid_search.best_score_\n",
        "print('Decision Tree Cross validation accuracy: ', dt_best_accuracy)"
      ]
    },
    {
      "cell_type": "code",
      "execution_count": 48,
      "metadata": {
        "colab": {
          "base_uri": "https://localhost:8080/"
        },
        "id": "eA8ryz8PL-t8",
        "outputId": "78bf94c9-b3c2-48d8-ce9d-b28d6d2c25df"
      },
      "outputs": [
        {
          "name": "stdout",
          "output_type": "stream",
          "text": [
            "Decision Tree Best Parameters:   {'max_depth': 4, 'min_samples_leaf': 6, 'min_samples_split': 2}\n"
          ]
        }
      ],
      "source": [
        "dt_best_parameters = dt_grid_search.best_params_\n",
        "print('Decision Tree Best Parameters:  ', dt_best_parameters)"
      ]
    },
    {
      "cell_type": "code",
      "execution_count": 49,
      "metadata": {
        "id": "GAMPNWSEtahW"
      },
      "outputs": [
        {
          "data": {
            "text/html": [
              "<div>\n",
              "<style scoped>\n",
              "    .dataframe tbody tr th:only-of-type {\n",
              "        vertical-align: middle;\n",
              "    }\n",
              "\n",
              "    .dataframe tbody tr th {\n",
              "        vertical-align: top;\n",
              "    }\n",
              "\n",
              "    .dataframe thead th {\n",
              "        text-align: right;\n",
              "    }\n",
              "</style>\n",
              "<table border=\"1\" class=\"dataframe\">\n",
              "  <thead>\n",
              "    <tr style=\"text-align: right;\">\n",
              "      <th></th>\n",
              "      <th>Model</th>\n",
              "      <th>Accuracy</th>\n",
              "      <th>Precision</th>\n",
              "      <th>Recall</th>\n",
              "      <th>F1-Score</th>\n",
              "      <th>ROC</th>\n",
              "    </tr>\n",
              "  </thead>\n",
              "  <tbody>\n",
              "    <tr>\n",
              "      <th>0</th>\n",
              "      <td>Tuned Decision Tree</td>\n",
              "      <td>0.817778</td>\n",
              "      <td>0.663866</td>\n",
              "      <td>0.357107</td>\n",
              "      <td>0.464402</td>\n",
              "      <td>0.652872</td>\n",
              "    </tr>\n",
              "  </tbody>\n",
              "</table>\n",
              "</div>"
            ],
            "text/plain": [
              "                 Model  Accuracy  Precision    Recall  F1-Score       ROC\n",
              "0  Tuned Decision Tree  0.817778   0.663866  0.357107  0.464402  0.652872"
            ]
          },
          "execution_count": 49,
          "metadata": {},
          "output_type": "execute_result"
        }
      ],
      "source": [
        "tuned_dt = dt_grid_search.predict(X_test)\n",
        "\n",
        "dt_tuned_acc = accuracy_score(y_test, tuned_dt)\n",
        "dt_tuned_prec = precision_score(y_test, tuned_dt)\n",
        "dt_tuned_rec = recall_score(y_test, tuned_dt)\n",
        "dt_tuned_f1 = f1_score(y_test, tuned_dt)\n",
        "dt_tuned_roc = roc_auc_score(y_test, tuned_dt)\n",
        "dt_tuned_result = pd.DataFrame([['Tuned Decision Tree', dt_tuned_acc, dt_tuned_prec, dt_tuned_rec, dt_tuned_f1, dt_tuned_roc]],\n",
        "               columns = ['Model', 'Accuracy', 'Precision', 'Recall', 'F1-Score', 'ROC'])\n",
        "\n",
        "dt_tuned_result"
      ]
    },
    {
      "cell_type": "markdown",
      "metadata": {
        "id": "Pf_leJQJUbqj"
      },
      "source": [
        "Grid Search Logistic Regression"
      ]
    },
    {
      "cell_type": "code",
      "execution_count": 50,
      "metadata": {
        "id": "8g6b2u8XUbqk"
      },
      "outputs": [
        {
          "name": "stdout",
          "output_type": "stream",
          "text": [
            "Logistic Regression Cross validation accuracy: 0.82\n"
          ]
        }
      ],
      "source": [
        "lr_params = {'C': [0.001, 0.01, 0.1, 1, 10], 'class_weight': [None, 'balanced'], 'penalty': ['l1', 'l2']}\n",
        "lr_grid_search = GridSearchCV(estimator = log, param_grid = lr_params, scoring = 'accuracy', cv = 10, n_jobs = -1)\n",
        "lr_grid_search = lr_grid_search.fit(X_train, y_train)\n",
        "\n",
        "lr_best_accuracy = lr_grid_search.best_score_\n",
        "print('Logistic Regression Cross validation accuracy:', lr_best_accuracy)"
      ]
    },
    {
      "cell_type": "code",
      "execution_count": 51,
      "metadata": {
        "colab": {
          "base_uri": "https://localhost:8080/"
        },
        "id": "RxhaIg9kUbqm",
        "outputId": "0b66dbba-191f-4e2f-c991-9814e7acf983"
      },
      "outputs": [
        {
          "name": "stdout",
          "output_type": "stream",
          "text": [
            "Logistic Regression Best Parameters:   {'C': 0.1, 'class_weight': None, 'penalty': 'l2'}\n"
          ]
        }
      ],
      "source": [
        "lr_best_parameters = lr_grid_search.best_params_\n",
        "print('Logistic Regression Best Parameters:  ', lr_best_parameters)"
      ]
    },
    {
      "cell_type": "code",
      "execution_count": 52,
      "metadata": {
        "colab": {
          "base_uri": "https://localhost:8080/",
          "height": 78
        },
        "id": "XGhIOme7Ubqn",
        "outputId": "2f0b620f-ae7d-4162-b955-9890bf5f09e2"
      },
      "outputs": [
        {
          "data": {
            "text/html": [
              "<div>\n",
              "<style scoped>\n",
              "    .dataframe tbody tr th:only-of-type {\n",
              "        vertical-align: middle;\n",
              "    }\n",
              "\n",
              "    .dataframe tbody tr th {\n",
              "        vertical-align: top;\n",
              "    }\n",
              "\n",
              "    .dataframe thead th {\n",
              "        text-align: right;\n",
              "    }\n",
              "</style>\n",
              "<table border=\"1\" class=\"dataframe\">\n",
              "  <thead>\n",
              "    <tr style=\"text-align: right;\">\n",
              "      <th></th>\n",
              "      <th>Model</th>\n",
              "      <th>Accuracy</th>\n",
              "      <th>Precision</th>\n",
              "      <th>Recall</th>\n",
              "      <th>F1-Score</th>\n",
              "      <th>ROC</th>\n",
              "    </tr>\n",
              "  </thead>\n",
              "  <tbody>\n",
              "    <tr>\n",
              "      <th>0</th>\n",
              "      <td>Tuned Logistic Regression</td>\n",
              "      <td>0.814222</td>\n",
              "      <td>0.666319</td>\n",
              "      <td>0.320944</td>\n",
              "      <td>0.43322</td>\n",
              "      <td>0.637644</td>\n",
              "    </tr>\n",
              "  </tbody>\n",
              "</table>\n",
              "</div>"
            ],
            "text/plain": [
              "                       Model  Accuracy  Precision    Recall  F1-Score  \\\n",
              "0  Tuned Logistic Regression  0.814222   0.666319  0.320944   0.43322   \n",
              "\n",
              "        ROC  \n",
              "0  0.637644  "
            ]
          },
          "execution_count": 52,
          "metadata": {},
          "output_type": "execute_result"
        }
      ],
      "source": [
        "tuned_lr = lr_grid_search.predict(X_test)\n",
        "\n",
        "lr_tuned_acc = accuracy_score(y_test, tuned_lr)\n",
        "lr_tuned_prec = precision_score(y_test, tuned_lr)\n",
        "lr_tuned_rec = recall_score(y_test, tuned_lr)\n",
        "lr_tuned_f1 = f1_score(y_test, tuned_lr)\n",
        "lr_tuned_roc = roc_auc_score(y_test, tuned_lr)\n",
        "lr_tuned_result = pd.DataFrame([['Tuned Logistic Regression', lr_tuned_acc, lr_tuned_prec, lr_tuned_rec, lr_tuned_f1, lr_tuned_roc]],\n",
        "               columns = ['Model', 'Accuracy', 'Precision', 'Recall', 'F1-Score', 'ROC'])\n",
        "\n",
        "lr_tuned_result"
      ]
    },
    {
      "cell_type": "markdown",
      "metadata": {
        "id": "IBSsQ3QWKqbL"
      },
      "source": [
        "Stochastic Gradient Descent"
      ]
    },
    {
      "cell_type": "code",
      "execution_count": 53,
      "metadata": {
        "colab": {
          "base_uri": "https://localhost:8080/"
        },
        "id": "DhAGrfyRKpcp",
        "outputId": "c2171a10-9ad2-44ec-c988-83f33100c41b"
      },
      "outputs": [
        {
          "data": {
            "text/html": [
              "<style>#sk-container-id-1 {color: black;background-color: white;}#sk-container-id-1 pre{padding: 0;}#sk-container-id-1 div.sk-toggleable {background-color: white;}#sk-container-id-1 label.sk-toggleable__label {cursor: pointer;display: block;width: 100%;margin-bottom: 0;padding: 0.3em;box-sizing: border-box;text-align: center;}#sk-container-id-1 label.sk-toggleable__label-arrow:before {content: \"▸\";float: left;margin-right: 0.25em;color: #696969;}#sk-container-id-1 label.sk-toggleable__label-arrow:hover:before {color: black;}#sk-container-id-1 div.sk-estimator:hover label.sk-toggleable__label-arrow:before {color: black;}#sk-container-id-1 div.sk-toggleable__content {max-height: 0;max-width: 0;overflow: hidden;text-align: left;background-color: #f0f8ff;}#sk-container-id-1 div.sk-toggleable__content pre {margin: 0.2em;color: black;border-radius: 0.25em;background-color: #f0f8ff;}#sk-container-id-1 input.sk-toggleable__control:checked~div.sk-toggleable__content {max-height: 200px;max-width: 100%;overflow: auto;}#sk-container-id-1 input.sk-toggleable__control:checked~label.sk-toggleable__label-arrow:before {content: \"▾\";}#sk-container-id-1 div.sk-estimator input.sk-toggleable__control:checked~label.sk-toggleable__label {background-color: #d4ebff;}#sk-container-id-1 div.sk-label input.sk-toggleable__control:checked~label.sk-toggleable__label {background-color: #d4ebff;}#sk-container-id-1 input.sk-hidden--visually {border: 0;clip: rect(1px 1px 1px 1px);clip: rect(1px, 1px, 1px, 1px);height: 1px;margin: -1px;overflow: hidden;padding: 0;position: absolute;width: 1px;}#sk-container-id-1 div.sk-estimator {font-family: monospace;background-color: #f0f8ff;border: 1px dotted black;border-radius: 0.25em;box-sizing: border-box;margin-bottom: 0.5em;}#sk-container-id-1 div.sk-estimator:hover {background-color: #d4ebff;}#sk-container-id-1 div.sk-parallel-item::after {content: \"\";width: 100%;border-bottom: 1px solid gray;flex-grow: 1;}#sk-container-id-1 div.sk-label:hover label.sk-toggleable__label {background-color: #d4ebff;}#sk-container-id-1 div.sk-serial::before {content: \"\";position: absolute;border-left: 1px solid gray;box-sizing: border-box;top: 0;bottom: 0;left: 50%;z-index: 0;}#sk-container-id-1 div.sk-serial {display: flex;flex-direction: column;align-items: center;background-color: white;padding-right: 0.2em;padding-left: 0.2em;position: relative;}#sk-container-id-1 div.sk-item {position: relative;z-index: 1;}#sk-container-id-1 div.sk-parallel {display: flex;align-items: stretch;justify-content: center;background-color: white;position: relative;}#sk-container-id-1 div.sk-item::before, #sk-container-id-1 div.sk-parallel-item::before {content: \"\";position: absolute;border-left: 1px solid gray;box-sizing: border-box;top: 0;bottom: 0;left: 50%;z-index: -1;}#sk-container-id-1 div.sk-parallel-item {display: flex;flex-direction: column;z-index: 1;position: relative;background-color: white;}#sk-container-id-1 div.sk-parallel-item:first-child::after {align-self: flex-end;width: 50%;}#sk-container-id-1 div.sk-parallel-item:last-child::after {align-self: flex-start;width: 50%;}#sk-container-id-1 div.sk-parallel-item:only-child::after {width: 0;}#sk-container-id-1 div.sk-dashed-wrapped {border: 1px dashed gray;margin: 0 0.4em 0.5em 0.4em;box-sizing: border-box;padding-bottom: 0.4em;background-color: white;}#sk-container-id-1 div.sk-label label {font-family: monospace;font-weight: bold;display: inline-block;line-height: 1.2em;}#sk-container-id-1 div.sk-label-container {text-align: center;}#sk-container-id-1 div.sk-container {/* jupyter's `normalize.less` sets `[hidden] { display: none; }` but bootstrap.min.css set `[hidden] { display: none !important; }` so we also need the `!important` here to be able to override the default hidden behavior on the sphinx rendered scikit-learn.org. See: https://github.com/scikit-learn/scikit-learn/issues/21755 */display: inline-block !important;position: relative;}#sk-container-id-1 div.sk-text-repr-fallback {display: none;}</style><div id=\"sk-container-id-1\" class=\"sk-top-container\"><div class=\"sk-text-repr-fallback\"><pre>SGDClassifier(loss=&#x27;log_loss&#x27;, penalty=&#x27;l1&#x27;, random_state=1)</pre><b>In a Jupyter environment, please rerun this cell to show the HTML representation or trust the notebook. <br />On GitHub, the HTML representation is unable to render, please try loading this page with nbviewer.org.</b></div><div class=\"sk-container\" hidden><div class=\"sk-item\"><div class=\"sk-estimator sk-toggleable\"><input class=\"sk-toggleable__control sk-hidden--visually\" id=\"sk-estimator-id-1\" type=\"checkbox\" checked><label for=\"sk-estimator-id-1\" class=\"sk-toggleable__label sk-toggleable__label-arrow\">SGDClassifier</label><div class=\"sk-toggleable__content\"><pre>SGDClassifier(loss=&#x27;log_loss&#x27;, penalty=&#x27;l1&#x27;, random_state=1)</pre></div></div></div></div></div>"
            ],
            "text/plain": [
              "SGDClassifier(loss='log_loss', penalty='l1', random_state=1)"
            ]
          },
          "execution_count": 53,
          "metadata": {},
          "output_type": "execute_result"
        }
      ],
      "source": [
        "sgd = SGDClassifier(loss = 'log_loss', penalty = 'l1', learning_rate = 'optimal', random_state = 1)\n",
        "sgd.fit(X_train, y_train)"
      ]
    },
    {
      "cell_type": "code",
      "execution_count": 54,
      "metadata": {
        "colab": {
          "base_uri": "https://localhost:8080/",
          "height": 78
        },
        "id": "TqKjiND0KxK0",
        "outputId": "c8439902-91b0-45a1-a272-c765c9b6f937"
      },
      "outputs": [
        {
          "data": {
            "text/html": [
              "<div>\n",
              "<style scoped>\n",
              "    .dataframe tbody tr th:only-of-type {\n",
              "        vertical-align: middle;\n",
              "    }\n",
              "\n",
              "    .dataframe tbody tr th {\n",
              "        vertical-align: top;\n",
              "    }\n",
              "\n",
              "    .dataframe thead th {\n",
              "        text-align: right;\n",
              "    }\n",
              "</style>\n",
              "<table border=\"1\" class=\"dataframe\">\n",
              "  <thead>\n",
              "    <tr style=\"text-align: right;\">\n",
              "      <th></th>\n",
              "      <th>Model</th>\n",
              "      <th>Accuracy</th>\n",
              "      <th>Precision</th>\n",
              "      <th>Recall</th>\n",
              "      <th>F1-Score</th>\n",
              "      <th>ROC</th>\n",
              "    </tr>\n",
              "  </thead>\n",
              "  <tbody>\n",
              "    <tr>\n",
              "      <th>0</th>\n",
              "      <td>Before Tuning: Stochastic Gradient Descent</td>\n",
              "      <td>0.812222</td>\n",
              "      <td>0.640261</td>\n",
              "      <td>0.345053</td>\n",
              "      <td>0.448433</td>\n",
              "      <td>0.64499</td>\n",
              "    </tr>\n",
              "  </tbody>\n",
              "</table>\n",
              "</div>"
            ],
            "text/plain": [
              "                                        Model  Accuracy  Precision    Recall  \\\n",
              "0  Before Tuning: Stochastic Gradient Descent  0.812222   0.640261  0.345053   \n",
              "\n",
              "   F1-Score      ROC  \n",
              "0  0.448433  0.64499  "
            ]
          },
          "execution_count": 54,
          "metadata": {},
          "output_type": "execute_result"
        }
      ],
      "source": [
        "untuned_sgd = sgd.predict(X_test)\n",
        "\n",
        "sgd_untuned_acc = accuracy_score(y_test, untuned_sgd)\n",
        "sgd_untuned_prec = precision_score(y_test, untuned_sgd)\n",
        "sgd_untuned_rec = recall_score(y_test, untuned_sgd)\n",
        "sgd_untuned_f1 = f1_score(y_test, untuned_sgd)\n",
        "sgd_untuned_roc = roc_auc_score(y_test, untuned_sgd)\n",
        "sgd_untuned_result = pd.DataFrame([['Before Tuning: Stochastic Gradient Descent', sgd_untuned_acc, sgd_untuned_prec, sgd_untuned_rec, sgd_untuned_f1, sgd_untuned_roc]],\n",
        "               columns = ['Model', 'Accuracy', 'Precision', 'Recall', 'F1-Score', 'ROC'])\n",
        "sgd_untuned_result"
      ]
    },
    {
      "cell_type": "code",
      "execution_count": 55,
      "metadata": {
        "id": "KV2rn5D2KxGM"
      },
      "outputs": [
        {
          "name": "stdout",
          "output_type": "stream",
          "text": [
            "Accuracy on Cross Validation set: 0.8185238095238094\n"
          ]
        }
      ],
      "source": [
        "sgd_parameters = {'alpha': [0.0001, 0.001, 0.01, 0.1, 1.0, 5.0], 'class_weight': [None, 'balanced']}\n",
        "sgd_grid_search = GridSearchCV(estimator = sgd, param_grid = sgd_parameters, scoring = 'accuracy', cv = 5, n_jobs = -1)\n",
        "sgd_grid_search = sgd_grid_search.fit(X_train, y_train)\n",
        "\n",
        "sgd_best_accuracy = sgd_grid_search.best_score_\n",
        "print('Accuracy on Cross Validation set:', sgd_best_accuracy)"
      ]
    },
    {
      "cell_type": "code",
      "execution_count": 56,
      "metadata": {
        "colab": {
          "base_uri": "https://localhost:8080/"
        },
        "id": "E8kzJonzKww7",
        "outputId": "e3b65488-a7fd-4888-ccf5-ea40e69444b2"
      },
      "outputs": [
        {
          "name": "stdout",
          "output_type": "stream",
          "text": [
            "Stochastic Gradient Descent Best Parameters:   {'alpha': 0.001, 'class_weight': None}\n"
          ]
        }
      ],
      "source": [
        "sgd_best_parameters = sgd_grid_search.best_params_\n",
        "print('Stochastic Gradient Descent Best Parameters:  ', sgd_best_parameters)"
      ]
    },
    {
      "cell_type": "code",
      "execution_count": 57,
      "metadata": {
        "id": "zfVr4p5kKwq6"
      },
      "outputs": [
        {
          "data": {
            "text/html": [
              "<div>\n",
              "<style scoped>\n",
              "    .dataframe tbody tr th:only-of-type {\n",
              "        vertical-align: middle;\n",
              "    }\n",
              "\n",
              "    .dataframe tbody tr th {\n",
              "        vertical-align: top;\n",
              "    }\n",
              "\n",
              "    .dataframe thead th {\n",
              "        text-align: right;\n",
              "    }\n",
              "</style>\n",
              "<table border=\"1\" class=\"dataframe\">\n",
              "  <thead>\n",
              "    <tr style=\"text-align: right;\">\n",
              "      <th></th>\n",
              "      <th>Model</th>\n",
              "      <th>Accuracy</th>\n",
              "      <th>Precision</th>\n",
              "      <th>Recall</th>\n",
              "      <th>F1-Score</th>\n",
              "      <th>ROC</th>\n",
              "    </tr>\n",
              "  </thead>\n",
              "  <tbody>\n",
              "    <tr>\n",
              "      <th>0</th>\n",
              "      <td>Tuned Stochastic Gradient Descent</td>\n",
              "      <td>0.817889</td>\n",
              "      <td>0.700456</td>\n",
              "      <td>0.30889</td>\n",
              "      <td>0.428721</td>\n",
              "      <td>0.635683</td>\n",
              "    </tr>\n",
              "  </tbody>\n",
              "</table>\n",
              "</div>"
            ],
            "text/plain": [
              "                                Model  Accuracy  Precision   Recall  F1-Score  \\\n",
              "0  Tuned Stochastic Gradient Descent   0.817889   0.700456  0.30889  0.428721   \n",
              "\n",
              "        ROC  \n",
              "0  0.635683  "
            ]
          },
          "execution_count": 57,
          "metadata": {},
          "output_type": "execute_result"
        }
      ],
      "source": [
        "tuned_sgd = sgd_grid_search.predict(X_test)\n",
        "\n",
        "sgd_prob = sgd_grid_search.predict_proba(X_test)\n",
        "\n",
        "sgd_tuned_acc = accuracy_score(y_test, tuned_sgd)\n",
        "sgd_tuned_prec = precision_score(y_test, tuned_sgd)\n",
        "sgd_tuned_rec = recall_score(y_test, tuned_sgd)\n",
        "sgd_tuned_f1 = f1_score(y_test, tuned_sgd)\n",
        "sgd_tuned_roc = roc_auc_score(y_test, tuned_sgd)\n",
        "sgd_tuned_result = pd.DataFrame([['Tuned Stochastic Gradient Descent ', sgd_tuned_acc, sgd_tuned_prec, sgd_tuned_rec, sgd_tuned_f1, sgd_tuned_roc]],\n",
        "               columns = ['Model', 'Accuracy', 'Precision', 'Recall', 'F1-Score', 'ROC'])\n",
        "\n",
        "sgd_tuned_result"
      ]
    },
    {
      "cell_type": "markdown",
      "metadata": {
        "id": "5ZQF7KqA3710"
      },
      "source": [
        "Naive Bayes Smoothing"
      ]
    },
    {
      "cell_type": "code",
      "execution_count": 58,
      "metadata": {
        "id": "TFHdCuvX3_G4"
      },
      "outputs": [
        {
          "name": "stdout",
          "output_type": "stream",
          "text": [
            "Accuracy on Cross Validation set : 0.8036190476190477\n"
          ]
        }
      ],
      "source": [
        "# https://www.analyticsvidhya.com/blog/2021/01/gaussian-naive-bayes-with-hyperpameter-tuning/\n",
        "nb_parameters = {'var_smoothing': np.logspace(0, -9, num = 100)}\n",
        "nb_grid_search = GridSearchCV(estimator = naivebayes, param_grid = nb_parameters, scoring = 'accuracy', cv = 5, n_jobs = -1)\n",
        "nb_grid_search = nb_grid_search.fit(X_train, y_train)\n",
        "\n",
        "nb_best_accuracy = nb_grid_search.best_score_\n",
        "print('Accuracy on Cross Validation set :', nb_best_accuracy)"
      ]
    },
    {
      "cell_type": "code",
      "execution_count": 59,
      "metadata": {
        "colab": {
          "base_uri": "https://localhost:8080/"
        },
        "id": "6-czZEIQAnxH",
        "outputId": "8a9db33c-6791-48f3-c7fc-f7a2480fdffb"
      },
      "outputs": [
        {
          "name": "stdout",
          "output_type": "stream",
          "text": [
            "Naive Bayes Best Parameters:   {'var_smoothing': 1.0}\n"
          ]
        }
      ],
      "source": [
        "nb_best_parameters = nb_grid_search.best_params_\n",
        "print('Naive Bayes Best Parameters:  ', nb_best_parameters)"
      ]
    },
    {
      "cell_type": "code",
      "execution_count": 60,
      "metadata": {
        "id": "xiyj2FVCBsT6"
      },
      "outputs": [
        {
          "data": {
            "text/html": [
              "<div>\n",
              "<style scoped>\n",
              "    .dataframe tbody tr th:only-of-type {\n",
              "        vertical-align: middle;\n",
              "    }\n",
              "\n",
              "    .dataframe tbody tr th {\n",
              "        vertical-align: top;\n",
              "    }\n",
              "\n",
              "    .dataframe thead th {\n",
              "        text-align: right;\n",
              "    }\n",
              "</style>\n",
              "<table border=\"1\" class=\"dataframe\">\n",
              "  <thead>\n",
              "    <tr style=\"text-align: right;\">\n",
              "      <th></th>\n",
              "      <th>Model</th>\n",
              "      <th>Accuracy</th>\n",
              "      <th>Precision</th>\n",
              "      <th>Recall</th>\n",
              "      <th>F1-Score</th>\n",
              "      <th>ROC</th>\n",
              "    </tr>\n",
              "  </thead>\n",
              "  <tbody>\n",
              "    <tr>\n",
              "      <th>0</th>\n",
              "      <td>Tuned Naive Bayes</td>\n",
              "      <td>0.799556</td>\n",
              "      <td>0.569311</td>\n",
              "      <td>0.385736</td>\n",
              "      <td>0.45988</td>\n",
              "      <td>0.651421</td>\n",
              "    </tr>\n",
              "  </tbody>\n",
              "</table>\n",
              "</div>"
            ],
            "text/plain": [
              "                Model  Accuracy  Precision    Recall  F1-Score       ROC\n",
              "0  Tuned Naive Bayes   0.799556   0.569311  0.385736   0.45988  0.651421"
            ]
          },
          "execution_count": 60,
          "metadata": {},
          "output_type": "execute_result"
        }
      ],
      "source": [
        "tuned_nb = nb_grid_search.predict(X_test)\n",
        "\n",
        "nb_prob = nb_grid_search.predict_proba(X_test)\n",
        "\n",
        "nb_tuned_acc = accuracy_score(y_test, tuned_nb)\n",
        "nb_tuned_prec = precision_score(y_test, tuned_nb)\n",
        "nb_tuned_rec = recall_score(y_test, tuned_nb)\n",
        "nb_tuned_f1 = f1_score(y_test, tuned_nb)\n",
        "nb_tuned_roc = roc_auc_score(y_test, tuned_nb)\n",
        "nb_tuned_result = pd.DataFrame([['Tuned Naive Bayes ', nb_tuned_acc, nb_tuned_prec, nb_tuned_rec, nb_tuned_f1, nb_tuned_roc]],\n",
        "               columns = ['Model', 'Accuracy', 'Precision', 'Recall', 'F1-Score', 'ROC'])\n",
        "\n",
        "nb_tuned_result"
      ]
    },
    {
      "cell_type": "code",
      "execution_count": 61,
      "metadata": {},
      "outputs": [
        {
          "data": {
            "text/html": [
              "<style type=\"text/css\">\n",
              "</style>\n",
              "<table id=\"T_738d7\">\n",
              "  <caption>Model Results after Hyperparameter Tuning</caption>\n",
              "  <thead>\n",
              "    <tr>\n",
              "      <th class=\"blank level0\" >&nbsp;</th>\n",
              "      <th id=\"T_738d7_level0_col0\" class=\"col_heading level0 col0\" >Model</th>\n",
              "      <th id=\"T_738d7_level0_col1\" class=\"col_heading level0 col1\" >Accuracy</th>\n",
              "      <th id=\"T_738d7_level0_col2\" class=\"col_heading level0 col2\" >Precision</th>\n",
              "      <th id=\"T_738d7_level0_col3\" class=\"col_heading level0 col3\" >Recall</th>\n",
              "      <th id=\"T_738d7_level0_col4\" class=\"col_heading level0 col4\" >F1-Score</th>\n",
              "      <th id=\"T_738d7_level0_col5\" class=\"col_heading level0 col5\" >ROC</th>\n",
              "    </tr>\n",
              "  </thead>\n",
              "  <tbody>\n",
              "    <tr>\n",
              "      <th id=\"T_738d7_level0_row0\" class=\"row_heading level0 row0\" >0</th>\n",
              "      <td id=\"T_738d7_row0_col0\" class=\"data row0 col0\" >Tuned SVM Model</td>\n",
              "      <td id=\"T_738d7_row0_col1\" class=\"data row0 col1\" >0.817111</td>\n",
              "      <td id=\"T_738d7_row0_col2\" class=\"data row0 col2\" >0.662890</td>\n",
              "      <td id=\"T_738d7_row0_col3\" class=\"data row0 col3\" >0.352587</td>\n",
              "      <td id=\"T_738d7_row0_col4\" class=\"data row0 col4\" >0.460328</td>\n",
              "      <td id=\"T_738d7_row0_col5\" class=\"data row0 col5\" >0.650826</td>\n",
              "    </tr>\n",
              "    <tr>\n",
              "      <th id=\"T_738d7_level0_row1\" class=\"row_heading level0 row1\" >0</th>\n",
              "      <td id=\"T_738d7_row1_col0\" class=\"data row1 col0\" >Tuned KNN Model</td>\n",
              "      <td id=\"T_738d7_row1_col1\" class=\"data row1 col1\" >0.811333</td>\n",
              "      <td id=\"T_738d7_row1_col2\" class=\"data row1 col2\" >0.654699</td>\n",
              "      <td id=\"T_738d7_row1_col3\" class=\"data row1 col3\" >0.311401</td>\n",
              "      <td id=\"T_738d7_row1_col4\" class=\"data row1 col4\" >0.422056</td>\n",
              "      <td id=\"T_738d7_row1_col5\" class=\"data row1 col5\" >0.632374</td>\n",
              "    </tr>\n",
              "    <tr>\n",
              "      <th id=\"T_738d7_level0_row2\" class=\"row_heading level0 row2\" >0</th>\n",
              "      <td id=\"T_738d7_row2_col0\" class=\"data row2 col0\" >Tuned Decision Tree</td>\n",
              "      <td id=\"T_738d7_row2_col1\" class=\"data row2 col1\" >0.817778</td>\n",
              "      <td id=\"T_738d7_row2_col2\" class=\"data row2 col2\" >0.663866</td>\n",
              "      <td id=\"T_738d7_row2_col3\" class=\"data row2 col3\" >0.357107</td>\n",
              "      <td id=\"T_738d7_row2_col4\" class=\"data row2 col4\" >0.464402</td>\n",
              "      <td id=\"T_738d7_row2_col5\" class=\"data row2 col5\" >0.652872</td>\n",
              "    </tr>\n",
              "    <tr>\n",
              "      <th id=\"T_738d7_level0_row3\" class=\"row_heading level0 row3\" >0</th>\n",
              "      <td id=\"T_738d7_row3_col0\" class=\"data row3 col0\" >Tuned Logistic Regression</td>\n",
              "      <td id=\"T_738d7_row3_col1\" class=\"data row3 col1\" >0.814222</td>\n",
              "      <td id=\"T_738d7_row3_col2\" class=\"data row3 col2\" >0.666319</td>\n",
              "      <td id=\"T_738d7_row3_col3\" class=\"data row3 col3\" >0.320944</td>\n",
              "      <td id=\"T_738d7_row3_col4\" class=\"data row3 col4\" >0.433220</td>\n",
              "      <td id=\"T_738d7_row3_col5\" class=\"data row3 col5\" >0.637644</td>\n",
              "    </tr>\n",
              "    <tr>\n",
              "      <th id=\"T_738d7_level0_row4\" class=\"row_heading level0 row4\" >0</th>\n",
              "      <td id=\"T_738d7_row4_col0\" class=\"data row4 col0\" >Tuned Naive Bayes </td>\n",
              "      <td id=\"T_738d7_row4_col1\" class=\"data row4 col1\" >0.799556</td>\n",
              "      <td id=\"T_738d7_row4_col2\" class=\"data row4 col2\" >0.569311</td>\n",
              "      <td id=\"T_738d7_row4_col3\" class=\"data row4 col3\" >0.385736</td>\n",
              "      <td id=\"T_738d7_row4_col4\" class=\"data row4 col4\" >0.459880</td>\n",
              "      <td id=\"T_738d7_row4_col5\" class=\"data row4 col5\" >0.651421</td>\n",
              "    </tr>\n",
              "    <tr>\n",
              "      <th id=\"T_738d7_level0_row5\" class=\"row_heading level0 row5\" >0</th>\n",
              "      <td id=\"T_738d7_row5_col0\" class=\"data row5 col0\" >Tuned Stochastic Gradient Descent </td>\n",
              "      <td id=\"T_738d7_row5_col1\" class=\"data row5 col1\" >0.817889</td>\n",
              "      <td id=\"T_738d7_row5_col2\" class=\"data row5 col2\" >0.700456</td>\n",
              "      <td id=\"T_738d7_row5_col3\" class=\"data row5 col3\" >0.308890</td>\n",
              "      <td id=\"T_738d7_row5_col4\" class=\"data row5 col4\" >0.428721</td>\n",
              "      <td id=\"T_738d7_row5_col5\" class=\"data row5 col5\" >0.635683</td>\n",
              "    </tr>\n",
              "  </tbody>\n",
              "</table>\n"
            ],
            "text/plain": [
              "<pandas.io.formats.style.Styler at 0x15857ab30>"
            ]
          },
          "execution_count": 61,
          "metadata": {},
          "output_type": "execute_result"
        }
      ],
      "source": [
        "gridsearch = pd.concat([svm_tuned_result, knn_tuned_result, dt_tuned_result, lr_tuned_result, nb_tuned_result, sgd_tuned_result], axis=0)\n",
        "gridsearch = gridsearch.style.set_caption('Model Results after Hyperparameter Tuning')\n",
        "gridsearch"
      ]
    },
    {
      "cell_type": "markdown",
      "metadata": {
        "id": "lydWkBbYF-Iv"
      },
      "source": [
        "ROC Curve"
      ]
    },
    {
      "cell_type": "code",
      "execution_count": 62,
      "metadata": {
        "colab": {
          "base_uri": "https://localhost:8080/",
          "height": 512
        },
        "id": "7TJOn0UiHtQk",
        "outputId": "230554b5-4aea-4b4d-dad2-b4db75c336eb"
      },
      "outputs": [
        {
          "data": {
            "image/png": "[encoded data removed]",
            "text/plain": [
              "<Figure size 720x576 with 1 Axes>"
            ]
          },
          "metadata": {
            "needs_background": "light"
          },
          "output_type": "display_data"
        }
      ],
      "source": [
        "#false positive rate, fpr= FP/(TN+FP) OR fpr = 1-specificty, tpr = sensitivity \n",
        "y_pred_log_p = lr_grid_search.predict_proba(X_test)[:,1]\n",
        "y_pred_sgd_p = sgd_grid_search.predict_proba(X_test)[:,1]\n",
        "y_pred_knn_p = KNN_grid_search.predict_proba(X_test)[:,1]\n",
        "y_pred_dt_p = dt_grid_search.predict_proba(X_test)[:,1]\n",
        "#y_pred_svc_p = SVM_grid_search.predict(X_test)[:,1]\n",
        "y_pred_nb_p = nb_grid_search.predict_proba(X_test)[:,1]\n",
        "\n",
        "model = [KNN_grid_search, lr_grid_search, dt_grid_search, sgd_grid_search, nb_grid_search]\n",
        "\n",
        "models=[tuned_sgd, tuned_SVM, tuned_knn, tuned_lr, tuned_dt, tuned_nb]\n",
        "label=['Logistic', 'SGD', 'KNN', 'Decision Tree', 'SVM', 'NB']\n",
        "\n",
        "#plotting ROC curves\n",
        "plt.figure(figsize = (10, 8))\n",
        "m = np.arange(5)\n",
        "for m in m:\n",
        "    fpr, tpr,thresholds = metrics.roc_curve(y_test, models[m])\n",
        "    auc = metrics.roc_auc_score(y_test, model[m].predict(X_test))\n",
        "    plt.plot(fpr, tpr, label='%s ROC (area = %0.2f)' % (label[m], auc))\n",
        "plt.plot([0, 1], [0, 1],'r--')\n",
        "plt.xlim([0.0, 1.0])\n",
        "plt.ylim([0.0, 1.05])\n",
        "plt.xlabel('1 - Specificity (False Positive Rate)')\n",
        "plt.ylabel('Sensitivity (True Positive Rate)')\n",
        "plt.title('Receiver Operating Characteristic')\n",
        "plt.legend(loc=\"lower right\")\n",
        "plt.show()"
      ]
    },
    {
      "cell_type": "markdown",
      "metadata": {
        "id": "wdX7Riu1p1oQ"
      },
      "source": [
        "PR Curve"
      ]
    },
    {
      "cell_type": "code",
      "execution_count": 63,
      "metadata": {
        "colab": {
          "base_uri": "https://localhost:8080/",
          "height": 517
        },
        "id": "LzOkX3VQROKx",
        "outputId": "be22b4f5-b18b-49be-af13-a1e51ae8ceba"
      },
      "outputs": [
        {
          "data": {
            "image/png": "[encoded data removed]",
            "text/plain": [
              "<Figure size 720x576 with 1 Axes>"
            ]
          },
          "metadata": {
            "needs_background": "light"
          },
          "output_type": "display_data"
        }
      ],
      "source": [
        "# false positive rate, fpr = FP/(TN+FP) OR fpr = 1-specificty, tpr = sensitivity \n",
        "y_pred_log_p = lr_grid_search.predict_proba(X_test)[:,1]\n",
        "y_pred_sgd_p = sgd_grid_search.predict_proba(X_test)[:,1]\n",
        "y_pred_knn_p = KNN_grid_search.predict_proba(X_test)[:,1]\n",
        "y_pred_dt_p = dt_grid_search.predict_proba(X_test)[:,1]\n",
        "#y_pred_svc_p = SVM_grid_search.predict(X_test)[:,1]\n",
        "y_pred_nb_p = nb_grid_search.predict_proba(X_test)[:,1]\n",
        "\n",
        "model = [KNN_grid_search, lr_grid_search, dt_grid_search, sgd_grid_search, nb_grid_search]\n",
        "\n",
        "models=[tuned_sgd, tuned_SVM, tuned_knn, tuned_lr, tuned_dt, tuned_nb]\n",
        "label=['Logistic', 'SGD', 'KNN', 'Decision Tree', 'SVM', 'NB']\n",
        "\n",
        "# plotting PR curves\n",
        "plt.figure(figsize = (10, 8))\n",
        "m = np.arange(5)\n",
        "for m in m:\n",
        "    precision, recall, thresholds_pr = metrics. precision_recall_curve(y_test, models[m])\n",
        "    avg_pre = metrics.average_precision_score(y_test, model[m].predict(X_test))\n",
        "    plt.plot(precision, recall, label = '%s average precision (area = %0.2f)' % (label[m], avg_pre))\n",
        "\n",
        "\n",
        "plt.xlim([0.0, 1.0])\n",
        "plt.ylim([0.0, 1.05])\n",
        "plt.xlabel('Precision', fontsize = 14)\n",
        "plt.ylabel('Recall', fontsize = 14)\n",
        "plt.title('Precision-Recall Curve', fontsize = 18)\n",
        "plt.legend(loc = \"lower right\")\n",
        "plt.show()"
      ]
    },
    {
      "cell_type": "markdown",
      "metadata": {
        "id": "0EycbQ9Zo-Rx"
      },
      "source": [
        "#### **Undersampling / Oversampling Method**"
      ]
    },
    {
      "cell_type": "markdown",
      "metadata": {
        "id": "68KKH0qNqkox"
      },
      "source": [
        "Random Undersampling"
      ]
    },
    {
      "cell_type": "code",
      "execution_count": 64,
      "metadata": {
        "id": "dH6hQDIvtdxY"
      },
      "outputs": [
        {
          "name": "stdout",
          "output_type": "stream",
          "text": [
            "Before random undersampling : Counter({0: 16355, 1: 4645})\n",
            "After random undersampling : Counter({0: 4645, 1: 4645})\n"
          ]
        }
      ],
      "source": [
        "def over_under_sample(X_train, y_train, Under = True, Over = True):\n",
        "    \"\"\"\n",
        "    Input: training features and target\n",
        "    Output: under/oversampled datasets\n",
        "    \"\"\"\n",
        "    rus = RandomUnderSampler(random_state = 42)\n",
        "    ros = RandomOverSampler(random_state = 42)\n",
        "\n",
        "    if Under and Over:\n",
        "        X_train_under, y_train_under = rus.fit_resample(X_train, y_train)\n",
        "        X_train_over, y_train_over = ros.fit_resample(X_train, y_train)\n",
        "        return X_train_under, y_train_under, X_train_over, y_train_over\n",
        "    elif Under:\n",
        "        X_train_under, y_train_under = rus.fit_resample(X_train, y_train)\n",
        "        return X_train_under, y_train_under\n",
        "    else:\n",
        "        X_train_over, y_train_over = ros.fit_resample(X_train, y_train)\n",
        "        return X_train_over, y_train_over\n",
        "\n",
        "\n",
        "X_train_under, y_train_under, X_train_over, y_train_over = over_under_sample(X_train, y_train, Under = True, Over = True)\n",
        "\n",
        "print(\"Before random undersampling :\" , Counter(y_train))\n",
        "print(\"After random undersampling :\" , Counter(y_train_under))"
      ]
    },
    {
      "cell_type": "markdown",
      "metadata": {
        "id": "o6ryP5Jht2I4"
      },
      "source": [
        "Logistic Regression - Undersampling"
      ]
    },
    {
      "cell_type": "code",
      "execution_count": 65,
      "metadata": {
        "id": "yNVxA_UZt2I9"
      },
      "outputs": [
        {
          "name": "stdout",
          "output_type": "stream",
          "text": [
            "Logistic Regression Cross validation accuracy : 0.7058127018299246\n"
          ]
        }
      ],
      "source": [
        "lr_params = {'C': [0.001, 0.01, 0.1, 1, 10], 'class_weight': [None, 'balanced'], 'penalty': ['l1', 'l2']}\n",
        "lr_under_grid_search = GridSearchCV(estimator = log, param_grid = lr_params, scoring = 'accuracy', cv = 10, n_jobs = -1)\n",
        "lr_under_grid_search = lr_under_grid_search.fit(X_train_under, y_train_under)\n",
        "\n",
        "lr_under_best_accuracy = lr_under_grid_search.best_score_\n",
        "print('Logistic Regression Cross validation accuracy :', lr_under_best_accuracy)"
      ]
    },
    {
      "cell_type": "code",
      "execution_count": 66,
      "metadata": {
        "colab": {
          "base_uri": "https://localhost:8080/"
        },
        "id": "BNazArXft2JC",
        "outputId": "83a14638-de25-4fec-aeda-f762845e56ae"
      },
      "outputs": [
        {
          "name": "stdout",
          "output_type": "stream",
          "text": [
            "Logistic Regression - Undersampling Best Parameters:   {'C': 0.01, 'class_weight': None, 'penalty': 'l2'}\n"
          ]
        }
      ],
      "source": [
        "lr_under_best_parameters = lr_under_grid_search.best_params_\n",
        "print('Logistic Regression - Undersampling Best Parameters:  ', lr_under_best_parameters)"
      ]
    },
    {
      "cell_type": "code",
      "execution_count": 67,
      "metadata": {
        "colab": {
          "base_uri": "https://localhost:8080/",
          "height": 78
        },
        "id": "qPuu0yYLt2JH",
        "outputId": "f23b7c22-5efa-4c07-ebd1-f25b30ccd6e4"
      },
      "outputs": [
        {
          "data": {
            "text/html": [
              "<div>\n",
              "<style scoped>\n",
              "    .dataframe tbody tr th:only-of-type {\n",
              "        vertical-align: middle;\n",
              "    }\n",
              "\n",
              "    .dataframe tbody tr th {\n",
              "        vertical-align: top;\n",
              "    }\n",
              "\n",
              "    .dataframe thead th {\n",
              "        text-align: right;\n",
              "    }\n",
              "</style>\n",
              "<table border=\"1\" class=\"dataframe\">\n",
              "  <thead>\n",
              "    <tr style=\"text-align: right;\">\n",
              "      <th></th>\n",
              "      <th>Model</th>\n",
              "      <th>Accuracy</th>\n",
              "      <th>Precision</th>\n",
              "      <th>Recall</th>\n",
              "      <th>F1-Score</th>\n",
              "      <th>ROC</th>\n",
              "    </tr>\n",
              "  </thead>\n",
              "  <tbody>\n",
              "    <tr>\n",
              "      <th>0</th>\n",
              "      <td>Logistic Regression - Undersampled</td>\n",
              "      <td>0.776</td>\n",
              "      <td>0.494346</td>\n",
              "      <td>0.54897</td>\n",
              "      <td>0.520228</td>\n",
              "      <td>0.694731</td>\n",
              "    </tr>\n",
              "  </tbody>\n",
              "</table>\n",
              "</div>"
            ],
            "text/plain": [
              "                                Model  Accuracy  Precision   Recall  F1-Score  \\\n",
              "0  Logistic Regression - Undersampled     0.776   0.494346  0.54897  0.520228   \n",
              "\n",
              "        ROC  \n",
              "0  0.694731  "
            ]
          },
          "execution_count": 67,
          "metadata": {},
          "output_type": "execute_result"
        }
      ],
      "source": [
        "tuned_lr_under = lr_under_grid_search.predict(X_test)\n",
        "\n",
        "lr_under_roc = roc_auc_score(y_test, tuned_lr_under)\n",
        "lr_under_acc = accuracy_score(y_test, tuned_lr_under)\n",
        "lr_under_prec = precision_score(y_test, tuned_lr_under)\n",
        "lr_under_rec = recall_score(y_test, tuned_lr_under)\n",
        "lr_under_f1 = f1_score(y_test, tuned_lr_under)\n",
        "lr_under_result = pd.DataFrame([['Logistic Regression - Undersampled', lr_under_acc, lr_under_prec, lr_under_rec, lr_under_f1, lr_under_roc]],\n",
        "               columns = ['Model', 'Accuracy', 'Precision', 'Recall', 'F1-Score', 'ROC'])\n",
        "\n",
        "lr_under_result"
      ]
    },
    {
      "cell_type": "markdown",
      "metadata": {
        "id": "vUqsqf3vksZK"
      },
      "source": [
        "Logistic Regression - Oversampling "
      ]
    },
    {
      "cell_type": "code",
      "execution_count": 68,
      "metadata": {
        "id": "PudxKfBuuOip"
      },
      "outputs": [
        {
          "name": "stdout",
          "output_type": "stream",
          "text": [
            "Logistic Regression Cross validation accuracy : 0.7061754815041271\n"
          ]
        }
      ],
      "source": [
        "lr_params = {'C': [0.001, 0.01, 0.1, 1, 10], 'class_weight': [None, 'balanced'], 'penalty': ['l1', 'l2']}\n",
        "lr_over_grid_search = GridSearchCV(estimator = log, param_grid = lr_params, scoring = 'accuracy', cv = 10, n_jobs = -1)\n",
        "lr_over_grid_search = lr_grid_search.fit(X_train_over, y_train_over)\n",
        "\n",
        "lr_over_best_accuracy = lr_over_grid_search.best_score_\n",
        "print('Logistic Regression Cross validation accuracy :', lr_over_best_accuracy)"
      ]
    },
    {
      "cell_type": "code",
      "execution_count": 69,
      "metadata": {
        "colab": {
          "base_uri": "https://localhost:8080/"
        },
        "id": "Ne_lNMequOiq",
        "outputId": "850f740b-61fe-468a-8d6c-be2efd8927ca"
      },
      "outputs": [
        {
          "name": "stdout",
          "output_type": "stream",
          "text": [
            "Logistic Regression - Oversampling Best Parameters:   {'C': 0.01, 'class_weight': None, 'penalty': 'l2'}\n"
          ]
        }
      ],
      "source": [
        "lr_over_best_parameters = lr_over_grid_search.best_params_\n",
        "print('Logistic Regression - Oversampling Best Parameters:  ', lr_over_best_parameters)"
      ]
    },
    {
      "cell_type": "code",
      "execution_count": 70,
      "metadata": {
        "colab": {
          "base_uri": "https://localhost:8080/",
          "height": 78
        },
        "id": "je-x4wDQuOir",
        "outputId": "360d70a0-cf6a-42fd-c97b-88536931589c"
      },
      "outputs": [
        {
          "data": {
            "text/html": [
              "<div>\n",
              "<style scoped>\n",
              "    .dataframe tbody tr th:only-of-type {\n",
              "        vertical-align: middle;\n",
              "    }\n",
              "\n",
              "    .dataframe tbody tr th {\n",
              "        vertical-align: top;\n",
              "    }\n",
              "\n",
              "    .dataframe thead th {\n",
              "        text-align: right;\n",
              "    }\n",
              "</style>\n",
              "<table border=\"1\" class=\"dataframe\">\n",
              "  <thead>\n",
              "    <tr style=\"text-align: right;\">\n",
              "      <th></th>\n",
              "      <th>Model</th>\n",
              "      <th>Accuracy</th>\n",
              "      <th>Precision</th>\n",
              "      <th>Recall</th>\n",
              "      <th>F1-Score</th>\n",
              "      <th>ROC</th>\n",
              "    </tr>\n",
              "  </thead>\n",
              "  <tbody>\n",
              "    <tr>\n",
              "      <th>0</th>\n",
              "      <td>Logistic Regression - Oversampled</td>\n",
              "      <td>0.776333</td>\n",
              "      <td>0.495009</td>\n",
              "      <td>0.547966</td>\n",
              "      <td>0.520143</td>\n",
              "      <td>0.694585</td>\n",
              "    </tr>\n",
              "  </tbody>\n",
              "</table>\n",
              "</div>"
            ],
            "text/plain": [
              "                               Model  Accuracy  Precision    Recall  F1-Score  \\\n",
              "0  Logistic Regression - Oversampled  0.776333   0.495009  0.547966  0.520143   \n",
              "\n",
              "        ROC  \n",
              "0  0.694585  "
            ]
          },
          "execution_count": 70,
          "metadata": {},
          "output_type": "execute_result"
        }
      ],
      "source": [
        "tuned_lr_over = lr_over_grid_search.predict(X_test)\n",
        "\n",
        "lr_over_roc = roc_auc_score(y_test, tuned_lr_over)\n",
        "lr_over_acc = accuracy_score(y_test, tuned_lr_over)\n",
        "lr_over_prec = precision_score(y_test, tuned_lr_over)\n",
        "lr_over_rec = recall_score(y_test, tuned_lr_over)\n",
        "lr_over_f1 = f1_score(y_test, tuned_lr_over)\n",
        "lr_over_result = pd.DataFrame([['Logistic Regression - Oversampled', lr_over_acc, lr_over_prec, lr_over_rec, lr_over_f1, lr_over_roc]],\n",
        "               columns = ['Model', 'Accuracy', 'Precision', 'Recall', 'F1-Score', 'ROC'])\n",
        "\n",
        "lr_over_result"
      ]
    },
    {
      "cell_type": "markdown",
      "metadata": {
        "id": "wm3K174Flfnu"
      },
      "source": [
        "SVM - Undersampling"
      ]
    },
    {
      "cell_type": "code",
      "execution_count": 71,
      "metadata": {
        "id": "VvrMBXwdlemU"
      },
      "outputs": [
        {
          "name": "stdout",
          "output_type": "stream",
          "text": [
            "SVM Undersampling Best Parameters:   {'C': 1, 'kernel': 'rbf'}\n"
          ]
        }
      ],
      "source": [
        "SVM_parameters = [{'C':[0.001, 0.01, 1, 10],'kernel': ['rbf']}]\n",
        "\n",
        "SVM_under_grid_search = GridSearchCV(estimator = SVM, param_grid = SVM_parameters, scoring = 'accuracy', cv = 5, n_jobs = -1)\n",
        "SVM_under_grid_search = SVM_under_grid_search.fit(X_train_under, y_train_under)\n",
        "SVM_under_best_parameters = SVM_under_grid_search.best_params_\n",
        "print('SVM Undersampling Best Parameters:  ', SVM_under_best_parameters)"
      ]
    },
    {
      "cell_type": "code",
      "execution_count": 72,
      "metadata": {
        "colab": {
          "base_uri": "https://localhost:8080/",
          "height": 78
        },
        "id": "1bHJ3nDSvBl-",
        "outputId": "7eb66376-fb43-4b50-98da-97af5fffcb7f"
      },
      "outputs": [
        {
          "data": {
            "text/html": [
              "<div>\n",
              "<style scoped>\n",
              "    .dataframe tbody tr th:only-of-type {\n",
              "        vertical-align: middle;\n",
              "    }\n",
              "\n",
              "    .dataframe tbody tr th {\n",
              "        vertical-align: top;\n",
              "    }\n",
              "\n",
              "    .dataframe thead th {\n",
              "        text-align: right;\n",
              "    }\n",
              "</style>\n",
              "<table border=\"1\" class=\"dataframe\">\n",
              "  <thead>\n",
              "    <tr style=\"text-align: right;\">\n",
              "      <th></th>\n",
              "      <th>Model</th>\n",
              "      <th>Accuracy</th>\n",
              "      <th>Precision</th>\n",
              "      <th>Recall</th>\n",
              "      <th>F1-Score</th>\n",
              "      <th>ROC</th>\n",
              "    </tr>\n",
              "  </thead>\n",
              "  <tbody>\n",
              "    <tr>\n",
              "      <th>0</th>\n",
              "      <td>SVM - Undersampled</td>\n",
              "      <td>0.750444</td>\n",
              "      <td>0.451502</td>\n",
              "      <td>0.596183</td>\n",
              "      <td>0.513853</td>\n",
              "      <td>0.695224</td>\n",
              "    </tr>\n",
              "  </tbody>\n",
              "</table>\n",
              "</div>"
            ],
            "text/plain": [
              "                Model  Accuracy  Precision    Recall  F1-Score       ROC\n",
              "0  SVM - Undersampled  0.750444   0.451502  0.596183  0.513853  0.695224"
            ]
          },
          "execution_count": 72,
          "metadata": {},
          "output_type": "execute_result"
        }
      ],
      "source": [
        "tuned_SVM_under = SVM_under_grid_search.predict(X_test)\n",
        "\n",
        "svm_under_acc = accuracy_score(y_test, tuned_SVM_under)\n",
        "svm_under_prec = precision_score(y_test, tuned_SVM_under)\n",
        "svm_under_rec = metrics.recall_score(y_test, tuned_SVM_under)\n",
        "svm_under_f1 = f1_score(y_test, tuned_SVM_under)\n",
        "svm_under_roc = roc_auc_score(y_test, tuned_SVM_under)\n",
        "svm_under_result = pd.DataFrame([['SVM - Undersampled', svm_under_acc, svm_under_prec, svm_under_rec, svm_under_f1, svm_under_roc]],\n",
        "               columns = ['Model', 'Accuracy', 'Precision', 'Recall', 'F1-Score', 'ROC'])\n",
        "svm_under_result"
      ]
    },
    {
      "cell_type": "markdown",
      "metadata": {
        "id": "1-PUtPTRlDMN"
      },
      "source": [
        "SVM - Oversampling"
      ]
    },
    {
      "cell_type": "code",
      "execution_count": 73,
      "metadata": {
        "id": "clwiP8_9vBl5"
      },
      "outputs": [
        {
          "name": "stdout",
          "output_type": "stream",
          "text": [
            "SVM Oversampling Best Parameters:   {'C': 10, 'kernel': 'rbf'}\n"
          ]
        }
      ],
      "source": [
        "SVM_parameters = [{'C':[0.001,0.01,1,10],'kernel': ['rbf']}]\n",
        "\n",
        "SVM_over_grid_search = GridSearchCV(estimator = SVM, param_grid = SVM_parameters, scoring = 'accuracy', cv = 5, n_jobs = -1)\n",
        "SVM_over_grid_search = SVM_grid_search.fit(X_train_over, y_train_over)\n",
        "SVM_over_best_parameters = SVM_over_grid_search.best_params_\n",
        "print('SVM Oversampling Best Parameters:  ', SVM_over_best_parameters)"
      ]
    },
    {
      "cell_type": "code",
      "execution_count": 74,
      "metadata": {
        "colab": {
          "base_uri": "https://localhost:8080/",
          "height": 78
        },
        "id": "sqDdCLFvvBl7",
        "outputId": "8a299319-7b97-45d6-8b8c-95520538b5f2"
      },
      "outputs": [
        {
          "data": {
            "text/html": [
              "<div>\n",
              "<style scoped>\n",
              "    .dataframe tbody tr th:only-of-type {\n",
              "        vertical-align: middle;\n",
              "    }\n",
              "\n",
              "    .dataframe tbody tr th {\n",
              "        vertical-align: top;\n",
              "    }\n",
              "\n",
              "    .dataframe thead th {\n",
              "        text-align: right;\n",
              "    }\n",
              "</style>\n",
              "<table border=\"1\" class=\"dataframe\">\n",
              "  <thead>\n",
              "    <tr style=\"text-align: right;\">\n",
              "      <th></th>\n",
              "      <th>Model</th>\n",
              "      <th>Accuracy</th>\n",
              "      <th>Precision</th>\n",
              "      <th>Recall</th>\n",
              "      <th>F1-Score</th>\n",
              "      <th>ROC</th>\n",
              "    </tr>\n",
              "  </thead>\n",
              "  <tbody>\n",
              "    <tr>\n",
              "      <th>0</th>\n",
              "      <td>SVM - Oversampled</td>\n",
              "      <td>0.755222</td>\n",
              "      <td>0.45598</td>\n",
              "      <td>0.551482</td>\n",
              "      <td>0.499204</td>\n",
              "      <td>0.68229</td>\n",
              "    </tr>\n",
              "  </tbody>\n",
              "</table>\n",
              "</div>"
            ],
            "text/plain": [
              "               Model  Accuracy  Precision    Recall  F1-Score      ROC\n",
              "0  SVM - Oversampled  0.755222    0.45598  0.551482  0.499204  0.68229"
            ]
          },
          "execution_count": 74,
          "metadata": {},
          "output_type": "execute_result"
        }
      ],
      "source": [
        "tuned_SVM_over = SVM_over_grid_search.predict(X_test)\n",
        "\n",
        "svm_over_acc = accuracy_score(y_test, tuned_SVM_over)\n",
        "svm_over_prec = precision_score(y_test, tuned_SVM_over)\n",
        "svm_over_rec = metrics.recall_score(y_test, tuned_SVM_over)\n",
        "svm_over_f1 = f1_score(y_test, tuned_SVM_over)\n",
        "svm_over_roc = roc_auc_score(y_test, tuned_SVM_over)\n",
        "svm_over_result = pd.DataFrame([['SVM - Oversampled', svm_over_acc, svm_over_prec, svm_over_rec, svm_over_f1, svm_over_roc]],\n",
        "               columns = ['Model', 'Accuracy', 'Precision', 'Recall', 'F1-Score', 'ROC'])\n",
        "\n",
        "svm_over_result"
      ]
    },
    {
      "cell_type": "markdown",
      "metadata": {
        "id": "De-HD5zYWmQI"
      },
      "source": [
        "KNN - Undersampling\n"
      ]
    },
    {
      "cell_type": "code",
      "execution_count": 75,
      "metadata": {
        "id": "8N88cKzZWog0"
      },
      "outputs": [
        {
          "name": "stdout",
          "output_type": "stream",
          "text": [
            "KNN Cross validation accuracy: 0.6916038751345532\n"
          ]
        }
      ],
      "source": [
        "k_range = list(range(1, 15))\n",
        "leaf_size = list(range(1, 15))\n",
        "weight_options = ['uniform', 'distance']\n",
        "knn_parameters = {'n_neighbors': k_range, 'leaf_size': leaf_size, 'weights': weight_options}\n",
        "\n",
        "KNN_under_grid_search = GridSearchCV(estimator = knn, param_grid = knn_parameters, scoring = 'accuracy', cv = 5, n_jobs = -1)\n",
        "KNN_under_grid_search = KNN_under_grid_search.fit(X_train_under, y_train_under)\n",
        "\n",
        "KNN_under_best_accuracy = KNN_under_grid_search.best_score_\n",
        "print('KNN Cross validation accuracy:', KNN_under_best_accuracy)"
      ]
    },
    {
      "cell_type": "code",
      "execution_count": 76,
      "metadata": {
        "colab": {
          "base_uri": "https://localhost:8080/"
        },
        "id": "zDks3vWDWuhj",
        "outputId": "2143af26-aadb-4f50-8c6b-d9cb556d6c8f"
      },
      "outputs": [
        {
          "name": "stdout",
          "output_type": "stream",
          "text": [
            "KNN - Undersampling Best Parameters:   {'leaf_size': 1, 'n_neighbors': 14, 'weights': 'uniform'}\n"
          ]
        }
      ],
      "source": [
        "knn_under_best_parameters = KNN_under_grid_search.best_params_\n",
        "print('KNN - Undersampling Best Parameters:  ', knn_under_best_parameters)"
      ]
    },
    {
      "cell_type": "code",
      "execution_count": 77,
      "metadata": {
        "colab": {
          "base_uri": "https://localhost:8080/",
          "height": 78
        },
        "id": "uycFI8Z9WwBq",
        "outputId": "71a268d6-f855-41cb-af51-1664500a187e"
      },
      "outputs": [
        {
          "data": {
            "text/html": [
              "<div>\n",
              "<style scoped>\n",
              "    .dataframe tbody tr th:only-of-type {\n",
              "        vertical-align: middle;\n",
              "    }\n",
              "\n",
              "    .dataframe tbody tr th {\n",
              "        vertical-align: top;\n",
              "    }\n",
              "\n",
              "    .dataframe thead th {\n",
              "        text-align: right;\n",
              "    }\n",
              "</style>\n",
              "<table border=\"1\" class=\"dataframe\">\n",
              "  <thead>\n",
              "    <tr style=\"text-align: right;\">\n",
              "      <th></th>\n",
              "      <th>Model</th>\n",
              "      <th>Accuracy</th>\n",
              "      <th>Precision</th>\n",
              "      <th>Recall</th>\n",
              "      <th>F1-Score</th>\n",
              "      <th>ROC</th>\n",
              "    </tr>\n",
              "  </thead>\n",
              "  <tbody>\n",
              "    <tr>\n",
              "      <th>0</th>\n",
              "      <td>KNN - Undersampled</td>\n",
              "      <td>0.747111</td>\n",
              "      <td>0.444183</td>\n",
              "      <td>0.569563</td>\n",
              "      <td>0.49912</td>\n",
              "      <td>0.683555</td>\n",
              "    </tr>\n",
              "  </tbody>\n",
              "</table>\n",
              "</div>"
            ],
            "text/plain": [
              "                Model  Accuracy  Precision    Recall  F1-Score       ROC\n",
              "0  KNN - Undersampled  0.747111   0.444183  0.569563   0.49912  0.683555"
            ]
          },
          "execution_count": 77,
          "metadata": {},
          "output_type": "execute_result"
        }
      ],
      "source": [
        "tuned_knn_under = KNN_under_grid_search.predict(X_test)\n",
        "\n",
        "knn_under_acc = accuracy_score(y_test, tuned_knn_under)\n",
        "knn_under_prec = precision_score(y_test, tuned_knn_under)\n",
        "knn_under_rec = metrics.recall_score(y_test, tuned_knn_under)\n",
        "knn_under_f1 = f1_score(y_test, tuned_knn_under)\n",
        "knn_under_roc = roc_auc_score(y_test, tuned_knn_under)\n",
        "knn_under_result = pd.DataFrame([['KNN - Undersampled', knn_under_acc, knn_under_prec, knn_under_rec, knn_under_f1, knn_under_roc]],\n",
        "               columns = ['Model', 'Accuracy', 'Precision', 'Recall', 'F1-Score', 'ROC'])\n",
        "\n",
        "knn_under_result"
      ]
    },
    {
      "cell_type": "markdown",
      "metadata": {
        "id": "rBZ8hQ4zWxRv"
      },
      "source": [
        "KNN - Oversampling"
      ]
    },
    {
      "cell_type": "code",
      "execution_count": 78,
      "metadata": {
        "id": "zCuWDcyIW_9N"
      },
      "outputs": [
        {
          "name": "stdout",
          "output_type": "stream",
          "text": [
            "KNN Cross validation accuracy: 0.8878018954448181\n"
          ]
        }
      ],
      "source": [
        "k_range = list(range(1, 15))\n",
        "leaf_size = list(range(1,15))\n",
        "weight_options = ['uniform', 'distance']\n",
        "knn_parameters = {'n_neighbors': k_range, 'leaf_size': leaf_size, 'weights': weight_options}\n",
        "\n",
        "KNN_over_grid_search = GridSearchCV(estimator = knn,param_grid = knn_parameters, scoring = 'accuracy', cv = 5, n_jobs = -1)\n",
        "KNN_over_grid_search = KNN_over_grid_search.fit(X_train_over, y_train_over)\n",
        "\n",
        "KNN_over_best_accuracy = KNN_over_grid_search.best_score_\n",
        "print('KNN Cross validation accuracy:', KNN_over_best_accuracy)"
      ]
    },
    {
      "cell_type": "code",
      "execution_count": 79,
      "metadata": {
        "colab": {
          "base_uri": "https://localhost:8080/"
        },
        "id": "cv6zwPtcXFA0",
        "outputId": "efaf75e7-e71a-44f4-a29a-0bfce1a88c3c"
      },
      "outputs": [
        {
          "name": "stdout",
          "output_type": "stream",
          "text": [
            "KNN - Oversampling Best Parameters:   {'leaf_size': 1, 'n_neighbors': 1, 'weights': 'uniform'}\n"
          ]
        }
      ],
      "source": [
        "knn_over_best_parameters = KNN_over_grid_search.best_params_\n",
        "print('KNN - Oversampling Best Parameters:  ', knn_over_best_parameters)"
      ]
    },
    {
      "cell_type": "code",
      "execution_count": 80,
      "metadata": {
        "colab": {
          "base_uri": "https://localhost:8080/"
        },
        "id": "5pSXYR3QXGLq",
        "outputId": "892beb7e-c419-45c0-ad5a-ccfa8b7eeec7"
      },
      "outputs": [
        {
          "data": {
            "text/html": [
              "<div>\n",
              "<style scoped>\n",
              "    .dataframe tbody tr th:only-of-type {\n",
              "        vertical-align: middle;\n",
              "    }\n",
              "\n",
              "    .dataframe tbody tr th {\n",
              "        vertical-align: top;\n",
              "    }\n",
              "\n",
              "    .dataframe thead th {\n",
              "        text-align: right;\n",
              "    }\n",
              "</style>\n",
              "<table border=\"1\" class=\"dataframe\">\n",
              "  <thead>\n",
              "    <tr style=\"text-align: right;\">\n",
              "      <th></th>\n",
              "      <th>Model</th>\n",
              "      <th>Accuracy</th>\n",
              "      <th>Precision</th>\n",
              "      <th>Recall</th>\n",
              "      <th>F1-Score</th>\n",
              "      <th>ROC</th>\n",
              "    </tr>\n",
              "  </thead>\n",
              "  <tbody>\n",
              "    <tr>\n",
              "      <th>0</th>\n",
              "      <td>KNN - Oversampled</td>\n",
              "      <td>0.732778</td>\n",
              "      <td>0.394817</td>\n",
              "      <td>0.390256</td>\n",
              "      <td>0.392523</td>\n",
              "      <td>0.610166</td>\n",
              "    </tr>\n",
              "  </tbody>\n",
              "</table>\n",
              "</div>"
            ],
            "text/plain": [
              "               Model  Accuracy  Precision    Recall  F1-Score       ROC\n",
              "0  KNN - Oversampled  0.732778   0.394817  0.390256  0.392523  0.610166"
            ]
          },
          "execution_count": 80,
          "metadata": {},
          "output_type": "execute_result"
        }
      ],
      "source": [
        "tuned_knn_over = KNN_over_grid_search.predict(X_test)\n",
        "\n",
        "knn_over_acc = accuracy_score(y_test, tuned_knn_over)\n",
        "knn_over_prec = precision_score(y_test, tuned_knn_over)\n",
        "knn_over_rec = metrics.recall_score(y_test, tuned_knn_over)\n",
        "knn_over_f1 = f1_score(y_test, tuned_knn_over)\n",
        "knn_over_roc = roc_auc_score(y_test, tuned_knn_over)\n",
        "knn_over_result = pd.DataFrame([['KNN - Oversampled', knn_over_acc, knn_over_prec, knn_over_rec, knn_over_f1, knn_over_roc]],\n",
        "               columns = ['Model', 'Accuracy', 'Precision', 'Recall', 'F1-Score', 'ROC'])\n",
        "\n",
        "knn_over_result"
      ]
    },
    {
      "cell_type": "markdown",
      "metadata": {
        "id": "hHUSuTa1YWk4"
      },
      "source": [
        "Decision Tree - Undersampled"
      ]
    },
    {
      "cell_type": "code",
      "execution_count": 81,
      "metadata": {
        "id": "buBvIjvkYZN-"
      },
      "outputs": [
        {
          "name": "stdout",
          "output_type": "stream",
          "text": [
            "Decision Tree Cross validation accuracy:  0.6906350914962325\n"
          ]
        }
      ],
      "source": [
        "dtree_parameters = {'max_depth': [2,4,6,8,10],'min_samples_leaf': [2,4,6,8,10], 'min_samples_split': [2,4,6,8,10]}\n",
        "dt_under_grid_search = GridSearchCV(estimator = dtree, param_grid = dtree_parameters, scoring = 'accuracy', cv = 5, n_jobs = -1)\n",
        "dt_under_grid_search = dt_under_grid_search.fit(X_train_under, y_train_under)\n",
        "\n",
        "dt_under_best_accuracy = dt_under_grid_search.best_score_\n",
        "print('Decision Tree Cross validation accuracy: ', dt_under_best_accuracy)"
      ]
    },
    {
      "cell_type": "code",
      "execution_count": 82,
      "metadata": {
        "colab": {
          "base_uri": "https://localhost:8080/"
        },
        "id": "7caaN5zTYd-a",
        "outputId": "c2c9c9fa-3388-43ff-f967-10448dce8ab3"
      },
      "outputs": [
        {
          "name": "stdout",
          "output_type": "stream",
          "text": [
            "Decision Tree - Undersampled Best Parameters:   {'max_depth': 4, 'min_samples_leaf': 2, 'min_samples_split': 2}\n"
          ]
        }
      ],
      "source": [
        "dt_under_best_parameters = dt_under_grid_search.best_params_\n",
        "print('Decision Tree - Undersampled Best Parameters:  ', dt_under_best_parameters)"
      ]
    },
    {
      "cell_type": "code",
      "execution_count": 83,
      "metadata": {
        "id": "Np3jbwOzYfc5"
      },
      "outputs": [
        {
          "data": {
            "text/html": [
              "<div>\n",
              "<style scoped>\n",
              "    .dataframe tbody tr th:only-of-type {\n",
              "        vertical-align: middle;\n",
              "    }\n",
              "\n",
              "    .dataframe tbody tr th {\n",
              "        vertical-align: top;\n",
              "    }\n",
              "\n",
              "    .dataframe thead th {\n",
              "        text-align: right;\n",
              "    }\n",
              "</style>\n",
              "<table border=\"1\" class=\"dataframe\">\n",
              "  <thead>\n",
              "    <tr style=\"text-align: right;\">\n",
              "      <th></th>\n",
              "      <th>Model</th>\n",
              "      <th>Accuracy</th>\n",
              "      <th>Precision</th>\n",
              "      <th>Recall</th>\n",
              "      <th>F1-Score</th>\n",
              "      <th>ROC</th>\n",
              "    </tr>\n",
              "  </thead>\n",
              "  <tbody>\n",
              "    <tr>\n",
              "      <th>0</th>\n",
              "      <td>Decision Tree - Undersampled</td>\n",
              "      <td>0.769889</td>\n",
              "      <td>0.482332</td>\n",
              "      <td>0.548468</td>\n",
              "      <td>0.513278</td>\n",
              "      <td>0.690627</td>\n",
              "    </tr>\n",
              "  </tbody>\n",
              "</table>\n",
              "</div>"
            ],
            "text/plain": [
              "                          Model  Accuracy  Precision    Recall  F1-Score  \\\n",
              "0  Decision Tree - Undersampled  0.769889   0.482332  0.548468  0.513278   \n",
              "\n",
              "        ROC  \n",
              "0  0.690627  "
            ]
          },
          "execution_count": 83,
          "metadata": {},
          "output_type": "execute_result"
        }
      ],
      "source": [
        "tuned_dt_under = dt_under_grid_search.predict(X_test)\n",
        "\n",
        "dt_under_roc = roc_auc_score(y_test, tuned_dt_under)\n",
        "dt_under_acc = accuracy_score(y_test, tuned_dt_under)\n",
        "dt_under_prec = precision_score(y_test, tuned_dt_under)\n",
        "dt_under_rec = recall_score(y_test, tuned_dt_under)\n",
        "dt_under_f1 = f1_score(y_test, tuned_dt_under)\n",
        "dt_under_result = pd.DataFrame([['Decision Tree - Undersampled', dt_under_acc, dt_under_prec, dt_under_rec, dt_under_f1, dt_under_roc]],\n",
        "               columns = ['Model', 'Accuracy', 'Precision', 'Recall', 'F1-Score', 'ROC'])\n",
        "\n",
        "dt_under_result"
      ]
    },
    {
      "cell_type": "markdown",
      "metadata": {
        "id": "zXMyaWmIZC72"
      },
      "source": [
        "Decision Tree - Oversampled"
      ]
    },
    {
      "cell_type": "code",
      "execution_count": 84,
      "metadata": {
        "id": "7SYxAf7fZEcx"
      },
      "outputs": [
        {
          "name": "stdout",
          "output_type": "stream",
          "text": [
            "Decision Tree Cross validation accuracy:  0.7408132069703455\n"
          ]
        }
      ],
      "source": [
        "dtree_parameters = {'max_depth':[2,4,6,8,10],'min_samples_leaf':[2,4,6,8,10], 'min_samples_split':[2,4,6,8,10]}\n",
        "dt_over_grid_search = GridSearchCV(estimator = dtree, param_grid = dtree_parameters, scoring = 'accuracy', cv = 5, n_jobs = -1)\n",
        "dt_over_grid_search = dt_over_grid_search.fit(X_train_over, y_train_over)\n",
        "\n",
        "dt_over_best_accuracy = dt_over_grid_search.best_score_\n",
        "print('Decision Tree Cross validation accuracy: ', dt_over_best_accuracy)"
      ]
    },
    {
      "cell_type": "code",
      "execution_count": 85,
      "metadata": {
        "colab": {
          "base_uri": "https://localhost:8080/"
        },
        "id": "DeRjhyaKZHGV",
        "outputId": "ac6396d6-ba30-4a95-ce75-5c0a9175b55d"
      },
      "outputs": [
        {
          "name": "stdout",
          "output_type": "stream",
          "text": [
            "Decision Tree - Undersampled Best Parameters:   {'max_depth': 10, 'min_samples_leaf': 2, 'min_samples_split': 2}\n"
          ]
        }
      ],
      "source": [
        "dt_over_best_parameters = dt_over_grid_search.best_params_\n",
        "print('Decision Tree - Undersampled Best Parameters:  ', dt_over_best_parameters)"
      ]
    },
    {
      "cell_type": "code",
      "execution_count": 86,
      "metadata": {
        "id": "fgEdiHiSZIms"
      },
      "outputs": [
        {
          "data": {
            "text/html": [
              "<div>\n",
              "<style scoped>\n",
              "    .dataframe tbody tr th:only-of-type {\n",
              "        vertical-align: middle;\n",
              "    }\n",
              "\n",
              "    .dataframe tbody tr th {\n",
              "        vertical-align: top;\n",
              "    }\n",
              "\n",
              "    .dataframe thead th {\n",
              "        text-align: right;\n",
              "    }\n",
              "</style>\n",
              "<table border=\"1\" class=\"dataframe\">\n",
              "  <thead>\n",
              "    <tr style=\"text-align: right;\">\n",
              "      <th></th>\n",
              "      <th>Model</th>\n",
              "      <th>Accuracy</th>\n",
              "      <th>Precision</th>\n",
              "      <th>Recall</th>\n",
              "      <th>F1-Score</th>\n",
              "      <th>ROC</th>\n",
              "    </tr>\n",
              "  </thead>\n",
              "  <tbody>\n",
              "    <tr>\n",
              "      <th>0</th>\n",
              "      <td>Decision Tree - Oversampled</td>\n",
              "      <td>0.741778</td>\n",
              "      <td>0.435739</td>\n",
              "      <td>0.567052</td>\n",
              "      <td>0.492798</td>\n",
              "      <td>0.679231</td>\n",
              "    </tr>\n",
              "  </tbody>\n",
              "</table>\n",
              "</div>"
            ],
            "text/plain": [
              "                         Model  Accuracy  Precision    Recall  F1-Score  \\\n",
              "0  Decision Tree - Oversampled  0.741778   0.435739  0.567052  0.492798   \n",
              "\n",
              "        ROC  \n",
              "0  0.679231  "
            ]
          },
          "execution_count": 86,
          "metadata": {},
          "output_type": "execute_result"
        }
      ],
      "source": [
        "tuned_dt_over = dt_over_grid_search.predict(X_test)\n",
        "\n",
        "dt_over_roc = roc_auc_score(y_test, tuned_dt_over)\n",
        "dt_over_acc = accuracy_score(y_test, tuned_dt_over)\n",
        "dt_over_prec = precision_score(y_test, tuned_dt_over)\n",
        "dt_over_rec = recall_score(y_test, tuned_dt_over)\n",
        "dt_over_f1 = f1_score(y_test, tuned_dt_over)\n",
        "dt_over_result = pd.DataFrame([['Decision Tree - Oversampled', dt_over_acc, dt_over_prec, dt_over_rec, dt_over_f1, dt_over_roc]],\n",
        "               columns = ['Model', 'Accuracy', 'Precision', 'Recall', 'F1-Score', 'ROC'])\n",
        "#dt_over_result = model_results.append(dt_over_result, ignore_index = True)\n",
        "dt_over_result"
      ]
    },
    {
      "cell_type": "markdown",
      "metadata": {
        "id": "U-E7Gp-4c_qc"
      },
      "source": [
        "Stochastic Gradient Descent - Undersampling "
      ]
    },
    {
      "cell_type": "code",
      "execution_count": 87,
      "metadata": {
        "id": "nJd_y5f_c-Tc"
      },
      "outputs": [
        {
          "name": "stdout",
          "output_type": "stream",
          "text": [
            "Accuracy on Cross Validation set : 0.7006458557588805\n"
          ]
        }
      ],
      "source": [
        "sgd_parameters = {'alpha': [0.0001, 0.001, 0.01, 0.1, 1.0, 5.0], 'class_weight': [None, 'balanced']}\n",
        "sgd_under_grid_search = GridSearchCV(estimator = sgd, param_grid = sgd_parameters, scoring = 'accuracy', cv = 5, n_jobs = -1)\n",
        "sgd_under_grid_search = sgd_under_grid_search.fit(X_train_under, y_train_under)\n",
        "\n",
        "sgd_under_best_accuracy = sgd_under_grid_search.best_score_\n",
        "print('Accuracy on Cross Validation set :', sgd_under_best_accuracy)"
      ]
    },
    {
      "cell_type": "code",
      "execution_count": 88,
      "metadata": {
        "colab": {
          "base_uri": "https://localhost:8080/"
        },
        "id": "Aahrasuzc-Tp",
        "outputId": "0e4e365e-7829-471a-87a9-8f193df8446f"
      },
      "outputs": [
        {
          "name": "stdout",
          "output_type": "stream",
          "text": [
            "Stochastic Gradient Descent - Undersampled Best Parameters:   {'alpha': 0.01, 'class_weight': None}\n"
          ]
        }
      ],
      "source": [
        "sgd_under_best_parameters = sgd_under_grid_search.best_params_\n",
        "print('Stochastic Gradient Descent - Undersampled Best Parameters:  ', sgd_under_best_parameters)"
      ]
    },
    {
      "cell_type": "code",
      "execution_count": 89,
      "metadata": {
        "id": "5pTowKJkc-Tq"
      },
      "outputs": [
        {
          "data": {
            "text/html": [
              "<div>\n",
              "<style scoped>\n",
              "    .dataframe tbody tr th:only-of-type {\n",
              "        vertical-align: middle;\n",
              "    }\n",
              "\n",
              "    .dataframe tbody tr th {\n",
              "        vertical-align: top;\n",
              "    }\n",
              "\n",
              "    .dataframe thead th {\n",
              "        text-align: right;\n",
              "    }\n",
              "</style>\n",
              "<table border=\"1\" class=\"dataframe\">\n",
              "  <thead>\n",
              "    <tr style=\"text-align: right;\">\n",
              "      <th></th>\n",
              "      <th>Model</th>\n",
              "      <th>Accuracy</th>\n",
              "      <th>Precision</th>\n",
              "      <th>Recall</th>\n",
              "      <th>F1-Score</th>\n",
              "      <th>ROC</th>\n",
              "    </tr>\n",
              "  </thead>\n",
              "  <tbody>\n",
              "    <tr>\n",
              "      <th>0</th>\n",
              "      <td>SGD - Undersampled</td>\n",
              "      <td>0.779111</td>\n",
              "      <td>0.500703</td>\n",
              "      <td>0.536916</td>\n",
              "      <td>0.518177</td>\n",
              "      <td>0.692413</td>\n",
              "    </tr>\n",
              "  </tbody>\n",
              "</table>\n",
              "</div>"
            ],
            "text/plain": [
              "                Model  Accuracy  Precision    Recall  F1-Score       ROC\n",
              "0  SGD - Undersampled  0.779111   0.500703  0.536916  0.518177  0.692413"
            ]
          },
          "execution_count": 89,
          "metadata": {},
          "output_type": "execute_result"
        }
      ],
      "source": [
        "tuned_sgd_under = sgd_under_grid_search.predict(X_test)\n",
        "\n",
        "sgd_prob = sgd_grid_search.predict_proba(X_test)\n",
        "\n",
        "sgd_under_roc=roc_auc_score(y_test, tuned_sgd_under)\n",
        "sgd_under_acc = accuracy_score(y_test, tuned_sgd_under)\n",
        "sgd_under_prec = precision_score(y_test, tuned_sgd_under)\n",
        "sgd_under_rec = recall_score(y_test, tuned_sgd_under)\n",
        "sgd_under_f1 = f1_score(y_test, tuned_sgd_under)\n",
        "sgd_under_result = pd.DataFrame([['SGD - Undersampled', sgd_under_acc, sgd_under_prec, sgd_under_rec, sgd_under_f1, sgd_under_roc]],\n",
        "               columns = ['Model', 'Accuracy', 'Precision', 'Recall', 'F1-Score', 'ROC'])\n",
        "#model_results = model_results.append(model, ignore_index = True)\n",
        "sgd_under_result"
      ]
    },
    {
      "cell_type": "markdown",
      "metadata": {
        "id": "2qshiSKbdEKZ"
      },
      "source": [
        "Stochastic Gradient Descent - Oversampling\n"
      ]
    },
    {
      "cell_type": "code",
      "execution_count": 90,
      "metadata": {
        "id": "fE4QnYvqdEew"
      },
      "outputs": [
        {
          "name": "stdout",
          "output_type": "stream",
          "text": [
            "Accuracy on Cross Validation set : 0.7036686028737389\n"
          ]
        }
      ],
      "source": [
        "sgd_parameters = {'alpha': [0.0001, 0.001, 0.01, 0.1, 1.0, 5.0], 'class_weight': [None, 'balanced']}\n",
        "sgd_over_grid_search = GridSearchCV(estimator = sgd, param_grid = sgd_parameters, scoring = 'accuracy', cv = 5, n_jobs = -1)\n",
        "sgd_over_grid_search = sgd_over_grid_search.fit(X_train_over, y_train_over)\n",
        "\n",
        "sgd_over_best_accuracy = sgd_over_grid_search.best_score_\n",
        "print('Accuracy on Cross Validation set :', sgd_over_best_accuracy)"
      ]
    },
    {
      "cell_type": "code",
      "execution_count": 91,
      "metadata": {
        "colab": {
          "base_uri": "https://localhost:8080/"
        },
        "id": "i2ilKSlrdEey",
        "outputId": "c2e8e138-bc1b-4e5a-98d4-5f49dbba38b2"
      },
      "outputs": [
        {
          "name": "stdout",
          "output_type": "stream",
          "text": [
            "Stochastic Gradient Descent - Oversampled Best Parameters:   {'alpha': 0.001, 'class_weight': None}\n"
          ]
        }
      ],
      "source": [
        "sgd_over_best_parameters = sgd_over_grid_search.best_params_\n",
        "print('Stochastic Gradient Descent - Oversampled Best Parameters:  ', sgd_over_best_parameters)"
      ]
    },
    {
      "cell_type": "code",
      "execution_count": 92,
      "metadata": {
        "id": "FAiMGx1udEe0"
      },
      "outputs": [
        {
          "data": {
            "text/html": [
              "<div>\n",
              "<style scoped>\n",
              "    .dataframe tbody tr th:only-of-type {\n",
              "        vertical-align: middle;\n",
              "    }\n",
              "\n",
              "    .dataframe tbody tr th {\n",
              "        vertical-align: top;\n",
              "    }\n",
              "\n",
              "    .dataframe thead th {\n",
              "        text-align: right;\n",
              "    }\n",
              "</style>\n",
              "<table border=\"1\" class=\"dataframe\">\n",
              "  <thead>\n",
              "    <tr style=\"text-align: right;\">\n",
              "      <th></th>\n",
              "      <th>Model</th>\n",
              "      <th>Accuracy</th>\n",
              "      <th>Precision</th>\n",
              "      <th>Recall</th>\n",
              "      <th>F1-Score</th>\n",
              "      <th>ROC</th>\n",
              "    </tr>\n",
              "  </thead>\n",
              "  <tbody>\n",
              "    <tr>\n",
              "      <th>0</th>\n",
              "      <td>SGD - Oversampled</td>\n",
              "      <td>0.765111</td>\n",
              "      <td>0.474105</td>\n",
              "      <td>0.565545</td>\n",
              "      <td>0.515804</td>\n",
              "      <td>0.693673</td>\n",
              "    </tr>\n",
              "  </tbody>\n",
              "</table>\n",
              "</div>"
            ],
            "text/plain": [
              "               Model  Accuracy  Precision    Recall  F1-Score       ROC\n",
              "0  SGD - Oversampled  0.765111   0.474105  0.565545  0.515804  0.693673"
            ]
          },
          "execution_count": 92,
          "metadata": {},
          "output_type": "execute_result"
        }
      ],
      "source": [
        "tuned_sgd_over = sgd_over_grid_search.predict(X_test)\n",
        "\n",
        "sgd_prob = sgd_grid_search.predict_proba(X_test)\n",
        "\n",
        "sgd_over_roc = roc_auc_score(y_test, tuned_sgd_over)\n",
        "sgd_over_acc = accuracy_score(y_test, tuned_sgd_over)\n",
        "sgd_over_prec = precision_score(y_test, tuned_sgd_over)\n",
        "sgd_over_rec = recall_score(y_test, tuned_sgd_over)\n",
        "sgd_over_f1 = f1_score(y_test, tuned_sgd_over)\n",
        "sgd_over_result = pd.DataFrame([['SGD - Oversampled', sgd_over_acc, sgd_over_prec, sgd_over_rec, sgd_over_f1, sgd_over_roc]],\n",
        "               columns = ['Model', 'Accuracy', 'Precision', 'Recall', 'F1-Score', 'ROC'])\n",
        "#model_results = model_results.append(model, ignore_index = True)\n",
        "sgd_over_result"
      ]
    },
    {
      "cell_type": "markdown",
      "metadata": {
        "id": "U7q0aVc1JevE"
      },
      "source": [
        "Naive Bayes - Undersampling "
      ]
    },
    {
      "cell_type": "code",
      "execution_count": 93,
      "metadata": {
        "id": "613ivF5mJevW"
      },
      "outputs": [
        {
          "name": "stdout",
          "output_type": "stream",
          "text": [
            "Accuracy on Cross Validation set: 0.7001076426264801\n"
          ]
        }
      ],
      "source": [
        "# https://www.analyticsvidhya.com/blog/2021/01/gaussian-naive-bayes-with-hyperpameter-tuning/\n",
        "nb_parameters = {'var_smoothing': np.logspace(0, -9, num = 100)}\n",
        "nb_under_grid_search = GridSearchCV(estimator = naivebayes, param_grid = nb_parameters, scoring = 'accuracy', cv = 5, n_jobs = -1)\n",
        "nb_under_grid_search = nb_under_grid_search.fit(X_train_under, y_train_under)\n",
        "\n",
        "nb_under_best_accuracy = nb_under_grid_search.best_score_\n",
        "print('Accuracy on Cross Validation set:', nb_under_best_accuracy)"
      ]
    },
    {
      "cell_type": "code",
      "execution_count": 94,
      "metadata": {
        "colab": {
          "base_uri": "https://localhost:8080/"
        },
        "id": "0ll9Tw6dJevY",
        "outputId": "9f21fd75-157d-429a-be0d-e5dff161ba7d"
      },
      "outputs": [
        {
          "name": "stdout",
          "output_type": "stream",
          "text": [
            "Naive Bayes - Undersampled Best Parameters:   {'var_smoothing': 0.003511191734215131}\n"
          ]
        }
      ],
      "source": [
        "nb_under_best_parameters = nb_under_grid_search.best_params_\n",
        "print('Naive Bayes - Undersampled Best Parameters:  ', nb_under_best_parameters)"
      ]
    },
    {
      "cell_type": "code",
      "execution_count": 95,
      "metadata": {
        "id": "jWykEAItJevZ"
      },
      "outputs": [
        {
          "data": {
            "text/html": [
              "<div>\n",
              "<style scoped>\n",
              "    .dataframe tbody tr th:only-of-type {\n",
              "        vertical-align: middle;\n",
              "    }\n",
              "\n",
              "    .dataframe tbody tr th {\n",
              "        vertical-align: top;\n",
              "    }\n",
              "\n",
              "    .dataframe thead th {\n",
              "        text-align: right;\n",
              "    }\n",
              "</style>\n",
              "<table border=\"1\" class=\"dataframe\">\n",
              "  <thead>\n",
              "    <tr style=\"text-align: right;\">\n",
              "      <th></th>\n",
              "      <th>Model</th>\n",
              "      <th>Accuracy</th>\n",
              "      <th>Precision</th>\n",
              "      <th>Recall</th>\n",
              "      <th>F1-Score</th>\n",
              "      <th>ROC</th>\n",
              "    </tr>\n",
              "  </thead>\n",
              "  <tbody>\n",
              "    <tr>\n",
              "      <th>0</th>\n",
              "      <td>Naive Bayes - Undersampled</td>\n",
              "      <td>0.746222</td>\n",
              "      <td>0.442661</td>\n",
              "      <td>0.568056</td>\n",
              "      <td>0.49758</td>\n",
              "      <td>0.682444</td>\n",
              "    </tr>\n",
              "  </tbody>\n",
              "</table>\n",
              "</div>"
            ],
            "text/plain": [
              "                        Model  Accuracy  Precision    Recall  F1-Score  \\\n",
              "0  Naive Bayes - Undersampled  0.746222   0.442661  0.568056   0.49758   \n",
              "\n",
              "        ROC  \n",
              "0  0.682444  "
            ]
          },
          "execution_count": 95,
          "metadata": {},
          "output_type": "execute_result"
        }
      ],
      "source": [
        "tuned_nb_under = nb_under_grid_search.predict(X_test)\n",
        "\n",
        "nb_prob_under = nb_under_grid_search.predict_proba(X_test)\n",
        "\n",
        "nb_under_acc = accuracy_score(y_test, tuned_nb_under)\n",
        "nb_under_prec = precision_score(y_test, tuned_nb_under)\n",
        "nb_under_rec = recall_score(y_test, tuned_nb_under)\n",
        "nb_under_f1 = f1_score(y_test, tuned_nb_under)\n",
        "nb_under_roc = roc_auc_score(y_test, tuned_nb_under)\n",
        "nb_under_result = pd.DataFrame([['Naive Bayes - Undersampled', nb_under_acc, nb_under_prec, nb_under_rec, nb_under_f1, nb_under_roc]],\n",
        "               columns = ['Model', 'Accuracy', 'Precision', 'Recall', 'F1-Score', 'ROC'])\n",
        "\n",
        "nb_under_result"
      ]
    },
    {
      "cell_type": "markdown",
      "metadata": {
        "id": "wKdXTEdJNh2p"
      },
      "source": [
        "Naive Bayes - Oversampling"
      ]
    },
    {
      "cell_type": "code",
      "execution_count": 96,
      "metadata": {
        "id": "91hgo_J1NgDI"
      },
      "outputs": [
        {
          "name": "stdout",
          "output_type": "stream",
          "text": [
            "Accuracy on Cross Validation set: 0.7001076426264801\n"
          ]
        }
      ],
      "source": [
        "# https://www.analyticsvidhya.com/blog/2021/01/gaussian-naive-bayes-with-hyperpameter-tuning/\n",
        "nb_parameters = {'var_smoothing': np.logspace(0, -9, num = 100)}\n",
        "nb_over_grid_search = GridSearchCV(estimator = naivebayes, param_grid = nb_parameters, scoring = 'accuracy', cv = 5, n_jobs = -1)\n",
        "nb_over_grid_search = nb_over_grid_search.fit(X_train_under, y_train_under)\n",
        "\n",
        "nb_over_best_accuracy = nb_over_grid_search.best_score_\n",
        "print('Accuracy on Cross Validation set:', nb_over_best_accuracy)"
      ]
    },
    {
      "cell_type": "code",
      "execution_count": 97,
      "metadata": {
        "colab": {
          "base_uri": "https://localhost:8080/"
        },
        "id": "l2kbdSOQNgDJ",
        "outputId": "ba27bab7-f349-435f-ef39-f712b5b54fb3"
      },
      "outputs": [
        {
          "name": "stdout",
          "output_type": "stream",
          "text": [
            "Naive Bayes - Oversampled Best Parameters:   {'var_smoothing': 0.003511191734215131}\n"
          ]
        }
      ],
      "source": [
        "nb_over_best_parameters = nb_over_grid_search.best_params_\n",
        "print('Naive Bayes - Oversampled Best Parameters:  ', nb_over_best_parameters)"
      ]
    },
    {
      "cell_type": "code",
      "execution_count": 98,
      "metadata": {
        "id": "CHbzQK0FNgDK"
      },
      "outputs": [
        {
          "data": {
            "text/html": [
              "<div>\n",
              "<style scoped>\n",
              "    .dataframe tbody tr th:only-of-type {\n",
              "        vertical-align: middle;\n",
              "    }\n",
              "\n",
              "    .dataframe tbody tr th {\n",
              "        vertical-align: top;\n",
              "    }\n",
              "\n",
              "    .dataframe thead th {\n",
              "        text-align: right;\n",
              "    }\n",
              "</style>\n",
              "<table border=\"1\" class=\"dataframe\">\n",
              "  <thead>\n",
              "    <tr style=\"text-align: right;\">\n",
              "      <th></th>\n",
              "      <th>Model</th>\n",
              "      <th>Accuracy</th>\n",
              "      <th>Precision</th>\n",
              "      <th>Recall</th>\n",
              "      <th>F1-Score</th>\n",
              "      <th>ROC</th>\n",
              "    </tr>\n",
              "  </thead>\n",
              "  <tbody>\n",
              "    <tr>\n",
              "      <th>0</th>\n",
              "      <td>Naive Bayes - Oversampled</td>\n",
              "      <td>0.746222</td>\n",
              "      <td>0.442661</td>\n",
              "      <td>0.568056</td>\n",
              "      <td>0.49758</td>\n",
              "      <td>0.682444</td>\n",
              "    </tr>\n",
              "  </tbody>\n",
              "</table>\n",
              "</div>"
            ],
            "text/plain": [
              "                       Model  Accuracy  Precision    Recall  F1-Score  \\\n",
              "0  Naive Bayes - Oversampled  0.746222   0.442661  0.568056   0.49758   \n",
              "\n",
              "        ROC  \n",
              "0  0.682444  "
            ]
          },
          "execution_count": 98,
          "metadata": {},
          "output_type": "execute_result"
        }
      ],
      "source": [
        "tuned_nb_over = nb_over_grid_search.predict(X_test)\n",
        "\n",
        "nb_prob_over = nb_over_grid_search.predict_proba(X_test)\n",
        "\n",
        "nb_over_acc = accuracy_score(y_test, tuned_nb_over)\n",
        "nb_over_prec = precision_score(y_test, tuned_nb_over)\n",
        "nb_over_rec = recall_score(y_test, tuned_nb_over)\n",
        "nb_over_f1 = f1_score(y_test, tuned_nb_over)\n",
        "nb_over_roc = roc_auc_score(y_test, tuned_nb_over)\n",
        "nb_over_result = pd.DataFrame([['Naive Bayes - Oversampled', nb_over_acc, nb_over_prec, nb_over_rec, nb_over_f1, nb_over_roc]],\n",
        "               columns = ['Model', 'Accuracy', 'Precision', 'Recall', 'F1-Score', 'ROC'])\n",
        "\n",
        "nb_over_result"
      ]
    },
    {
      "cell_type": "markdown",
      "metadata": {},
      "source": [
        "### Results of Oversampling / Undersampling Method"
      ]
    },
    {
      "cell_type": "code",
      "execution_count": 99,
      "metadata": {},
      "outputs": [
        {
          "data": {
            "text/html": [
              "<style type=\"text/css\">\n",
              "</style>\n",
              "<table id=\"T_7c91f\">\n",
              "  <caption>Model Results after Random Oversampling Method</caption>\n",
              "  <thead>\n",
              "    <tr>\n",
              "      <th class=\"blank level0\" >&nbsp;</th>\n",
              "      <th id=\"T_7c91f_level0_col0\" class=\"col_heading level0 col0\" >Model</th>\n",
              "      <th id=\"T_7c91f_level0_col1\" class=\"col_heading level0 col1\" >Accuracy</th>\n",
              "      <th id=\"T_7c91f_level0_col2\" class=\"col_heading level0 col2\" >Precision</th>\n",
              "      <th id=\"T_7c91f_level0_col3\" class=\"col_heading level0 col3\" >Recall</th>\n",
              "      <th id=\"T_7c91f_level0_col4\" class=\"col_heading level0 col4\" >F1-Score</th>\n",
              "      <th id=\"T_7c91f_level0_col5\" class=\"col_heading level0 col5\" >ROC</th>\n",
              "    </tr>\n",
              "  </thead>\n",
              "  <tbody>\n",
              "    <tr>\n",
              "      <th id=\"T_7c91f_level0_row0\" class=\"row_heading level0 row0\" >0</th>\n",
              "      <td id=\"T_7c91f_row0_col0\" class=\"data row0 col0\" >SVM - Oversampled</td>\n",
              "      <td id=\"T_7c91f_row0_col1\" class=\"data row0 col1\" >0.755222</td>\n",
              "      <td id=\"T_7c91f_row0_col2\" class=\"data row0 col2\" >0.455980</td>\n",
              "      <td id=\"T_7c91f_row0_col3\" class=\"data row0 col3\" >0.551482</td>\n",
              "      <td id=\"T_7c91f_row0_col4\" class=\"data row0 col4\" >0.499204</td>\n",
              "      <td id=\"T_7c91f_row0_col5\" class=\"data row0 col5\" >0.682290</td>\n",
              "    </tr>\n",
              "    <tr>\n",
              "      <th id=\"T_7c91f_level0_row1\" class=\"row_heading level0 row1\" >0</th>\n",
              "      <td id=\"T_7c91f_row1_col0\" class=\"data row1 col0\" >KNN - Oversampled</td>\n",
              "      <td id=\"T_7c91f_row1_col1\" class=\"data row1 col1\" >0.732778</td>\n",
              "      <td id=\"T_7c91f_row1_col2\" class=\"data row1 col2\" >0.394817</td>\n",
              "      <td id=\"T_7c91f_row1_col3\" class=\"data row1 col3\" >0.390256</td>\n",
              "      <td id=\"T_7c91f_row1_col4\" class=\"data row1 col4\" >0.392523</td>\n",
              "      <td id=\"T_7c91f_row1_col5\" class=\"data row1 col5\" >0.610166</td>\n",
              "    </tr>\n",
              "    <tr>\n",
              "      <th id=\"T_7c91f_level0_row2\" class=\"row_heading level0 row2\" >0</th>\n",
              "      <td id=\"T_7c91f_row2_col0\" class=\"data row2 col0\" >Decision Tree - Oversampled</td>\n",
              "      <td id=\"T_7c91f_row2_col1\" class=\"data row2 col1\" >0.741778</td>\n",
              "      <td id=\"T_7c91f_row2_col2\" class=\"data row2 col2\" >0.435739</td>\n",
              "      <td id=\"T_7c91f_row2_col3\" class=\"data row2 col3\" >0.567052</td>\n",
              "      <td id=\"T_7c91f_row2_col4\" class=\"data row2 col4\" >0.492798</td>\n",
              "      <td id=\"T_7c91f_row2_col5\" class=\"data row2 col5\" >0.679231</td>\n",
              "    </tr>\n",
              "    <tr>\n",
              "      <th id=\"T_7c91f_level0_row3\" class=\"row_heading level0 row3\" >0</th>\n",
              "      <td id=\"T_7c91f_row3_col0\" class=\"data row3 col0\" >Logistic Regression - Oversampled</td>\n",
              "      <td id=\"T_7c91f_row3_col1\" class=\"data row3 col1\" >0.776333</td>\n",
              "      <td id=\"T_7c91f_row3_col2\" class=\"data row3 col2\" >0.495009</td>\n",
              "      <td id=\"T_7c91f_row3_col3\" class=\"data row3 col3\" >0.547966</td>\n",
              "      <td id=\"T_7c91f_row3_col4\" class=\"data row3 col4\" >0.520143</td>\n",
              "      <td id=\"T_7c91f_row3_col5\" class=\"data row3 col5\" >0.694585</td>\n",
              "    </tr>\n",
              "    <tr>\n",
              "      <th id=\"T_7c91f_level0_row4\" class=\"row_heading level0 row4\" >0</th>\n",
              "      <td id=\"T_7c91f_row4_col0\" class=\"data row4 col0\" >Naive Bayes - Oversampled</td>\n",
              "      <td id=\"T_7c91f_row4_col1\" class=\"data row4 col1\" >0.746222</td>\n",
              "      <td id=\"T_7c91f_row4_col2\" class=\"data row4 col2\" >0.442661</td>\n",
              "      <td id=\"T_7c91f_row4_col3\" class=\"data row4 col3\" >0.568056</td>\n",
              "      <td id=\"T_7c91f_row4_col4\" class=\"data row4 col4\" >0.497580</td>\n",
              "      <td id=\"T_7c91f_row4_col5\" class=\"data row4 col5\" >0.682444</td>\n",
              "    </tr>\n",
              "    <tr>\n",
              "      <th id=\"T_7c91f_level0_row5\" class=\"row_heading level0 row5\" >0</th>\n",
              "      <td id=\"T_7c91f_row5_col0\" class=\"data row5 col0\" >SGD - Oversampled</td>\n",
              "      <td id=\"T_7c91f_row5_col1\" class=\"data row5 col1\" >0.765111</td>\n",
              "      <td id=\"T_7c91f_row5_col2\" class=\"data row5 col2\" >0.474105</td>\n",
              "      <td id=\"T_7c91f_row5_col3\" class=\"data row5 col3\" >0.565545</td>\n",
              "      <td id=\"T_7c91f_row5_col4\" class=\"data row5 col4\" >0.515804</td>\n",
              "      <td id=\"T_7c91f_row5_col5\" class=\"data row5 col5\" >0.693673</td>\n",
              "    </tr>\n",
              "  </tbody>\n",
              "</table>\n"
            ],
            "text/plain": [
              "<pandas.io.formats.style.Styler at 0x159000d00>"
            ]
          },
          "execution_count": 99,
          "metadata": {},
          "output_type": "execute_result"
        }
      ],
      "source": [
        "oversampled = pd.concat([svm_over_result, knn_over_result, dt_over_result, lr_over_result, nb_over_result, sgd_over_result], axis=0)\n",
        "oversampled = oversampled.style.set_caption('Model Results after Random Oversampling Method')\n",
        "oversampled"
      ]
    },
    {
      "cell_type": "code",
      "execution_count": 100,
      "metadata": {},
      "outputs": [
        {
          "data": {
            "text/html": [
              "<style type=\"text/css\">\n",
              "</style>\n",
              "<table id=\"T_b0d84\">\n",
              "  <caption>Model Results after Random Undersampling Method</caption>\n",
              "  <thead>\n",
              "    <tr>\n",
              "      <th class=\"blank level0\" >&nbsp;</th>\n",
              "      <th id=\"T_b0d84_level0_col0\" class=\"col_heading level0 col0\" >Model</th>\n",
              "      <th id=\"T_b0d84_level0_col1\" class=\"col_heading level0 col1\" >Accuracy</th>\n",
              "      <th id=\"T_b0d84_level0_col2\" class=\"col_heading level0 col2\" >Precision</th>\n",
              "      <th id=\"T_b0d84_level0_col3\" class=\"col_heading level0 col3\" >Recall</th>\n",
              "      <th id=\"T_b0d84_level0_col4\" class=\"col_heading level0 col4\" >F1-Score</th>\n",
              "      <th id=\"T_b0d84_level0_col5\" class=\"col_heading level0 col5\" >ROC</th>\n",
              "    </tr>\n",
              "  </thead>\n",
              "  <tbody>\n",
              "    <tr>\n",
              "      <th id=\"T_b0d84_level0_row0\" class=\"row_heading level0 row0\" >0</th>\n",
              "      <td id=\"T_b0d84_row0_col0\" class=\"data row0 col0\" >SVM - Undersampled</td>\n",
              "      <td id=\"T_b0d84_row0_col1\" class=\"data row0 col1\" >0.750444</td>\n",
              "      <td id=\"T_b0d84_row0_col2\" class=\"data row0 col2\" >0.451502</td>\n",
              "      <td id=\"T_b0d84_row0_col3\" class=\"data row0 col3\" >0.596183</td>\n",
              "      <td id=\"T_b0d84_row0_col4\" class=\"data row0 col4\" >0.513853</td>\n",
              "      <td id=\"T_b0d84_row0_col5\" class=\"data row0 col5\" >0.695224</td>\n",
              "    </tr>\n",
              "    <tr>\n",
              "      <th id=\"T_b0d84_level0_row1\" class=\"row_heading level0 row1\" >0</th>\n",
              "      <td id=\"T_b0d84_row1_col0\" class=\"data row1 col0\" >KNN - Undersampled</td>\n",
              "      <td id=\"T_b0d84_row1_col1\" class=\"data row1 col1\" >0.747111</td>\n",
              "      <td id=\"T_b0d84_row1_col2\" class=\"data row1 col2\" >0.444183</td>\n",
              "      <td id=\"T_b0d84_row1_col3\" class=\"data row1 col3\" >0.569563</td>\n",
              "      <td id=\"T_b0d84_row1_col4\" class=\"data row1 col4\" >0.499120</td>\n",
              "      <td id=\"T_b0d84_row1_col5\" class=\"data row1 col5\" >0.683555</td>\n",
              "    </tr>\n",
              "    <tr>\n",
              "      <th id=\"T_b0d84_level0_row2\" class=\"row_heading level0 row2\" >0</th>\n",
              "      <td id=\"T_b0d84_row2_col0\" class=\"data row2 col0\" >Decision Tree - Undersampled</td>\n",
              "      <td id=\"T_b0d84_row2_col1\" class=\"data row2 col1\" >0.769889</td>\n",
              "      <td id=\"T_b0d84_row2_col2\" class=\"data row2 col2\" >0.482332</td>\n",
              "      <td id=\"T_b0d84_row2_col3\" class=\"data row2 col3\" >0.548468</td>\n",
              "      <td id=\"T_b0d84_row2_col4\" class=\"data row2 col4\" >0.513278</td>\n",
              "      <td id=\"T_b0d84_row2_col5\" class=\"data row2 col5\" >0.690627</td>\n",
              "    </tr>\n",
              "    <tr>\n",
              "      <th id=\"T_b0d84_level0_row3\" class=\"row_heading level0 row3\" >0</th>\n",
              "      <td id=\"T_b0d84_row3_col0\" class=\"data row3 col0\" >Logistic Regression - Undersampled</td>\n",
              "      <td id=\"T_b0d84_row3_col1\" class=\"data row3 col1\" >0.776000</td>\n",
              "      <td id=\"T_b0d84_row3_col2\" class=\"data row3 col2\" >0.494346</td>\n",
              "      <td id=\"T_b0d84_row3_col3\" class=\"data row3 col3\" >0.548970</td>\n",
              "      <td id=\"T_b0d84_row3_col4\" class=\"data row3 col4\" >0.520228</td>\n",
              "      <td id=\"T_b0d84_row3_col5\" class=\"data row3 col5\" >0.694731</td>\n",
              "    </tr>\n",
              "    <tr>\n",
              "      <th id=\"T_b0d84_level0_row4\" class=\"row_heading level0 row4\" >0</th>\n",
              "      <td id=\"T_b0d84_row4_col0\" class=\"data row4 col0\" >Naive Bayes - Undersampled</td>\n",
              "      <td id=\"T_b0d84_row4_col1\" class=\"data row4 col1\" >0.746222</td>\n",
              "      <td id=\"T_b0d84_row4_col2\" class=\"data row4 col2\" >0.442661</td>\n",
              "      <td id=\"T_b0d84_row4_col3\" class=\"data row4 col3\" >0.568056</td>\n",
              "      <td id=\"T_b0d84_row4_col4\" class=\"data row4 col4\" >0.497580</td>\n",
              "      <td id=\"T_b0d84_row4_col5\" class=\"data row4 col5\" >0.682444</td>\n",
              "    </tr>\n",
              "    <tr>\n",
              "      <th id=\"T_b0d84_level0_row5\" class=\"row_heading level0 row5\" >0</th>\n",
              "      <td id=\"T_b0d84_row5_col0\" class=\"data row5 col0\" >SGD - Undersampled</td>\n",
              "      <td id=\"T_b0d84_row5_col1\" class=\"data row5 col1\" >0.779111</td>\n",
              "      <td id=\"T_b0d84_row5_col2\" class=\"data row5 col2\" >0.500703</td>\n",
              "      <td id=\"T_b0d84_row5_col3\" class=\"data row5 col3\" >0.536916</td>\n",
              "      <td id=\"T_b0d84_row5_col4\" class=\"data row5 col4\" >0.518177</td>\n",
              "      <td id=\"T_b0d84_row5_col5\" class=\"data row5 col5\" >0.692413</td>\n",
              "    </tr>\n",
              "  </tbody>\n",
              "</table>\n"
            ],
            "text/plain": [
              "<pandas.io.formats.style.Styler at 0x1586d4a60>"
            ]
          },
          "execution_count": 100,
          "metadata": {},
          "output_type": "execute_result"
        }
      ],
      "source": [
        "undersampled = pd.concat([svm_under_result, knn_under_result, dt_under_result, lr_under_result, nb_under_result, sgd_under_result], axis=0)\n",
        "undersampled = undersampled.style.set_caption('Model Results after Random Undersampling Method')\n",
        "undersampled"
      ]
    }
  ],
  "metadata": {
    "colab": {
      "collapsed_sections": [
        "DV8rOB_5AqkL"
      ],
      "name": "IDS 575 Final Project as of Nov 29",
      "provenance": []
    },
    "interpreter": {
      "hash": "8727adf4aa53214fa7360f806c6e3b0691f464e62fa89d4608dc3a552b243c6b"
    },
    "kernelspec": {
      "display_name": "Python 3.10.4 ('creditcard')",
      "language": "python",
      "name": "python3"
    },
    "language_info": {
      "codemirror_mode": {
        "name": "ipython",
        "version": 3
      },
      "file_extension": ".py",
      "mimetype": "text/x-python",
      "name": "python",
      "nbconvert_exporter": "python",
      "pygments_lexer": "ipython3",
      "version": "3.10.5"
    }
  },
  "nbformat": 4,
  "nbformat_minor": 0
}
